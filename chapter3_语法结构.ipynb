{
 "cells": [
  {
   "cell_type": "markdown",
   "metadata": {},
   "source": [
    "# 语法结构\n",
    "\n",
    "    Python中通常需要检查一系列条件，并据此决定采取什么样的措施。本章主要学习if等语法结构。"
   ]
  },
  {
   "cell_type": "markdown",
   "metadata": {},
   "source": [
    "## 3.1 if 语句"
   ]
  },
  {
   "cell_type": "markdown",
   "metadata": {},
   "source": [
    "### 3.1.1 基本条件测试\n",
    "    每条if语句的核心都是一个值为True或False的表达式，这种表达式被称为条件测试。"
   ]
  },
  {
   "cell_type": "code",
   "execution_count": null,
   "metadata": {},
   "outputs": [],
   "source": [
    "#检查是否相等 :\n",
    "car = 'bmw' \n",
    "print(car =='bmw')\n",
    "\n",
    "car = 'audi' \n",
    "print(car == 'bmw')"
   ]
  },
  {
   "cell_type": "code",
   "execution_count": null,
   "metadata": {},
   "outputs": [],
   "source": [
    "#在Python中检查是否相等时区分大小写，例如，两个大小写不同的值会被视为不相等： \n",
    "car = 'Audi' \n",
    "car == 'audi' "
   ]
  },
  {
   "cell_type": "code",
   "execution_count": null,
   "metadata": {},
   "outputs": [],
   "source": [
    "#检查多个条件 :and, or\n",
    "age_0 = 22 \n",
    "age_1 = 18\n",
    "print(age_0 >= 21 and age_1 >= 21 )\n",
    "print(age_0 >= 21 or age_1 >= 21)  "
   ]
  },
  {
   "cell_type": "code",
   "execution_count": null,
   "metadata": {},
   "outputs": [],
   "source": [
    "# 检查特定值是否包含在列表中 \n",
    "vote_persons=['A','B','C']\n",
    "user='D'\n",
    "if user not in vote_persons:\n",
    "    print(user+'，你不在投票人员列表里')"
   ]
  },
  {
   "cell_type": "code",
   "execution_count": null,
   "metadata": {},
   "outputs": [],
   "source": [
    "#Python 根据条件测试的值为True还是False来决定是否执行if语句中的代码。如果条件测试的值为True， Python就执行紧跟在if语句后面的代码；如果为False，Python就忽略这些代码。\n",
    "age = 19\n",
    "if age >= 18:\n",
    "    print('你已经可以投票了！')\n",
    "# 注意：if后面跟布尔表达式（值只能是True或False）。注意:号和缩进。"
   ]
  },
  {
   "cell_type": "code",
   "execution_count": null,
   "metadata": {},
   "outputs": [],
   "source": [
    "练习：编写一些条件测试\n",
    "      例如：car = 'subaru' \n",
    "            print(\"Is car == 'subaru'? I predict True.\") \n",
    "            print(car == 'subaru') \n",
    "            print(\"\\nIs car == 'audi'? I predict False.\") \n",
    "            print(car == 'audi')"
   ]
  },
  {
   "cell_type": "markdown",
   "metadata": {},
   "source": [
    "### 3.1.2 基本if结构\n",
    "    最简单的if语句只有一个测试和一个操作：\n",
    "    if conditional_test:\n",
    "        do something"
   ]
  },
  {
   "cell_type": "markdown",
   "metadata": {},
   "source": [
    "### 3.1.3 if-else语句"
   ]
  },
  {
   "cell_type": "code",
   "execution_count": null,
   "metadata": {},
   "outputs": [],
   "source": [
    "# if-else:\n",
    "age = 17\n",
    "if age >= 18:\n",
    "    print('你已经可以已投票了！')\n",
    "else:\n",
    "    print('对不起，你未达到投票最低年龄')"
   ]
  },
  {
   "cell_type": "markdown",
   "metadata": {},
   "source": [
    "### 3.1.4 if-elif-else"
   ]
  },
  {
   "cell_type": "code",
   "execution_count": null,
   "metadata": {},
   "outputs": [],
   "source": [
    "age = 12\n",
    "if age < 4:\n",
    "    print('免费.')\n",
    "elif age < 18:\n",
    "    print('票价5元.')\n",
    "elif age < 65:\n",
    "    print('票价十元')\n",
    "else:\n",
    "    print('票价五元')    "
   ]
  },
  {
   "cell_type": "markdown",
   "metadata": {},
   "source": [
    "### 3.1.5 使用if语句处理列表"
   ]
  },
  {
   "cell_type": "markdown",
   "metadata": {},
   "source": [
    "#### 例1 小球分类"
   ]
  },
  {
   "cell_type": "code",
   "execution_count": null,
   "metadata": {},
   "outputs": [],
   "source": [
    "# 用if语句检查列表中的特殊元素：\n",
    "balls = ['红球', '蓝球', '绿球']\n",
    "for t in balls:\n",
    "    if t == '红球':\n",
    "        print('你拿到的是红球，被分配到第一组.')\n",
    "    elif t=='蓝球':\n",
    "         print('你拿到的是蓝球，你被分配到第二组.')\n",
    "    elif t=='绿球':\n",
    "         print('你拿到的是绿球，你被分配到第三组.')"
   ]
  },
  {
   "cell_type": "markdown",
   "metadata": {},
   "source": [
    "#### 例2： 检查商品库存是否为空"
   ]
  },
  {
   "cell_type": "code",
   "execution_count": null,
   "metadata": {},
   "outputs": [],
   "source": [
    "# 用if语句检查列表是否为空：\n",
    "#制作披萨前检查顾客点的配料是不是空的，如果有就给他制作加了配料的披萨，没有说明顾客没有点配料\n",
    "requested_toppings = []\n",
    "\n",
    "if requested_toppings:  # 或者：len(requested_toppings) > 0\n",
    "    for t in requested_toppings:\n",
    "        print('加配料 ' + t + '.')\n",
    "    print('完成了你的披萨订单')\n",
    "else:\n",
    "    print('完成原味披萨的订单')\n"
   ]
  },
  {
   "cell_type": "code",
   "execution_count": 2,
   "metadata": {},
   "outputs": [
    {
     "name": "stdout",
     "output_type": "stream",
     "text": [
      "can not buy\n"
     ]
    }
   ],
   "source": [
    "goods=[]\n",
    "by='abc'\n",
    "if goods:    \n",
    "    if by in goods:\n",
    "        print('good can buy')\n",
    "    else:\n",
    "        print('can not buy')\n",
    "else:\n",
    "    print(' goods is empty')\n"
   ]
  },
  {
   "cell_type": "code",
   "execution_count": null,
   "metadata": {},
   "outputs": [],
   "source": [
    "## 练习：\n",
    "用户下单功能，如果有库存，把库存商品显示出来，供用户选择，如果没有，提示商品已售空"
   ]
  },
  {
   "cell_type": "code",
   "execution_count": 6,
   "metadata": {},
   "outputs": [
    {
     "name": "stdout",
     "output_type": "stream",
     "text": [
      "a\n",
      "b\n",
      "c\n"
     ]
    }
   ],
   "source": [
    "goods=['a','b','c']\n",
    "if goods:\n",
    "    for g in goods:\n",
    "        print(g)\n",
    "else:\n",
    "    print('已售空')"
   ]
  },
  {
   "cell_type": "markdown",
   "metadata": {},
   "source": [
    "### 3.1.6 使用多个列表"
   ]
  },
  {
   "cell_type": "markdown",
   "metadata": {},
   "source": [
    "#### 例3：\n",
    "定义两张列表，第一张列表是顾客提交来的配料表，第二张是店里已有的配料表，遍历顾客的配料需求，如果店里有就完成订单，没有的话提醒顾客店里没有这种配料"
   ]
  },
  {
   "cell_type": "code",
   "execution_count": null,
   "metadata": {},
   "outputs": [],
   "source": [
    "\n",
    "requested_toppings = ['番茄酱','青椒']\n",
    "available_toppings = ['青椒','火腿肠','芝士']\n",
    "for topping in requested_toppings:    \n",
    "    if topping in available_toppings:         \n",
    "        print( topping + \"配料可以添加\")        \n",
    "    else:       \n",
    "        print(\"对不起，我们没有配料 \" + topping + \"。\") "
   ]
  },
  {
   "cell_type": "markdown",
   "metadata": {},
   "source": [
    "#### 例4：检查用户名是否已经被注册\n",
    "创建一个至少包含3个用户名的列表1， 再创建一个包含3个用户名的列表2，并确保其中有一两个用户名也包含在列表 1 中。 遍历列表 2，对于其中的每个用户名，都检查它是否已被使用。如果是这样，就打印一条消息，指出需要输入别的用户名；否则，打印一条消息，指出这个用户名未被使用。"
   ]
  },
  {
   "cell_type": "code",
   "execution_count": 1,
   "metadata": {},
   "outputs": [
    {
     "name": "stdout",
     "output_type": "stream",
     "text": [
      "已被注册\n",
      "可以使用\n"
     ]
    }
   ],
   "source": [
    " \n",
    "list_1=['张三','李四','王五','李六']#已经注册的用户名\n",
    "names=['张三','陈齐']\n",
    "for name in names:\n",
    "    if name in list_1:\n",
    "        print('已被注册')\n",
    "    else:\n",
    "        print('可以使用')\n",
    "\n",
    "# list_2=['李四','陈七','郑八']#提交的用户名\n",
    "# for user in list_2:\n",
    "#     if user in list_1:\n",
    "#         print(user+'用户名已经使用，请换一个用户名')\n",
    "#     else:\n",
    "#         print(user+'用户名未被使用')"
   ]
  },
  {
   "cell_type": "markdown",
   "metadata": {},
   "source": [
    "### 练习：\n",
    "\n",
    "1.创建一个列表，其中包含你喜欢的水果，再编写一系列独立的if语句，检查列表中是否包含特定的水果。\n",
    "\n",
    "2.序数表示位置，如1st和2nd。大多数序数都以th结尾，只有1、2和3例外。\n",
    "在遍历存储了1到9这个数字列表时，使用一个if-elif-else结构，以打印每个数字对应的序数。输出内容应为1st、2nd、3rd、4th、5th、6th、7th、8th和9th，但每个序数都独占一行。"
   ]
  },
  {
   "cell_type": "code",
   "execution_count": 8,
   "metadata": {},
   "outputs": [
    {
     "name": "stdout",
     "output_type": "stream",
     "text": [
      "[1, 2, 3, 4, 5, 6, 7, 8, 9]\n",
      "1st\n",
      "2nd\n",
      "3rd\n",
      "4th\n",
      "5th\n",
      "6th\n",
      "7th\n",
      "8th\n",
      "9th\n"
     ]
    }
   ],
   "source": [
    "l=list(range(1,10))\n",
    "print(l)\n",
    "for i in l:\n",
    "    if i ==1:\n",
    "        print('1st')\n",
    "    elif i==2:\n",
    "        print('2nd')\n",
    "    elif i==3:\n",
    "        print('3rd')\n",
    "    else:\n",
    "        print(str(i)+'th')\n",
    "        "
   ]
  },
  {
   "cell_type": "code",
   "execution_count": 10,
   "metadata": {},
   "outputs": [
    {
     "name": "stdin",
     "output_type": "stream",
     "text": [
      "请输入数字： 20\n"
     ]
    },
    {
     "name": "stdout",
     "output_type": "stream",
     "text": [
      "20th\n"
     ]
    }
   ],
   "source": [
    "#利用input函数进行改造\n",
    "i=int(input('请输入数字：'))\n",
    "if i ==1:\n",
    "    print('1st')\n",
    "elif i==2:\n",
    "    print('2nd')\n",
    "elif i==3:\n",
    "    print('3rd')\n",
    "else:\n",
    "    print(str(i)+'th')\n",
    "    \n"
   ]
  },
  {
   "cell_type": "markdown",
   "metadata": {},
   "source": [
    "## 3.2 for循环\n"
   ]
  },
  {
   "cell_type": "markdown",
   "metadata": {},
   "source": [
    "for循环的语法格式如下：\n",
    "\n",
    "for iterating_var in sequence:\n",
    "\n",
    "       statements(s)"
   ]
  },
  {
   "attachments": {
    "ea17cb85-e8b7-4e52-9182-4dd454f126cd.png": {
     "image/png": "[encoded data removed]"
    }
   },
   "cell_type": "markdown",
   "metadata": {},
   "source": [
    "![image.png](attachment:ea17cb85-e8b7-4e52-9182-4dd454f126cd.png)"
   ]
  },
  {
   "cell_type": "code",
   "execution_count": 3,
   "metadata": {},
   "outputs": [
    {
     "name": "stdout",
     "output_type": "stream",
     "text": [
      "2550\n"
     ]
    }
   ],
   "source": [
    "# 求1-100以内的偶数之和\n",
    "sum = 0\n",
    "for i in range(2,101,2):\n",
    "    sum += i\n",
    "print(sum)"
   ]
  },
  {
   "cell_type": "code",
   "execution_count": 4,
   "metadata": {},
   "outputs": [
    {
     "name": "stdout",
     "output_type": "stream",
     "text": [
      "[1, 1, 2]\n",
      "[1, 1, 2, 3]\n",
      "[1, 1, 2, 3, 5]\n",
      "[1, 1, 2, 3, 5, 8]\n",
      "[1, 1, 2, 3, 5, 8, 13]\n",
      "[1, 1, 2, 3, 5, 8, 13, 21]\n",
      "[1, 1, 2, 3, 5, 8, 13, 21, 34]\n",
      "[1, 1, 2, 3, 5, 8, 13, 21, 34, 55]\n"
     ]
    }
   ],
   "source": [
    " #用for语句构造菲波那切数列：\n",
    "f_series = [1,1]  \n",
    "n=2\n",
    "for i in range(8):\n",
    "    f_series.append(f_series[n-2] + f_series[n-1])\n",
    "    n+=1\n",
    "    print(f_series)"
   ]
  },
  {
   "cell_type": "markdown",
   "metadata": {},
   "source": [
    "## 3.3 while 循环\n",
    "    for循环用于针对集合中的每个元素都执行一个代码块，而while循环则不断运行，知道指定条件不满足为止。\n",
    "    \n",
    "    基本结构为：\n",
    "    while condition:\n",
    "        statement()"
   ]
  },
  {
   "cell_type": "code",
   "execution_count": 5,
   "metadata": {},
   "outputs": [
    {
     "name": "stdout",
     "output_type": "stream",
     "text": [
      "['dog', 'cat', 'dog', 'goldfish', 'cat', 'rabbit', 'cat']\n",
      "['dog', 'dog', 'goldfish', 'rabbit']\n"
     ]
    }
   ],
   "source": [
    "#删除包含特定值的所有列表元素\n",
    "pets = ['dog', 'cat', 'dog', 'goldfish', 'cat', 'rabbit', 'cat']\n",
    "print(pets)\n",
    "while 'cat' in pets:\n",
    "    pets.remove('cat')\n",
    "\n",
    "print(pets) "
   ]
  },
  {
   "cell_type": "code",
   "execution_count": null,
   "metadata": {},
   "outputs": [],
   "source": [
    "# 用while计算斐波那契数列：下一个数字是前两个数字之和\n",
    "f_series = [1,1]\n",
    "n = 2\n",
    "while n < 10:\n",
    "    f_series.append(f_series[n-2] + f_series[n-1])\n",
    "    n += 1\n",
    "    print(f_series)\n",
    "# while后面跟布尔表达式。循环体中一定要有语句使得该布尔表达式最终为False，否则就退不出循环了。\n",
    "# 例外：循环体中另有break语句。\n"
   ]
  },
  {
   "cell_type": "code",
   "execution_count": null,
   "metadata": {},
   "outputs": [],
   "source": [
    "# while True:\n",
    "#     print('aaa')"
   ]
  },
  {
   "cell_type": "markdown",
   "metadata": {},
   "source": [
    "### 3.3.1 让用户选择何时退出"
   ]
  },
  {
   "cell_type": "code",
   "execution_count": 11,
   "metadata": {},
   "outputs": [
    {
     "name": "stdin",
     "output_type": "stream",
     "text": [
      "\n",
      "Tell me something, and i will repeat it back to you:\n",
      "Enter 'quit' to end the program aa\n"
     ]
    },
    {
     "name": "stdout",
     "output_type": "stream",
     "text": [
      "aa\n"
     ]
    },
    {
     "name": "stdin",
     "output_type": "stream",
     "text": [
      "\n",
      "Tell me something, and i will repeat it back to you:\n",
      "Enter 'quit' to end the program bb\n"
     ]
    },
    {
     "name": "stdout",
     "output_type": "stream",
     "text": [
      "bb\n"
     ]
    },
    {
     "name": "stdin",
     "output_type": "stream",
     "text": [
      "\n",
      "Tell me something, and i will repeat it back to you:\n",
      "Enter 'quit' to end the program quit\n"
     ]
    },
    {
     "name": "stdout",
     "output_type": "stream",
     "text": [
      "quit\n"
     ]
    }
   ],
   "source": [
    "\n",
    "#while循环程序会不断的运行，\n",
    "\n",
    "prompt=\"\\nTell me something, and i will repeat it back to you:\"\n",
    "prompt+=\"\\nEnter 'quit' to end the program\"\n",
    "message=''\n",
    "while message!='quit':\n",
    "    message=input(prompt)\n",
    "    print(message)"
   ]
  },
  {
   "cell_type": "markdown",
   "metadata": {},
   "source": [
    "### 3.3.2 使用标志\n",
    "\n",
    "    在前一个实例中，我们让程序在满足特定条件时执行特定的任务。但是在更复杂的程序中，很多不同的事件会导致程序停止运行。\n",
    "    \n",
    "    比如，很多事件可能导致有戏结束，如玩家失去所有飞船、时间已用完等。当导致程序结束的事件有很多时，如果在一条while语句中检查所有这些条件，将是即复杂又困难的。\n",
    "    \n",
    "    在要求很多条件都满足才继续运行的程序中，可定义一个变量，用于判断整个程序是否处于活动状态，即标志（flag），充当信号灯的功能。可以让程序在标志为True是继续运行，并在任何时间导致标志的值为FALSE是让程序停止运行。\n",
    "    \n",
    "    这样，在while语句中就只需要检查一个条件：标志的当前值是否为True。\n",
    "    "
   ]
  },
  {
   "cell_type": "code",
   "execution_count": 1,
   "metadata": {},
   "outputs": [
    {
     "name": "stdin",
     "output_type": "stream",
     "text": [
      "\n",
      "Tell me something, and i will repeat it back to you:\n",
      "Enter 'quit' to end the program quit\n"
     ]
    }
   ],
   "source": [
    "prompt=\"\\nTell me something, and i will repeat it back to you:\"\n",
    "prompt+=\"\\nEnter 'quit' to end the program\"\n",
    "\n",
    "active=True\n",
    "while active:\n",
    "    message=input(prompt)\n",
    "    \n",
    "    #使用一条if语句检查变量message的值。\n",
    "    if message=='quit':\n",
    "        active=False\n",
    "    else:\n",
    "        print(message)"
   ]
  },
  {
   "cell_type": "markdown",
   "metadata": {},
   "source": [
    "#### 两个示例的不同点\n",
    "\n",
    "    前一个示例将条件测试直接放在了while语句中，而这个程序则使用一个标志来指出程序是否处于活动状态。这样，如果要添加测试（如elif语句），以检查是否发生了其他导致active变为FALSE的事件，就很容易。\n",
    "    \n",
    "    在复杂程序中，标志很有用，任意一个事件导致活动标志变为FALSE时，主程序将会退出。\n"
   ]
  },
  {
   "cell_type": "markdown",
   "metadata": {},
   "source": [
    "### 3.3.3 使用break退出循环\n",
    "\n",
    "    使用break可以立即退出while循环，不在运行循环中余下的代码，也不管条件测试的结果如何。"
   ]
  },
  {
   "cell_type": "code",
   "execution_count": null,
   "metadata": {},
   "outputs": [],
   "source": [
    "# 用break语句退出循环。\n",
    "f_series = [1,1]\n",
    "n = 2\n",
    "while True:\n",
    "    f_series.append(f_series[n-2] + f_series[n-1])\n",
    "    if n == 9:\n",
    "        break\n",
    "    n += 1\n",
    "    print(f_series)"
   ]
  },
  {
   "cell_type": "markdown",
   "metadata": {},
   "source": [
    "### 3.3.4 使用continue退出循环\n",
    "\n",
    "    使用continue语句，可以使得程序回到循环开头，并根据条件测试结果决定是否执行循环。"
   ]
  },
  {
   "cell_type": "code",
   "execution_count": 3,
   "metadata": {},
   "outputs": [
    {
     "name": "stdout",
     "output_type": "stream",
     "text": [
      "1\n",
      "3\n",
      "5\n",
      "7\n",
      "9\n"
     ]
    }
   ],
   "source": [
    "#例1:从1-10，只输出其中的奇数的循环\n",
    "\n",
    "current_number=0\n",
    "while current_number<10:\n",
    "    current_number+=1\n",
    "    if current_number % 2==0:\n",
    "        continue\n",
    "    print(current_number)"
   ]
  },
  {
   "cell_type": "code",
   "execution_count": null,
   "metadata": {},
   "outputs": [],
   "source": [
    "sum=0\n",
    "current=0\n",
    "while current<10:\n",
    "    current+=1\n",
    "    if current % 2==0:\n",
    "        continue\n",
    "    else:\n",
    "        sum+=current\n",
    "    "
   ]
  },
  {
   "cell_type": "code",
   "execution_count": 2,
   "metadata": {},
   "outputs": [
    {
     "name": "stdout",
     "output_type": "stream",
     "text": [
      "4665\n"
     ]
    }
   ],
   "source": [
    "# 例2：用continue语句终止本次循环，直接开始下次循环。\n",
    "import math  # 导入math模块，因为要用到该模块中的sqrt函数。\n",
    "n = 1\n",
    "sum = 0\n",
    "while n <= 100:\n",
    "    # 忽略完全平方数。例如，9=3**2,4=2**2,16=4**2\n",
    "    if n == (int(math.sqrt(n))**2): \n",
    "        n += 1\n",
    "        continue\n",
    "    else:\n",
    "        sum += n\n",
    "        n += 1\n",
    "print(sum)"
   ]
  },
  {
   "cell_type": "markdown",
   "metadata": {},
   "source": [
    "#### 注意： for循环中也可以有break和continue，意思与while循环中的一样。"
   ]
  },
  {
   "cell_type": "code",
   "execution_count": null,
   "metadata": {},
   "outputs": [],
   "source": [
    "scores = {\n",
    "    'alice': 80,\n",
    "    'bob': 59,\n",
    "    'charlie': 65,\n",
    "    'david': 70,\n",
    "    }\n",
    "for s in scores.keys():\n",
    "    if scores[s] >= 60:\n",
    "        continue\n",
    "    else:\n",
    "        scores[s] = 60\n",
    "print(scores)"
   ]
  },
  {
   "cell_type": "markdown",
   "metadata": {},
   "source": [
    "### 3.3.5 使用while循环处理列表和字典\n",
    "\n",
    "    for循环是一种遍历列表的有效方式，但是不应该在for循环中修改列表，否则将导致Python难以跟踪其中的元素。\n",
    "    要在遍历列表的同时对其进行修改，可以使用while循环。"
   ]
  },
  {
   "cell_type": "markdown",
   "metadata": {},
   "source": [
    "#### 3.3.5.1 在列表之间移动元素\n",
    "\n",
    "    假设有一个列表，其中包含新注册但还未验证的网站用户；验证这些用户后，将这些用户移到已验证列表"
   ]
  },
  {
   "cell_type": "code",
   "execution_count": 4,
   "metadata": {},
   "outputs": [
    {
     "name": "stdout",
     "output_type": "stream",
     "text": [
      "正在验证用户 Candace\n",
      "\n",
      "以下用户已被验证\n",
      "Candace\n",
      "正在验证用户 Brian\n",
      "\n",
      "以下用户已被验证\n",
      "Candace\n",
      "Brian\n",
      "正在验证用户 Alice\n",
      "\n",
      "以下用户已被验证\n",
      "Candace\n",
      "Brian\n",
      "Alice\n"
     ]
    }
   ],
   "source": [
    "unconfirmed_users = ['alice', 'brian', 'candace'] \n",
    "confirmed_users = [] \n",
    "# 验证每个用户，直到没有未验证用户为止 \n",
    "#  将每个经过验证的列表都移到已验证用户列表中\n",
    "while unconfirmed_users: \n",
    "    current_user = unconfirmed_users.pop()          \n",
    "    print(\"正在验证用户 \" + current_user.title())\n",
    "    confirmed_users.append(current_user) # 显示所有已验证的用户 \n",
    "    print(\"\\n以下用户已被验证\") \n",
    "    for confirmed_user in confirmed_users:    \n",
    "        print(confirmed_user.title()) \n",
    " "
   ]
  },
  {
   "cell_type": "markdown",
   "metadata": {},
   "source": [
    "#### 3.3.5.2 删除为特定值的所有列表元素\n",
    "\n",
    "    删除列表中的元素方法之一：remove。这个只能删除一次。\n",
    "    \n",
    "    如果有很多个相同的值要删除，就需要使用while循环\n"
   ]
  },
  {
   "cell_type": "code",
   "execution_count": 9,
   "metadata": {},
   "outputs": [
    {
     "name": "stdout",
     "output_type": "stream",
     "text": [
      "['dog', 'cat', 'dog', 'goldfish', 'cat', 'rabbit', 'cat']\n",
      "['dog', 'dog', 'goldfish', 'cat', 'rabbit', 'cat']\n",
      "['dog', 'dog', 'goldfish', 'rabbit']\n"
     ]
    }
   ],
   "source": [
    "pets=['dog','cat','dog','goldfish','cat','rabbit','cat']\n",
    "print(pets)\n",
    "\n",
    "pets.remove('cat')\n",
    "print(pets)\n",
    "\n",
    "\n",
    "while 'cat' in pets:\n",
    "    pets.remove('cat')\n",
    "    \n",
    "print(pets)"
   ]
  },
  {
   "cell_type": "markdown",
   "metadata": {},
   "source": [
    "#### 3.3.5.3 使用用户输入来填充字典。\n",
    "\n",
    "    可以使用while循环提示用户输入任意多的信息。"
   ]
  },
  {
   "cell_type": "code",
   "execution_count": 3,
   "metadata": {},
   "outputs": [
    {
     "name": "stdin",
     "output_type": "stream",
     "text": [
      "please input your name: aaa\n",
      "you answer: bbb\n",
      "do you continue? yes/no yes\n",
      "please input your name: xxx\n",
      "you answer: yyy\n",
      "do you continue? yes/no no\n"
     ]
    },
    {
     "name": "stdout",
     "output_type": "stream",
     "text": [
      "{'aaa': 'bbb', 'xxx': 'yyy'}\n"
     ]
    }
   ],
   "source": [
    "d={}\n",
    "active=True\n",
    "while active:\n",
    "    name=input('please input your name:')\n",
    "    answer=input('you answer:')\n",
    "    d[name]=answer\n",
    "    \n",
    "    x=input('do you continue? yes/no')\n",
    "    if x=='no':\n",
    "        active=False\n",
    "    \n",
    "print(d)\n",
    "    "
   ]
  },
  {
   "cell_type": "code",
   "execution_count": 13,
   "metadata": {},
   "outputs": [
    {
     "name": "stdin",
     "output_type": "stream",
     "text": [
      "\n",
      "What is your name? aa\n",
      "Which mountain would you like to climb someday? d\n",
      "Would you like to let another person respond? (yes/no) no\n"
     ]
    },
    {
     "name": "stdout",
     "output_type": "stream",
     "text": [
      "\n",
      "--Poll Results--\n",
      "aa would like to climb d.\n"
     ]
    }
   ],
   "source": [
    "#例如：利用while循环收集被调查者的名字和回答\n",
    "\n",
    "responses={}\n",
    "polling_active=True\n",
    "while polling_active:\n",
    "    name=input('\\nWhat is your name?')\n",
    "    response=input('Which mountain would you like to climb someday?')\n",
    "    \n",
    "    responses[name]=response\n",
    "    \n",
    "    #判断是否还有人要参加调查\n",
    "    repeat=input('Would you like to let another person respond? (yes/no)')\n",
    "    if repeat=='no':\n",
    "        polling_active=False\n",
    "        \n",
    "print('\\n--Poll Results--')\n",
    "for name,response in responses.items():\n",
    "    print(f\"{name} would like to climb {response}.\")"
   ]
  },
  {
   "cell_type": "markdown",
   "metadata": {},
   "source": [
    "#### 练习：\n",
    "\n",
    "    1.编写一个循环，提示用户输入一系列的比萨配料，并在用户输入'quit'时结束循环。\n",
    "每当用户输入一种配料后，都打印一条消息，说我们会在比萨中添加这种配料。\n",
    "\n",
    "    2.有家电影院根据观众的年龄收取不同的票价：不到3岁的观众免费；3~12岁的观众为10美元；超过12岁的观众为15美元。\n",
    "请编写一个循环，在其中询问用户的年龄，并指出其票价。"
   ]
  },
  {
   "cell_type": "code",
   "execution_count": null,
   "metadata": {},
   "outputs": [],
   "source": [
    "flag = 1\n",
    "while flag:\n",
    "    k = input(\"qing shu ru pei liao :\")\n",
    "    print(\"wo men hui tian jia zhe zhong pei liao:\" + k)\n",
    "    t = input(\"tui chu qing shu ru quit:\")\n",
    "    if t == 'quit':\n",
    "        flag = 0\n",
    "        "
   ]
  },
  {
   "cell_type": "code",
   "execution_count": null,
   "metadata": {},
   "outputs": [],
   "source": []
  }
 ],
 "metadata": {
  "kernelspec": {
   "display_name": "Python 3",
   "language": "python",
   "name": "python3"
  },
  "language_info": {
   "codemirror_mode": {
    "name": "ipython",
    "version": 3
   },
   "file_extension": ".py",
   "mimetype": "text/x-python",
   "name": "python",
   "nbconvert_exporter": "python",
   "pygments_lexer": "ipython3",
   "version": "3.8.3"
  }
 },
 "nbformat": 4,
 "nbformat_minor": 4
}
