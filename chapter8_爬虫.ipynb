{
 "metadata": {
  "language_info": {
   "codemirror_mode": {
    "name": "ipython",
    "version": 3
   },
   "file_extension": ".py",
   "mimetype": "text/x-python",
   "name": "python",
   "nbconvert_exporter": "python",
   "pygments_lexer": "ipython3",
   "version": "3.8.3"
  },
  "orig_nbformat": 2,
  "kernelspec": {
   "name": "python383jvsc74a57bd0dca0ade3e726a953b501b15e8e990130d2b7799f14cfd9f4271676035ebe5511",
   "display_name": "Python 3.8.3 64-bit ('base': conda)"
  }
 },
 "nbformat": 4,
 "nbformat_minor": 2,
 "cells": [
  {
   "source": [
    "\n",
    "主要模块：\n",
    "\n",
    "    1. BeautifulSoup，Python的一个库，用于从网页抓取数据。\n",
    "\n",
    "        安装：pip install beautifulsoup4\n",
    "\n",
    "    2. requests:是一个Python第三方库，处理URL资源特别方便\n",
    "    \n",
    "        安装：pip install requests\n",
    "\n",
    "\n"
   ],
   "cell_type": "markdown",
   "metadata": {}
  },
  {
   "source": [
    "## 8.1 创建对象"
   ],
   "cell_type": "markdown",
   "metadata": {}
  },
  {
   "cell_type": "code",
   "execution_count": 2,
   "metadata": {},
   "outputs": [
    {
     "output_type": "stream",
     "name": "stdout",
     "text": [
      "<html>\n <head>\n  <title>\n   The Dormouse's story\n  </title>\n </head>\n <body>\n  <p class=\"title\" name=\"dromouse\">\n   <b>\n    The Dormouse's story\n   </b>\n  </p>\n  <p class=\"story\">\n   Once upon a time there were three little sisters; and their names were\n   <a class=\"sister\" href=\"http://example.com/elsie\" id=\"link1\">\n    <!-- Elsie -->\n   </a>\n   ,\n   <a class=\"sister\" href=\"http://example.com/lacie\" id=\"link2\">\n    Lacie\n   </a>\n   and\n   <a class=\"sister\" href=\"http://example.com/tillie\" id=\"link3\">\n    Tillie\n   </a>\n   ;\nand they lived at the bottom of a well.\n  </p>\n  <p class=\"story\">\n   ...\n  </p>\n </body>\n</html>\n\n"
     ]
    }
   ],
   "source": [
    "import bs4\n",
    "from bs4 import BeautifulSoup\n",
    "\n",
    "html = \"\"\"\n",
    "<html><head><title>The Dormouse's story</title></head>\n",
    "<body>\n",
    "<p class=\"title\" name=\"dromouse\"><b>The Dormouse's story</b></p>\n",
    "<p class=\"story\">Once upon a time there were three little sisters; and their names were\n",
    "<a href=\"http://example.com/elsie\" class=\"sister\" id=\"link1\"><!-- Elsie --></a>,\n",
    "<a href=\"http://example.com/lacie\" class=\"sister\" id=\"link2\">Lacie</a> and\n",
    "<a href=\"http://example.com/tillie\" class=\"sister\" id=\"link3\">Tillie</a>;\n",
    "and they lived at the bottom of a well.</p>\n",
    "<p class=\"story\">...</p>\n",
    "</body>\n",
    "</html>\n",
    "\"\"\"\n",
    "soup = BeautifulSoup(html)\n",
    "#soup = BeautifulSoup(open('index.html')) #将本地 index.html 文件打开\n",
    "print(soup.prettify())#格式化输出soup对象的内容"
   ]
  },
  {
   "source": [
    "## 8.2 四大对象类型"
   ],
   "cell_type": "markdown",
   "metadata": {}
  },
  {
   "source": [
    "'''\n",
    "BeautifulSoup 将复杂 HTML 文档转换成一个复杂的树形结构，每个节点都是 Python 对象，所有对象可以归纳为 4 种:\n",
    "\n",
    "1. Tag:HTML 中的一个个标签，\n",
    "    例如 \"<title>The Dormouse's story</title>\"\n",
    "         \"<a class=\"sister\" href=\"http://example.com/elsie\" id=\"link1\">Elsie</a>\"\n",
    "\n",
    "'''\n",
    "print('###########title###########')\n",
    "print(soup.title)\n",
    "print('###########a###########')\n",
    "print(soup.a)\n",
    "print('###########head###########')\n",
    "print(soup.head)\n",
    "\n",
    "print('###########type of tag###########')\n",
    "print(type(soup.a))\n",
    "\n"
   ],
   "cell_type": "code",
   "metadata": {},
   "execution_count": 22,
   "outputs": [
    {
     "output_type": "stream",
     "name": "stdout",
     "text": [
      "###########title###########\n<title>The Dormouse's story</title>\n###########a###########\n<a class=\"sister\" href=\"http://example.com/elsie\" id=\"link1\"><!-- Elsie --></a>\n###########head###########\n<head><title>The Dormouse's story</title></head>\n###########type of tag###########\n<class 'bs4.element.Tag'>\n"
     ]
    },
    {
     "output_type": "execute_result",
     "data": {
      "text/plain": [
       "'\\nNavigableString:\\nBeautifulSoup\\nComment\\n'"
      ]
     },
     "metadata": {},
     "execution_count": 22
    }
   ]
  },
  {
   "cell_type": "code",
   "execution_count": 30,
   "metadata": {},
   "outputs": [
    {
     "output_type": "stream",
     "name": "stdout",
     "text": [
      "###########测试name属性###############\n[document]\nhead\na\n##########测试attrs属性###############\n{'href': 'http://example.com/elsie', 'class': ['sister'], 'id': 'link1'}\n['sister']\nhttp://example.com/elsie\n"
     ]
    }
   ],
   "source": [
    "# 对于 Tag，它有两个重要的属性，是 name 和 attrs\n",
    "#a) name属性\n",
    "print('###########测试name属性###############')\n",
    "print(soup.name)\n",
    "print(soup.head.name)\n",
    "print(soup.a.name)\n",
    "\n",
    "#soup 对象本身比较特殊，它的 name 即为 [document]，对于其他内部标签，输出的值便为标签本身的名称\n",
    "\n",
    "#b)attrs属性\n",
    "print('##########测试attrs属性###############')\n",
    "print(soup.a.attrs) #在这里，把p标签的所有属性打印输出了出来，得到的类型是一个字典\n",
    "\n",
    "#也可以单独取得某个特定的属性\n",
    "print(soup.a['class']) \n",
    "print(soup.a.get('href'))\n"
   ]
  },
  {
   "cell_type": "code",
   "execution_count": 42,
   "metadata": {},
   "outputs": [
    {
     "output_type": "stream",
     "name": "stdout",
     "text": [
      "The Dormouse's story\n<class 'str'>\n[document]\n{}\n"
     ]
    },
    {
     "output_type": "execute_result",
     "data": {
      "text/plain": [
       "'\\n4. Comment\\nComment 对象是一个特殊类型的 NavigableString 对象\\n'"
      ]
     },
     "metadata": {},
     "execution_count": 42
    }
   ],
   "source": [
    "'''\n",
    "2. NavigableString\n",
    "既然我们已经得到了标签的内容，那么问题来了，我们要想获取标签内部的文字怎么办呢？很简单，用 .string 即可\n",
    "'''\n",
    "print(soup.p.string) #默认获得首次出现tag里的内容\n",
    "\n",
    "'''\n",
    "3.BeautifulSoup\n",
    "BeautifulSoup 对象表示的是一个文档的全部内容。大部分时候，可以把它当作 Tag 对象，是一个特殊的 Tag\n",
    "'''\n",
    "print(type(soup.name))\n",
    "#<type 'unicode'>\n",
    "print(soup.name)\n",
    "# [document]\n",
    "print(soup.attrs)\n",
    "#{} 空字典\n",
    "\n",
    "'''\n",
    "4. Comment\n",
    "Comment 对象是一个特殊类型的 NavigableString 对象\n",
    "'''\n",
    "\n"
   ]
  },
  {
   "source": [
    "## 8.3 遍历文档树\n"
   ],
   "cell_type": "markdown",
   "metadata": {}
  },
  {
   "cell_type": "code",
   "execution_count": 46,
   "metadata": {},
   "outputs": [
    {
     "output_type": "stream",
     "name": "stdout",
     "text": [
      "['\\n', <p class=\"title\" name=\"dromouse\"><b>The Dormouse's story</b></p>, '\\n', <p class=\"story\">Once upon a time there were three little sisters; and their names were\n<a class=\"sister\" href=\"http://example.com/elsie\" id=\"link1\"><!-- Elsie --></a>,\n<a class=\"sister\" href=\"http://example.com/lacie\" id=\"link2\">Lacie</a> and\n<a class=\"sister\" href=\"http://example.com/tillie\" id=\"link3\">Tillie</a>;\nand they lived at the bottom of a well.</p>, '\\n', <p class=\"story\">...</p>, '\\n']\n########## get item by index##########3\n<p class=\"title\" name=\"dromouse\"><b>The Dormouse's story</b></p>\n"
     ]
    }
   ],
   "source": [
    "'''\n",
    "1. 获得直接子节点\n",
    "tag的contents属性，可以将 tag 的子节点以列表的方式输出\n",
    "'''\n",
    "print(soup.body.contents)\n",
    "\n",
    "#可以用列表索引来获取它的某一个元素\n",
    "print('########## get item by index##########3')\n",
    "print(soup.body.contents[1])\n"
   ]
  },
  {
   "cell_type": "code",
   "execution_count": 48,
   "metadata": {},
   "outputs": [
    {
     "output_type": "stream",
     "name": "stdout",
     "text": [
      "<list_iterator object at 0x7fc85d6b25b0>\n###########遍历list生成器#########\n\n\n<p class=\"title\" name=\"dromouse\"><b>The Dormouse's story</b></p>\n\n\n<p class=\"story\">Once upon a time there were three little sisters; and their names were\n<a class=\"sister\" href=\"http://example.com/elsie\" id=\"link1\"><!-- Elsie --></a>,\n<a class=\"sister\" href=\"http://example.com/lacie\" id=\"link2\">Lacie</a> and\n<a class=\"sister\" href=\"http://example.com/tillie\" id=\"link3\">Tillie</a>;\nand they lived at the bottom of a well.</p>\n\n\n<p class=\"story\">...</p>\n\n\n"
     ]
    }
   ],
   "source": [
    "'''\n",
    "children 它返回的是一个 list 生成器对象\n",
    "'''\n",
    "print(soup.body.children)\n",
    "\n",
    "print('###########遍历list生成器#########')\n",
    "for child in soup.body.children:\n",
    "    print(child)"
   ]
  },
  {
   "cell_type": "code",
   "execution_count": 3,
   "metadata": {},
   "outputs": [
    {
     "output_type": "stream",
     "name": "stdout",
     "text": [
      "<generator object Tag.descendants at 0x7ff583601190>\n\n\n<p class=\"title\" name=\"dromouse\"><b>The Dormouse's story</b></p>\n<b>The Dormouse's story</b>\nThe Dormouse's story\n\n\n<p class=\"story\">Once upon a time there were three little sisters; and their names were\n<a class=\"sister\" href=\"http://example.com/elsie\" id=\"link1\"><!-- Elsie --></a>,\n<a class=\"sister\" href=\"http://example.com/lacie\" id=\"link2\">Lacie</a> and\n<a class=\"sister\" href=\"http://example.com/tillie\" id=\"link3\">Tillie</a>;\nand they lived at the bottom of a well.</p>\nOnce upon a time there were three little sisters; and their names were\n\n<a class=\"sister\" href=\"http://example.com/elsie\" id=\"link1\"><!-- Elsie --></a>\n Elsie \n,\n\n<a class=\"sister\" href=\"http://example.com/lacie\" id=\"link2\">Lacie</a>\nLacie\n and\n\n<a class=\"sister\" href=\"http://example.com/tillie\" id=\"link3\">Tillie</a>\nTillie\n;\nand they lived at the bottom of a well.\n\n\n<p class=\"story\">...</p>\n...\n\n\n"
     ]
    }
   ],
   "source": [
    "'''\n",
    "2. 获得所有子孙节点，descendants，可以对所有 tag 的子孙节点进行递归循环\n",
    "'''\n",
    "print(soup.body.descendants)\n",
    "for child in soup.body.descendants:\n",
    "    print(child)"
   ]
  },
  {
   "cell_type": "code",
   "execution_count": 52,
   "metadata": {},
   "outputs": [
    {
     "output_type": "stream",
     "name": "stdout",
     "text": [
      "The Dormouse's story\n\n\n\n\nThe Dormouse's story\n\n\nOnce upon a time there were three little sisters; and their names were\n\n,\n\nLacie\n and\n\nTillie\n;\nand they lived at the bottom of a well.\n\n\n...\n\n\n"
     ]
    }
   ],
   "source": [
    "'''\n",
    "3. 节点内容,string，如果一个标签里面没有标签了，那么 .string 就会返回标签里面的内容。如果标签里面只有唯一的一个标签了，那么 .string 也会返回最里面的内容\n",
    "\n",
    "strings：获取多个内容，不过需要遍历获取\n",
    "\n",
    "'''\n",
    "for strs in soup.strings:\n",
    "    print(strs)"
   ]
  },
  {
   "source": [
    "## 8.4 搜索文档树"
   ],
   "cell_type": "markdown",
   "metadata": {}
  },
  {
   "cell_type": "code",
   "execution_count": 13,
   "metadata": {},
   "outputs": [
    {
     "output_type": "execute_result",
     "data": {
      "text/plain": [
       "['Lacie', 'Tillie']"
      ]
     },
     "metadata": {},
     "execution_count": 13
    }
   ],
   "source": [
    "'''\n",
    "1. find_all( name , attrs , recursive , text , **kwargs ):搜索当前 tag 的所有 tag 子节点，并判断是否符合过滤器的条件。\n",
    "name 参数：\n",
    "    a):可以是tag的名字，即字符串；\n",
    "    b):正则表达式,如果传入正则表达式作为参数，Beautiful Soup 会通过正则表达式的 match () 来匹配内容\n",
    "    c):列表 如果传入列表参数，Beautiful Soup 会将与列表中任一元素匹配的内容返回.\n",
    "\n",
    "'''\n",
    "\n",
    "print(soup.find_all('a'))\n",
    "\n",
    "import re\n",
    "for tag in soup.find_all(re.compile(\"^b\")):\n",
    "    print(tag)\n",
    "\n",
    "'''\n",
    "keyword 参数: 如果一个指定名字的参数不是搜索内置的参数名，搜索时会把该参数当作指定名字 tag 的属性来搜索，如果包含一个名字为 id 的参数，Beautiful Soup 会搜索每个 tag 的”id” 属性\n",
    "'''\n",
    "# print(soup.find_all(id='link2'))\n",
    "# print(soup.find_all(href=re.compile(\"elsie\")))\n",
    "# print(soup.find_all(href=re.compile(\"elsie\"), id='link1'))\n",
    "# soup.find_all(class='art_list_sp' id='art_list_sp_5')\n",
    "'''\n",
    "text 参数 通过 text 参数可以搜搜文档中的字符串内容\n",
    "'''\n",
    "# soup.find_all(text=\"Elsie\")\n",
    "soup.find_all(text=[\"Tillie\", \"Elsie\", \"Lacie\"])"
   ]
  },
  {
   "source": [
    "## 8.5 Request\n"
   ],
   "cell_type": "markdown",
   "metadata": {}
  },
  {
   "cell_type": "code",
   "execution_count": 4,
   "metadata": {
    "tags": [
     "outputPrepend"
    ]
   },
   "outputs": [
    {
     "output_type": "stream",
     "name": "stdout",
     "text": [
      "      <div class=\"magizine_contain\">\n                <div class=\"magizine\">\n                    <div class=\"title\"><a style=\"font-size: 14px\" href=\"http://www.solarzoom.com/article-95786-1.html\" target=\"_blank\" title=\"2017å¹´SOLARZOOMåä¼æå¿7æå\">2017å¹´SOLARZOOMåä¼æå¿7æå</a></div>\n                    <img src=\"http://m.solarzoom.com/data/attachment/images/image/20170731/dc2822d13e64833044f87ebfa5e1102b.jpg\" alt='2017å¹´SOLARZOOMåä¼æå¿7æå'/>\n\n                    <div class=\"description\">å°åº¦åå·¥é¨åå¾éå±(DGAD)æ­£å¼å¬åï¼å°å¯¹ä¸­å½å¤§éãå°æ¹¾ãé©¬æ¥è¥¿äºç­å°è¿å£çå¤ªé³è½çµæ± å±å¼åå¾éè°æ¥ãåæ¶ï¼æ¬§çå¯¹ä¸­å½å¤§éçåä¼MIPæ¶ææåº<a href=\"http://www.solarzoom.com/article-95786-1.html\" target=\"_blank\">[è¯¦æ]</a></div>\n                </div>\n                <div style=\"clear:both;\" ></div>\n                <div class=\"categroy1_list\">\n                    <ul>\n                                                <li style=\"list-style:square inside;margin-left: 0px;white-space:nowrap;overflow:hidden;text-overflow:ellipsis;\"><a href=\"http://m.solarzoom.com/article-142475-1.html\" title=\"ãç¬å®¶ãç±å£«ææ»è£å¼ åï¼ç«æä¸ï¼æåå®ææ¾å¼æææå¾\" target=\"_blank\">ãç¬å®¶ãç±å£«ææ»è£å¼ åï¼ç«æä¸ï¼æåå®</a></li>\n                                                <li style=\"list-style:square inside;margin-left: 0px;white-space:nowrap;overflow:hidden;text-overflow:ellipsis;\"><a href=\"http://m.solarzoom.com/article-92940-1.html\" title=\"æ¬è¯·è®¢é 2017å¹´SOLARZOOMåä¼æå¿5æåï¼\" target=\"_blank\">æ¬è¯·è®¢é 2017å¹´SOLARZOOMåä¼æå¿5æåï¼</a></li>\n                                                <li style=\"list-style:square inside;margin-left: 0px;white-space:nowrap;overflow:hidden;text-overflow:ellipsis;\"><a href=\"http://m.solarzoom.com/article-91672-1.html\" title=\"æ¬è¯·è®¢é 2017å¹´SOLARZOOMåä¼æå¿4æåï¼\" target=\"_blank\">æ¬è¯·è®¢é 2017å¹´SOLARZOOMåä¼æå¿4æåï¼</a></li>\n                                                <li style=\"list-style:square inside;margin-left: 0px;white-space:nowrap;overflow:hidden;text-overflow:ellipsis;\"><a href=\"http://m.solarzoom.com/article-92614-1.html\" title=\"æ¬è¯·è®¢é 2017å¹´SOLARZOOMåä¼æå¿1æåï¼\" target=\"_blank\">æ¬è¯·è®¢é 2017å¹´SOLARZOOMåä¼æå¿1æåï¼</a></li>\n                                                <li style=\"list-style:square inside;margin-left: 0px;white-space:nowrap;overflow:hidden;text-overflow:ellipsis;\"><a href=\"http://m.solarzoom.com/article-87548-1.html\" title=\"æ¬è¯·è®¢é 2016å¹´SOLARZOOMåä¼æå¿3æåï¼\" target=\"_blank\">è¯·è®¢é2016å¹´SOLARZOOMåä¼æå¿3æåï¼</a></li>\n                                            </ul>\n                </div>\n            </div>\n        </div>\n        <!--æå¿end==================================== -->\n\n        <div style=\"clear:both;width:100%\">\n            <img style=\"width:100%;height:100px;background:#aaa;padding: 0px;\" >\n        </div>\n        <div style=\"clear:both;width:100%\"></div>\n\n        <!--è®ºå2start==================================== -->\n        <div class=\"category1\" style=\"margin: 5px 0px;\">\n            <div class=\"category1_title\"><a style='color: #fd5e00;' href=\"http://www.pvzoom.com/memberClientInfo/index\" target=\"_blank\">åå¸å¼åä¼çµç«</a></div>\n            <div class=\"categroy1_list\"><script type=\"text/javascript\" src=\"http://m.solarzoom.com/api.php?mod=js&bid=852\"></script></div>\n        </div>\n        <style>\n            .categroy1_list li{list-style-type: square;line-height: 25px;margin-left: 0px;white-space:nowrap;text-overflow:ellipsis}\n            .tabs2_content li{list-style-type: square;line-height: 25px;margin-left: 0px;white-space:nowrap;overflow:hidden;text-overflow:ellipsis}\n        </style>\n        <!--è®ºå2end==================================== -->\n\n        <div style=\"clear:both;width:100%;height:100px;padding:0px 0px 5px 0px\">\n            <!-- å¹¿åä½ï¼é¦é¡µ-270x100-1 -->\n            <script>\n            (function() {\n                var s = \"_\" + Math.random().toString(36).slice(2);\n                document.write('<div id=\"' + s + '\"></div>');\n                (window.slotbydup=window.slotbydup || []).push({\n                    id: '3553326',\n                    container: s,\n                    size: '270,100',\n                    display: 'inlay-fix',\n                    async:true\n                });\n            })();\n            </script>\n\n        </div>\n        <div style=\"clear:both;width:100%;height:100px;padding:0px 0px 5px 0px\">\n            <img style=\"width:100%;height:100px;background:#aaa;padding: 0px;\" >\n        </div>\n        <div style=\"clear:both;width:100%;height:100px;padding:0px 0px 5px 0px\">\n            <img style=\"width:100%;height:100px;background:#aaa;padding: 0px;\" >\n        </div>\n        <div style=\"clear:both;width:100%;height:100px;padding:0px 0px 5px 0px\">\n            <img style=\"width:100%;height:100px;background:#aaa;padding: 0px;\" >\n        </div>\n        <div style=\"clear:both;width:100%;height:100px;padding:0px 0px 5px 0px\">\n            <img style=\"width:100%;height:100px;background:#aaa;padding: 0px;\" >\n        </div>\n        <div style=\"clear:both;width:100%;height:100px;padding:0px 0px 5px 0px\">\n            <img style=\"width:100%;height:100px;background:#aaa;padding: 0px;\" >\n        </div>\n        <div style=\"clear:both;width:100%;height:100px;padding:0px 0px 5px 0px\">\n            <img style=\"width:100%;height:100px;background:#aaa;padding: 0px;\" >\n        </div>\n        <div style=\"clear:both;width:100%;height:100px;padding:0px 0px 5px 0px\">\n            <img style=\"width:100%;height:100px;background:#aaa;padding: 0px;\" >\n        </div>\n        <div style=\"clear:both;width:100%;height:100px;padding:0px 0px 5px 0px\">\n            <img style=\"width:100%;height:100px;background:#aaa;padding: 0px;\" >\n        </div>\n        <div style=\"clear:both;width:100%;height:100px;padding:0px 0px 5px 0px\">\n            <img style=\"width:100%;height:100px;background:#aaa;padding: 0px;\" >\n        </div>\n        </div>\n        <div id=\"adv_fixed_point_more\"></div>\n    </div>\n    <!--å³ä¸end==================================== -->\n    <!-- btn_return start -->\n    <style>\n        .btn_return_top{position:fixed;bottom:0%;right:0px;width:45px;}\n        .btn_return_top img{width:100%}\n    </style>\n            <div class=\"btn_return_top\">\n                <a id=\"btn_return_top\" onClick=\"document.documentElement.scrollTop = document.body.scrollTop = 0;\">\n                    <img src=\"/img/return_top.png\">\n                </a>\n            </div>\n    <!-- btn_return end -->\n    <script>\n        function do_ajax(url,m,xmlDoc){\n                    // å½æ°åæ°é»è®¤å¼arguments[2] ? arguments[2] : '';\n                    var sthXmlHttp;\n                    sthXmlHttp=null;\n                    try{\n                            // Firefox, Opera 8.0+, Safari, IE7\n                            sthXmlHttp=new XMLHttpRequest();\n                    }\n                    catch(e){// Old IE\n                            try{\n                                    sthXmlHttp=new ActiveXObject(\"Microsoft.XMLHTTP\");\n                            }\n                            catch(e){\n                                    alert (\"Your browser does not support XMLHTTP!\");\n                                    return;\n                            }\n                    }\n                    sthXmlHttp.open(m,url,false);\n            //  sthXmlHttp.setRequestHeader(\"\",\"\");\n            //  sthXmlHttp.setRequestHeader(\"Content-Type\",\"application/x-www-form-urlencoded;\");\n                    if(m=='GET'){\n                        sthXmlHttp.send(null);\n                    }else if(m=='POST'){\n                        sthXmlHttp.setRequestHeader(\"Content-Type\",\"application/x-www-form-urlencoded\");\n                        sthXmlHttp.send('con='+xmlDoc);\n                    }\n\n                    if(sthXmlHttp.readyState==4){\n                            if(sthXmlHttp.status==200){\n                                    var str=sthXmlHttp.responseText;\n                                    return str;\n                            }else{\n                                //alert('error');\n                            }\n                    }else{\n                            alert('error'+sthXmlHttp.readyState);\n                    }\n    }\n        var old_scrollTop=0;\n\n\n        var p = 1;\n        var stop = true;\n        var catid = 0;\n        var art_list_sp=1;\n        var con_art_bottom_left_point=document.getElementById('art_bottom_left_point').innerHTML;\n        var scroll_num=0;\n\n        window.onscroll=function(){\n            var art_top_nav=document.getElementById('art_top_nav');\n            var adv_fixed_point=document.getElementById('adv_fixed_point');\n            var adv_fixed_point_more=document.getElementById('adv_fixed_point_more');\n            var top_fixed_point=document.getElementById('top_fixed_point');\n            var art_bottom_left_point=document.getElementById('art_bottom_left_point');\n            var scrollTop=0;\n\n            if(document.documentElement&&document.documentElement.scrollTop){\n                scrollTop=document.documentElement.scrollTop;\n            }else if(document.body){\n                scrollTop=document.body.scrollTop;\n            }\n            if(scrollTop>art_top_nav.offsetTop-70 && art_top_nav.offsetTop>70){\n                old_scrollTop=scrollTop;\n\n                document.getElementById('art_list_point').style.marginBottom='110px';\n                art_top_nav.style.position='fixed';\n                art_top_nav.style.top='70px';\n                art_top_nav.style.zIndex='9999';\n\n                top_fixed_point.style.position='fixed';\n                top_fixed_point.style.top='0px';\n                top_fixed_point.style.left='50%';\n                top_fixed_point.style.marginLeft='-512px';\n                top_fixed_point.style.zIndex='9999';\n            }\n\n            if(scrollTop<old_scrollTop){\n                document.getElementById('art_list_point').style.marginBottom='';\n                art_top_nav.style.position='';\n                art_top_nav.style.top='';\n\n                top_fixed_point.style.position='';\n                top_fixed_point.style.top='';\n                top_fixed_point.style.left='';\n                top_fixed_point.style.marginLeft='';\n            }\n            var viewH = document.body.offsetHeight;\n             //document.getElementById('xx').innerHTML=document.getElementById('art_con').height+'|'+(adv_fixed_point.height+1800)+'|'+window.screen.availHeight+'|'+art_bottom_left_point.offsetTop+'|'+viewH+'|'+scrollTop+'|'+old_scrollTop+'|'+art_top_nav.offsetTop+'|'+document.getElementById('bottom_xxx').offsetTop;\n            if (window.screen.availHeight + scrollTop >= viewH-1000 || document.getElementById('art_con').offsetHeight<adv_fixed_point.offsetHeight+500) {\n                if (stop == true) {\n//                    if(document.getElementById('art_con').offsetHeight>adv_fixed_point.offsetHeight+500){\n//                        var con_div = document.createElement(\"div\");\n//                        con_div.innerHTML=con_art_bottom_left_point;\n//                        adv_fixed_point_more.appendChild(con_div);\n//                    }\n                        stop = false;\n                        p = p + 1;\n                        scroll_num=scroll_num+1;\n                        var parent = document.getElementById('art_list_sp_' + art_list_sp + '_more');\n                        var loading=document.getElementById('art_list_sp_' + art_list_sp + '_loading')\n                        loading.innerHTML=\"<div style='width:100%;text-align:center;font-size:1em'>Loding.....</div>\";\n                        if(catid!==107){\n                            var r=do_ajax(\"/index.php/mcatmore/index2/\" + catid + \"/6/\" + p,'GET','');\n                        }else{\n                            var r=do_ajax(\"/index.php/mcatmore/index2/\" + catid + \"/6/\" + p + \"/notes/sp\",'GET','');\n                        }\n\n                        var div = document.createElement(\"div\");\n                        // div.style.clear='both';\n                        loading.innerHTML=\"\";\n                        if(strlen(r)<10){\n                            document.getElementById('catid_bottom_con').innerHTML='æ æ´å¤åå®¹';\n                            // alert('æ æ´å¤åå®¹');\n                            stop = false;\n                        }else{\n                            if((scroll_num==1 || scroll_num==2) && (art_list_sp==7 || art_list_sp==1)){\n                                var s = \"_\" + Math.random().toString(36).slice(2);\n                                var ad_r='<div style=\"clear:both;margin-top:15px;\"></div><div style=\"width:100%;height:65px;background:#aaa\"><div id=\"' + s + '\"></div><div style=\"clear:both\"></div></div>';\n                                (window.slotbydup=window.slotbydup || []).push({\n                                    id: '4694828',\n                                    container: s,\n                                    size: '705,65',\n                                    display: 'inlay-fix',\n                                    async:true\n                                });\n                            }else if(scroll_num==3){\n                                var s = \"_\" + Math.random().toString(36).slice(2);\n                                var ad_r='<div style=\"clear:both;margin-top:15px;\"></div><div style=\"width:100%;height:65px;background:#aaa\"><div id=\"' + s + '\"></div><div style=\"clear:both\"></div></div>';\n                                (window.slotbydup=window.slotbydup || []).push({\n                                    id: '3303628',\n                                    container: s,\n                                    size: '705,65',\n                                    display: 'inlay-fix',\n                                    async:true\n                                });\n                            }else{\n                                var ad_r='<div style=\"clear:both;margin-top:15px;\"></div><div style=\"width:100%;height:65px;background:#aaa\"><div style=\"clear:both\"></div></div>';\n                            }\n                            div.innerHTML=ad_r+r;\n                            parent.appendChild(div);\n                            stop = true;\n                        }\n\n                }\n            }\n\n        }\n\n        function chg_art_list_sp(n){\n            document.getElementById('art_list_sp_' + art_list_sp + '_more').innerHTML='';\n            // adv_fixed_point_more.innerHTML='';\n            document.getElementById('art_list_sp_'+art_list_sp).style.display='none';\n            document.getElementById('art_list_btn_'+art_list_sp).style.background='';\n            document.getElementById('art_list_btn_'+art_list_sp).style.borderTop='';\n            scroll_num=0;\n            art_list_sp=n;\n            if(n==1){\n                catid=0;\n                p=1;\n            }else if(n==2){\n                catid=85;\n                p=1;\n            }else if(n==3){\n                catid=122;\n                p=1;\n            }else if(n==4){\n                catid=47;\n                p=1;\n            }else if(n==5){\n                catid=89;\n                p=1;\n            }else if(n==6){\n                catid=53;\n                p=1;\n            }else if(n==7){\n                catid=28;\n                p=1;\n            }else if(n==8){\n                catid=107;\n                p=1;\n            }else if(n==9){\n                catid=70;\n                p=1;\n            }\n            document.getElementById('art_list_btn_'+n).style.background='#fff';\n            document.getElementById('art_list_btn_'+n).style.borderTop='2px solid orange';\n            document.getElementById('art_list_sp_'+n).style.display='block';\n            move_to_art_list_point();\n            stop = true;\n        }\n        function move_to_art_list_point(){\n           document.documentElement.scrollTop=document.getElementById('art_list_point').offsetTop;\n        }\n        function close_ad(){\n            $(\".a_fr\").animate({left:'100%'});\n        }\n        jQuery(document).ready(function(){\n            setInterval(\"getNewArtNum()\",60000);\n            // getNewArtNum();\n        });\n        var new_art=document.getElementById('new_art');\n        function getNewArtNum(){\n            var r=do_ajax(\"/index.php/mcatmore/getNewArt/1622006523\" ,'GET','');\n            if(r>0){\n                new_art.innerHTML='<span class=\"new_art_num_sp\">'+r+'</span>';\n            }\n        }\n\n    </script>\n\n</div>\n\n<div style=\"clear:both;\"></div>\n</div>\n</div>\n</div>\n</div>\n<div style=\"clear:both;\"></div>\n<div class=\"split_bar\"><img src=\"http://m.solarzoom.com/sdata/template/default/images/33.png\"/></div>\n<div class=\"foot\">\n    <div class=\"links\">\n        <a href=\"/aboutus/index.html\" target=\"_blank\">å³äºæä»¬</a><span> | </span>\n        <a href=\"/aboutus/service.html\" target=\"_blank\">èµè®¯æå¡</a><span> | </span>\n        <a href=\"/aboutus/onstep.html\" target=\"_blank\">ä¸ç«å¼æå¡</a><span> | </span>\n        <a href=\"/aboutus/outreach.html\" target=\"_blank\">æ¨å¹¿æ¹æ¡</a><span> | </span>\n        <a href=\"/aboutus/report.html\" target=\"_blank\">è¡ææ¥å</a><span> | </span>\n        <a href=\"/aboutus/activity.html\" target=\"_blank\">æ´»å¨åä½</a><span> | </span>\n        <a href=\"/aboutus/terms.html\" target=\"_blank\">æ³å¾å£°æ</a><span> | </span>\n        <a href=\"/aboutus/feedback.html\" target=\"_blank\">æè§åé¦</a><span> | </span>\n        <a href=\"/aboutus/job.html\" target=\"_blank\">è¯å¾è±æ</a><span> | </span>\n        <a href=\"/aboutus/map.html\" target=\"_blank\">ç½ç«å¯¼èª</a><span> | </span>\n        <a href=\"/aboutus/links.html\" target=\"_blank\">åæé¾æ¥</a><span> | </span>\n        <a href=\"/aboutus/contact.html\" target=\"_blank\">èç³»æä»¬</a><span> | </span>\n\t<a href=\"http://www.solarzoom.com/category/65\" target=\"_blank\">ç½ç«å¨æ</a>\n    </div>\n    <div class=\"copyright\">Copyright:2014 SOLARZOOM All Right Reservered.æ²ªICPå¤10206511å·</div>\n    <div class=\"contact\">\n        èç³»æä»¬ï¼021-50315221 æå¡é®ç®±ï¼10000@solarzoom.com\n    </div>\n\n\t<div class=\"licenses\">\n\t\t\t<a href=\"https://beian.miit.gov.cn\" target=\"_blank\"><img src=\"http://m.solarzoom.com/sdata/template/default/images/b1.jpg\" /></a>\n\t\t\t<a href=\"https://beian.miit.gov.cn\" target=\"_blank\"><img src=\"http://m.solarzoom.com/sdata/template/default/images/icp.gif\" /></a>\n\t\t\t\n\t\t\t <a href='https://www.sgs.gov.cn/lz/licenseLink.do?method=licenceView&entyId=1b1loe7dwcgsljhd2fbxir85clkiqouymmrx7fw68v11'>\n                        <img src='http://m.solarzoom.com/sdata/template/default/images/shgs.gif' height=\"50\" border=0></a>\n\t\t\t<a href=\"http://net.china.com.cn/\" target=\"_blank\"><img src=\"http://m.solarzoom.com/sdata/template/default/images/blxx.gif\" /></a>\n\t\t\t<a href=\"http://www.cyberpolice.cn/wfjb/html/index.shtml\" target=\"_blank\">\n\t\t\t<img src=\"http://m.solarzoom.com/sdata/template/default/images/police.png\" height=\"40\"/></a>\n\t\t\t<a href=\"http://www.zx110.org/\" target=\"_blank\"><img src=\"http://m.solarzoom.com/sdata/template/default/images/zx110.png\" height=\"40\"/></a>\n\n\t</div>\n\n</div>\n<div style=\"display:block;\">\n<script type=\"text/javascript\">\nvar _bdhmProtocol = ((\"https:\" == document.location.protocol) ? \" https://\" : \" http://\");\ndocument.write(unescape(\"%3Cscript src='\" + _bdhmProtocol + \"hm.baidu.com/h.js%3Fb6f1a3208ab33153b7a92719674385f5' type='text/javascript'%3E%3C/script%3E\"));\n</script>\n<script type=\"text/javascript\">var cnzz_protocol = ((\"https:\" == document.location.protocol) ? \" https://\" : \" http://\");document.write(unescape(\"%3Cspan id='cnzz_stat_icon_2381970'%3E%3C/span%3E%3Cscript src='\" + cnzz_protocol + \"s9.cnzz.com/stat.php%3Fid%3D2381970%26show%3Dpic1' type='text/javascript'%3E%3C/script%3E\"));</script>\n</div>\n</body>\n</html>\n\n"
     ]
    }
   ],
   "source": [
    "import requests\n",
    "r = requests.get('http://m.solarzoom.com/')\n",
    "print(r.text)"
   ]
  },
  {
   "cell_type": "code",
   "execution_count": 5,
   "metadata": {},
   "outputs": [
    {
     "output_type": "stream",
     "name": "stdout",
     "text": [
      "200\nNone\n######before\nISO-8859-1\n######after\nutf-8\n"
     ]
    }
   ],
   "source": [
    "print(r.status_code)\n",
    "print(r.raise_for_status()) #跑出异常后的代码\n",
    "print('######before')\n",
    "print(r.encoding)\n",
    "r.encoding='utf-8'\n",
    "print('######after')\n",
    "print(r.encoding)\n",
    "#r.text"
   ]
  },
  {
   "cell_type": "code",
   "execution_count": 7,
   "metadata": {},
   "outputs": [],
   "source": [
    "# r.text"
   ]
  },
  {
   "cell_type": "code",
   "execution_count": 28,
   "metadata": {},
   "outputs": [
    {
     "output_type": "execute_result",
     "data": {
      "text/plain": [
       "'https://www.douban.com/search?q=python&cat=1001'"
      ]
     },
     "metadata": {},
     "execution_count": 28
    }
   ],
   "source": [
    "#可以为get传递参数\n",
    "r = requests.get('https://www.douban.com/search', params={'q': 'python', 'cat': '1001'})\n",
    "r.url"
   ]
  },
  {
   "cell_type": "code",
   "execution_count": null,
   "metadata": {},
   "outputs": [],
   "source": []
  }
 ]
}