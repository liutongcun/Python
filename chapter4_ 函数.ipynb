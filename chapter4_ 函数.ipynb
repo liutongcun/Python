{
 "cells": [
  {
   "cell_type": "markdown",
   "metadata": {},
   "source": [
    "# 4 函数\n",
    "\n",
    "    我们熟悉的函数：print(),input(),len()。这些是Python内置函数。我们也可以自己编写类似的函数。\n",
    "    函数：是带有名字的代码块，用于完成具体的工作。要执行函数定义的特定任务，可以调用该函数。"
   ]
  },
  {
   "cell_type": "markdown",
   "metadata": {},
   "source": [
    "## 4.1 定义函数\n",
    "\n",
    "    # 最简单的函数定义，没有参数："
   ]
  },
  {
   "cell_type": "code",
   "execution_count": 1,
   "metadata": {},
   "outputs": [
    {
     "name": "stdout",
     "output_type": "stream",
     "text": [
      "Hello\n",
      "Hello there.\n"
     ]
    }
   ],
   "source": [
    "def hello():\n",
    "    '''显示简单的问候语。 三个引号可用于多行注释。 '''\n",
    "    # 注意缩进。\n",
    "    print('Hello')\n",
    "    print('Hello there.')\n",
    "    \n",
    "# 对函数的调用：\n",
    "hello()\n",
    "hello()"
   ]
  },
  {
   "cell_type": "markdown",
   "metadata": {},
   "source": [
    "    第一行是函数定义语句，定义函数用def关键词，函数的名字为hello. def hello():后面的所有缩进行构成了函数体。\n",
    "    函数之后的hello()是函数调用，可以多次调用。\n",
    "    注意：函数是在函数调用的时候才会执行，而不是函数第一次定义时执行。\n"
   ]
  },
  {
   "cell_type": "markdown",
   "metadata": {},
   "source": [
    "## 4.2 参数\n",
    "    \n",
    "    在调用print('aa'),len(a)时，是允许我们传入一些值在括号中的，成为“参数”。也可以自己定义接受函数的参数。"
   ]
  },
  {
   "cell_type": "markdown",
   "metadata": {},
   "source": [
    "1. 定义一个参数的函数"
   ]
  },
  {
   "cell_type": "code",
   "execution_count": 2,
   "metadata": {},
   "outputs": [
    {
     "name": "stdout",
     "output_type": "stream",
     "text": [
      "Hello, Zhang Lao San!\n",
      "Hello, Wang Lao Wu!\n"
     ]
    }
   ],
   "source": [
    "# 函数定义中的参数叫做：形参\n",
    "def greet_user(user_name):\n",
    "    '''参数user_name必须是一个字符串。\n",
    "    '''\n",
    "    # 注意缩进。\n",
    "    print('Hello, ' + user_name.title() + '!')\n",
    "# 调用有形参的函数时，需要指定实参。 \n",
    "greet_user('zhang lao san')\n",
    "greet_user('wang lao wu')"
   ]
  },
  {
   "cell_type": "markdown",
   "metadata": {},
   "source": [
    "2. 定义多个参数的函数"
   ]
  },
  {
   "cell_type": "code",
   "execution_count": 4,
   "metadata": {},
   "outputs": [],
   "source": [
    "def speak_language(user_name, language_name):\n",
    "    print(user_name.title() + ' speaks ' + language_name.title())\n"
   ]
  },
  {
   "cell_type": "code",
   "execution_count": 5,
   "metadata": {},
   "outputs": [
    {
     "name": "stdout",
     "output_type": "stream",
     "text": [
      "Alice speaks Chinese\n",
      "Bob speaks English\n"
     ]
    }
   ],
   "source": [
    "# 实参的传递方法一：位置实参，顺序重要\n",
    "speak_language('alice', 'chinese')\n",
    "speak_language('bob', 'english')"
   ]
  },
  {
   "cell_type": "code",
   "execution_count": 6,
   "metadata": {},
   "outputs": [
    {
     "name": "stdout",
     "output_type": "stream",
     "text": [
      "Mary speaks Chinese\n",
      "Mary speaks Chinese\n"
     ]
    }
   ],
   "source": [
    "# 实参的传递二：关键字实参，顺序不重要\n",
    "speak_language(user_name = 'mary', language_name = 'chinese')\n",
    "speak_language(language_name = 'chinese', user_name = 'mary')\n"
   ]
  },
  {
   "cell_type": "markdown",
   "metadata": {},
   "source": [
    "3. 为每个形参指定默认值"
   ]
  },
  {
   "cell_type": "code",
   "execution_count": 5,
   "metadata": {},
   "outputs": [
    {
     "name": "stdout",
     "output_type": "stream",
     "text": [
      "Charlie writes programs in Python\n",
      "David writes programs in Java\n"
     ]
    }
   ],
   "source": [
    "# 指定默认值的参数应放在最后，否则调用的时候只能用关键字实参。\n",
    "def write_program(lang='python',person='abc'):\n",
    "    print(person.title() + ' writes programs in ' + lang.title())\n",
    "    \n",
    "write_program(person='charlie')\n",
    "write_program(person='david', lang='java')"
   ]
  },
  {
   "cell_type": "markdown",
   "metadata": {},
   "source": [
    "4. 构建含有任意数量的实参的函数"
   ]
  },
  {
   "cell_type": "code",
   "execution_count": 8,
   "metadata": {},
   "outputs": [
    {
     "name": "stdout",
     "output_type": "stream",
     "text": [
      "\n",
      "Making a 8-inch pizza with the following toppings:\n",
      "- pepperoni\n",
      "\n",
      "Making a 12-inch pizza with the following toppings:\n",
      "- mushrooms\n",
      "- green peppers\n",
      "- extra cheese\n"
     ]
    }
   ],
   "source": [
    "def make_pizza(size, *toppings):\n",
    "    '''打印顾客点的所有配料。'''\n",
    "    #print(type(toppings))  # 'tuple'\n",
    "    print('\\nMaking a ' + str(size) + '-inch pizza with the following toppings:')\n",
    "    for t in toppings:\n",
    "        print('- ' + t)\n",
    "        \n",
    "make_pizza(8, 'pepperoni')\n",
    "make_pizza(12, 'mushrooms', 'green peppers', 'extra cheese')\n"
   ]
  },
  {
   "cell_type": "markdown",
   "metadata": {},
   "source": [
    "5. 传递任意数量的关键字实参"
   ]
  },
  {
   "cell_type": "code",
   "execution_count": 1,
   "metadata": {},
   "outputs": [
    {
     "name": "stdout",
     "output_type": "stream",
     "text": [
      "{'first_name': 'albert', 'last_name': 'einstein', 'location': 'princeton', 'field': 'physics'}\n"
     ]
    }
   ],
   "source": [
    "def build_profile(first, last, **user_info):\n",
    "    #print(type(user_info)) # 'dict'\n",
    "    profile = {}\n",
    "    profile['first_name'] = first\n",
    "    profile['last_name'] = last\n",
    "    for key, value in user_info.items():\n",
    "        profile[key] = value\n",
    "    print(profile)\n",
    "    \n",
    "build_profile('albert', 'einstein',location='princeton', field='physics')\n"
   ]
  },
  {
   "cell_type": "markdown",
   "metadata": {},
   "source": [
    "    练习：\n",
    "    1.编写一个名为favorite_book()的函数，其中包含一个名为title的形参。\n",
    "    这个函数打印一条消息，如one of my favorite books is Alice in Wonderland。\n",
    "    调用这个函数，并将一本图书的名称作为实参传递给它。\n",
    "    2.编写一个名为describe_city()的函数，它接受一座城市的名字以及该城市所属的国家。\n",
    "    这个函数应打印一个简单的句子，如Reykjavik is in Iceland。\n",
    "    给用于存储国家的形参指定默认值。为三座不同的城市调用这个函数。"
   ]
  },
  {
   "cell_type": "markdown",
   "metadata": {},
   "source": [
    "## 4.3 返回值\n",
    "\n",
    "    函数并非总是直接显示输出，它还可以处理一些数据，并返回一个或一组值。函数返回的值成为返回值。在函数中，可以使用return语句将值返回到调用函数的代码行。\n",
    "    返回值可以将程序的大部分繁重工作移到函数中去完成，从而简化主程序。"
   ]
  },
  {
   "cell_type": "code",
   "execution_count": 10,
   "metadata": {},
   "outputs": [
    {
     "name": "stdout",
     "output_type": "stream",
     "text": [
      "89\n"
     ]
    }
   ],
   "source": [
    "# return 1: 返回一个数值：\n",
    "def fibonacci(n):\n",
    "    '''Given a number n, return F(n).\n",
    "    Param: n must be a positive integer.\n",
    "    '''\n",
    "    f_series = [1, 1]\n",
    "    i = 2\n",
    "    while i <= n:\n",
    "        f_series.append(f_series[i-2] + f_series[i-1])\n",
    "        i += 1   \n",
    "    return f_series[n]\n",
    "\n",
    "print(fibonacci(10))\n"
   ]
  },
  {
   "cell_type": "code",
   "execution_count": 11,
   "metadata": {},
   "outputs": [
    {
     "name": "stdout",
     "output_type": "stream",
     "text": [
      "[1, 1, 2, 3, 5, 8, 13, 21, 34, 55, 89]\n"
     ]
    }
   ],
   "source": [
    "# return 2: 返回一个列表：\n",
    "def fibonacci_series(n):\n",
    "    '''Given a number n, return F(0), ..., F(n)\n",
    "    Param: n must be a positive integer.\n",
    "    '''\n",
    "    f_series = [1, 1]\n",
    "    i = 2\n",
    "    while i <= n:\n",
    "        f_series.append(f_series[i-2] + f_series[i-1])\n",
    "        i += 1   \n",
    "    return f_series\n",
    "    \n",
    "print(fibonacci_series(10))\n"
   ]
  },
  {
   "cell_type": "code",
   "execution_count": 12,
   "metadata": {},
   "outputs": [
    {
     "name": "stdout",
     "output_type": "stream",
     "text": [
      "{'name': 'Zhang Lao San', 'nation': 'China', 'age': 25}\n"
     ]
    }
   ],
   "source": [
    "# return 3: 返回字典：\n",
    "def build_person(name, nation, age):\n",
    "    person = { 'name': name, 'nation': nation, 'age': age }\n",
    "    return person\n",
    "    \n",
    "p1 = build_person('Zhang Lao San', 'China', 25)\n",
    "print(p1)\n"
   ]
  },
  {
   "cell_type": "markdown",
   "metadata": {},
   "source": [
    "    练一练：\n",
    "    将上节练习2中的describe_city()函数返回一个格式类似于下面这样的字符串,并在函数之外打印出来：\"Beijing,China\""
   ]
  },
  {
   "cell_type": "markdown",
   "metadata": {},
   "source": [
    "## 4.4 传递列表\n",
    "\n",
    "    我们可以将列表传递给函数，列表中的元素可以是名字、数或者复杂的对象等。将列表传递给函数后，函数就能够直接访问其内容。"
   ]
  },
  {
   "cell_type": "markdown",
   "metadata": {},
   "source": [
    "假设有一个用户列表，我们要问候其中的每位用户，可以将待问候的用户名放在列表中传递给函数"
   ]
  },
  {
   "cell_type": "code",
   "execution_count": 1,
   "metadata": {},
   "outputs": [
    {
     "name": "stdout",
     "output_type": "stream",
     "text": [
      "hello, Hannah!\n",
      "hello, Ty!\n",
      "hello, Margot!\n"
     ]
    }
   ],
   "source": [
    "# 定义可以接受一个列表的函数，函数收到列表后便利列表。\n",
    "\n",
    "def greet_users(names):\n",
    "    for name in names:\n",
    "        msg=f\"hello, {name.title()}!\"\n",
    "        print(msg)\n",
    "        \n",
    "usernames=['hannah','ty','margot']\n",
    "greet_users(usernames)"
   ]
  },
  {
   "cell_type": "code",
   "execution_count": 1,
   "metadata": {},
   "outputs": [
    {
     "name": "stdout",
     "output_type": "stream",
     "text": [
      "[1, 4, 9, 16, 25]\n"
     ]
    }
   ],
   "source": [
    "#编写一个函数，传递数值列表，对列表中每个元素求平方\n",
    "\n",
    "def a(x):\n",
    "    n_l=[]\n",
    "    for i in x:\n",
    "        n_l.append(i**2)\n",
    "    \n",
    "    return n_l\n",
    "\n",
    "x=[1,2,3,4,5]\n",
    "print(a(x))"
   ]
  },
  {
   "cell_type": "markdown",
   "metadata": {},
   "source": [
    "1. 在函数中修改列表\n",
    "\n",
    "    将列表传递给函数后，函数可以对列表进行修改。注意：函数中对列表的膝盖是永久性的。"
   ]
  },
  {
   "cell_type": "code",
   "execution_count": 2,
   "metadata": {},
   "outputs": [
    {
     "name": "stdout",
     "output_type": "stream",
     "text": [
      "Printing model:dodecahedron\n",
      "Printing model:robot pendant\n",
      "Printing model:phone case\n",
      "\n",
      "The following models have been printed:\n",
      "dodecahedron\n",
      "robot pendant\n",
      "phone case\n"
     ]
    }
   ],
   "source": [
    "# 一家为用户提交的设计制作3D打印模型的公司，需要打印的设计存储在一个列表中，打印后将其移到另外一个列表中。\n",
    "# 不使用函数的情况下实现该过程\n",
    "\n",
    "unprinted_designs=['phone case','robot pendant','dodecahedron']\n",
    "\n",
    "completed_models=[]\n",
    "while unprinted_designs:\n",
    "    current_design=unprinted_designs.pop()\n",
    "    print(f\"Printing model:{current_design}\")\n",
    "    completed_models.append(current_design)\n",
    "\n",
    "print('\\nThe following models have been printed:')\n",
    "for completed_model in completed_models:\n",
    "    print(completed_model)"
   ]
  },
  {
   "cell_type": "code",
   "execution_count": 2,
   "metadata": {},
   "outputs": [
    {
     "name": "stdout",
     "output_type": "stream",
     "text": [
      "Printing model:dodecahedron\n",
      "Printing model:robot pendant\n",
      "Printing model:phone case\n",
      "\n",
      "The following models have been printed:\n",
      "dodecahedron\n",
      "robot pendant\n",
      "phone case\n",
      "**********\n",
      "['phone case', 'robot pendant', 'dodecahedron']\n",
      "['dodecahedron', 'robot pendant', 'phone case']\n"
     ]
    }
   ],
   "source": [
    "# 通过函数重新组织改代码，使每个函数都做一件具体的工作\n",
    "\n",
    "def print_models(unprinted_designs, completed_models):\n",
    "    while unprinted_designs:\n",
    "        current_design=unprinted_designs.pop()\n",
    "        print(f\"Printing model:{current_design}\")\n",
    "        completed_models.append(current_design)\n",
    "        \n",
    "def show_completed_models(completed_models):\n",
    "    print('\\nThe following models have been printed:')\n",
    "    for completed_model in completed_models:\n",
    "        print(completed_model)\n",
    "        \n",
    "\n",
    "unprinted_designs=['phone case','robot pendant','dodecahedron']\n",
    "completed_models=[]\n",
    "print_models(unprinted_designs[:], completed_models)\n",
    "show_completed_models(completed_models)\n",
    "print('*'*10)\n",
    "print(unprinted_designs)\n",
    "\n",
    "print(completed_models)"
   ]
  },
  {
   "cell_type": "markdown",
   "metadata": {},
   "source": [
    "2. 禁止函数修改列表\n",
    "\n",
    "    有时候，需要禁止函数修改列表。比如，前面的例子中，即使打印好了所有的内容，仍然需要保留原来的未打印的列表，以供备案。\n",
    "    \n",
    "    为了解决该问题，可以向函数传递列表的副本，而非原件。这样，函数所做的任何修改只能影响副本，而原件则保持不变。\n",
    "    \n",
    "    function_name(list_name[:]) #切片表示法[:]表示创建列表的副本。"
   ]
  },
  {
   "cell_type": "markdown",
   "metadata": {},
   "source": [
    "#### 练习\n",
    "    1. 创建一个列表，其中包含一系列简短的文本消息，将该列表传递给一个名为show_messages()的函数，函数负责打印列表中的每条文本消息。\n",
    "    2. 在上面的例子基础上，编写一个名为send_messages()的函数，将每条消息都打印出来并移到一个名为sent_messages的列表中。\n",
    "    3. 在调用函数send_message()时，向它传递消息列表的副本。调用函数send_messages()后，将两个列表都打印出来，确认保留了原来列表中的消息。"
   ]
  },
  {
   "cell_type": "code",
   "execution_count": 5,
   "metadata": {},
   "outputs": [
    {
     "name": "stdout",
     "output_type": "stream",
     "text": [
      "['abc', 'efg', '你好，小王']\n",
      "Printing model:你好，小王\n",
      "Printing model:efg\n",
      "Printing model:abc\n",
      "你好，小王\n",
      "efg\n",
      "abc\n",
      "**********\n",
      "['abc', 'efg', '你好，小王']\n"
     ]
    }
   ],
   "source": [
    "def show_message(msg):\n",
    "    for m in msg:\n",
    "        print(m)\n",
    "        \n",
    "\n",
    "\n",
    "def print_models(unprinted_designs, completed_models):\n",
    "    while unprinted_designs:\n",
    "        current_design=unprinted_designs.pop()\n",
    "        print(f\"Printing model:{current_design}\")\n",
    "        completed_models.append(current_design)\n",
    "\n",
    "mg=['abc','efg','你好，小王']\n",
    "new_mg=[]\n",
    "\n",
    "print(mg)\n",
    "\n",
    "print_models(mg[:],new_mg)\n",
    "\n",
    "show_message(new_mg)\n",
    "\n",
    "print('*'*10)\n",
    "print(mg)"
   ]
  },
  {
   "cell_type": "code",
   "execution_count": 7,
   "metadata": {},
   "outputs": [
    {
     "ename": "NameError",
     "evalue": "name 'current_design' is not defined",
     "output_type": "error",
     "traceback": [
      "\u001b[0;31m---------------------------------------------------------------------------\u001b[0m",
      "\u001b[0;31mNameError\u001b[0m                                 Traceback (most recent call last)",
      "\u001b[0;32m<ipython-input-7-069b1591c5ac>\u001b[0m in \u001b[0;36m<module>\u001b[0;34m\u001b[0m\n\u001b[0;32m----> 1\u001b[0;31m \u001b[0mprint\u001b[0m\u001b[0;34m(\u001b[0m\u001b[0mcurrent_design\u001b[0m\u001b[0;34m)\u001b[0m\u001b[0;34m\u001b[0m\u001b[0;34m\u001b[0m\u001b[0m\n\u001b[0m",
      "\u001b[0;31mNameError\u001b[0m: name 'current_design' is not defined"
     ]
    }
   ],
   "source": [
    "print(current_design)"
   ]
  },
  {
   "cell_type": "markdown",
   "metadata": {},
   "source": [
    "## 4.5 函数参数传递机制"
   ]
  },
  {
   "cell_type": "code",
   "execution_count": 13,
   "metadata": {},
   "outputs": [
    {
     "name": "stdout",
     "output_type": "stream",
     "text": [
      "Before swap(): a =  3  b =  7\n",
      "In swap(): a =  7  b =  3\n",
      "After swap(): a =  3  b =  7\n"
     ]
    }
   ],
   "source": [
    "# 注：函数参数传递机制:值传递实际上就是将实际参数值的副本（复制品）传入函数，而参数本身不会受到任何影响。\n",
    "# （1）Python函数的参数传递机制是值传递。\n",
    "def swap(a, b):\n",
    "    a,b = b,a\n",
    "    print(\"In swap(): a = \", a, \" b = \", b)\n",
    "\n",
    "a = 3\n",
    "b = 7\n",
    "print(\"Before swap(): a = \", a, \" b = \", b)\n",
    "swap(a, b)\n",
    "print(\"After swap(): a = \", a, \" b = \", b)"
   ]
  },
  {
   "cell_type": "code",
   "execution_count": 4,
   "metadata": {},
   "outputs": [
    {
     "name": "stdout",
     "output_type": "stream",
     "text": [
      "Before swap(): a =  3  b =  7\n",
      "In swap(): a =  7  b =  3\n",
      "After swap(): a =  7  b =  3\n"
     ]
    }
   ],
   "source": [
    "# （2）如果需要让函数修改某些数据，则可以通过把这些数据\n",
    "#      包装成列表、字典等可变对象进行传递。\n",
    "def swap(dw):\n",
    "    dw['a'], dw['b'] = dw['b'], dw['a']\n",
    "    print(\"In swap(): a = \", dw['a'], \" b = \", dw['b'])\n",
    "\n",
    "dw = { 'a':3, 'b':7 }\n",
    "print(\"Before swap(): a = \", dw['a'], \" b = \", dw['b'])\n",
    "swap(dw)\n",
    "print(\"After swap(): a = \", dw['a'], \" b = \", dw['b'])\n",
    "\n"
   ]
  },
  {
   "cell_type": "code",
   "execution_count": 6,
   "metadata": {},
   "outputs": [
    {
     "name": "stdout",
     "output_type": "stream",
     "text": [
      "['phone case', 'robot pendant', 'dodecahedron']\n"
     ]
    }
   ],
   "source": [
    "print(unprinted_designs)"
   ]
  },
  {
   "cell_type": "markdown",
   "metadata": {},
   "source": [
    "## 4.6 全局变量与局部变量\n",
    "\n",
    "    根据变量定义的位置，变量分为：    \n",
    "    全局变量：在函数外面，全局范围内定义的变量，程序的任意位置都可以访问使用，也称为\"全局作用域\"。\n",
    "    局部变量：在函数中定义的变量和参数，仅仅在函数内部使用，在函数外部无效，也称为“局部作用域”。局部变量可以重复使用全局变量的名字，不影响全局变量的值。\n",
    "    \n",
    "    一个函数被调用时，就创建了一个局部作用域。在这个函数内赋值的所有变量，存在于该局部作用域内。该函数返回时，这个局部作用域就被销毁了，这些变量就丢失了。下次再调用这个函数时，局部变量不会记得该函数上次被调用时保存的值。\n",
    "    \n",
    "    注意：1. 全局作用域中的代码不能使用任何局部变量；局部作用域中的代码可以访问全局变量。\n",
    "         2. 一个函数的局部作用域中的代码不能使用其他局部作用域中的变量。\n",
    "         3. 在不同的作用域内，可以使用相同的名字命名不同的变量，也就是说，可以有一个名为spam的局部变量和一个名为span的全局变量。\n",
    "         \n",
    "         \n",
    "    为什么这么设计？\n",
    "    \n",
    "    当用特定函数调用中的代码来修改变量时，该函数与程序其他部分的交互只能通过它的参数和返回值来进行，这就缩小了可能导致bug的代码作用域。如果程序中只包含全局变量，又有一个变量赋值错误的bug，那就很难跟踪这个赋值错误发生的位置。"
   ]
  },
  {
   "cell_type": "code",
   "execution_count": 5,
   "metadata": {},
   "outputs": [
    {
     "name": "stdout",
     "output_type": "stream",
     "text": [
      "31337\n"
     ]
    },
    {
     "ename": "NameError",
     "evalue": "name 'eggs' is not defined",
     "output_type": "error",
     "traceback": [
      "\u001b[0;31m---------------------------------------------------------------------------\u001b[0m",
      "\u001b[0;31mNameError\u001b[0m                                 Traceback (most recent call last)",
      "\u001b[0;32m<ipython-input-5-4720873aac73>\u001b[0m in \u001b[0;36m<module>\u001b[0;34m\u001b[0m\n\u001b[1;32m      4\u001b[0m     \u001b[0mprint\u001b[0m\u001b[0;34m(\u001b[0m\u001b[0meggs\u001b[0m\u001b[0;34m)\u001b[0m\u001b[0;34m\u001b[0m\u001b[0;34m\u001b[0m\u001b[0m\n\u001b[1;32m      5\u001b[0m \u001b[0mspam\u001b[0m\u001b[0;34m(\u001b[0m\u001b[0;34m)\u001b[0m\u001b[0;34m\u001b[0m\u001b[0;34m\u001b[0m\u001b[0m\n\u001b[0;32m----> 6\u001b[0;31m \u001b[0mprint\u001b[0m\u001b[0;34m(\u001b[0m\u001b[0meggs\u001b[0m\u001b[0;34m)\u001b[0m\u001b[0;34m\u001b[0m\u001b[0;34m\u001b[0m\u001b[0m\n\u001b[0m",
      "\u001b[0;31mNameError\u001b[0m: name 'eggs' is not defined"
     ]
    }
   ],
   "source": [
    "# 例1： 局部变量不能在全局作用域内使用\n",
    "def spam():\n",
    "    eggs=31337\n",
    "    print(eggs)\n",
    "spam()\n",
    "print(eggs)"
   ]
  },
  {
   "cell_type": "code",
   "execution_count": 9,
   "metadata": {},
   "outputs": [
    {
     "name": "stdout",
     "output_type": "stream",
     "text": [
      "99\n"
     ]
    }
   ],
   "source": [
    "# 例2：局部作用域不能使用其他局部作用域内的变量\n",
    "def bacon():\n",
    "    ham=101\n",
    "    eggs=0\n",
    "\n",
    "def spam():\n",
    "    eggs=99\n",
    "    bacon()\n",
    "    print(eggs)\n",
    "spam() \n"
   ]
  },
  {
   "cell_type": "markdown",
   "metadata": {},
   "source": [
    "\n",
    "'''\n",
    "解读：在程序开始运行时，spam（）函数被调用，创建一个局部作用域，局部变量eggs被赋值为99.\n",
    "然后又调用了bacon（）函数，创建了第二个局部作用域。这时候存在两个局部作用域。\n",
    "在第二个局部作用域中，局部变量ham被赋值为101，局部变量eggs也被创建，被赋值为0，这里的eggs只在第二个作用域内有效。\n",
    "当bacon（）调用结束返回后，这次调用的局部作用域就被销毁，但是第一个局部作用域仍然存在，eggs仍然为99.\n",
    "'''"
   ]
  },
  {
   "cell_type": "code",
   "execution_count": 11,
   "metadata": {},
   "outputs": [
    {
     "name": "stdout",
     "output_type": "stream",
     "text": [
      "42\n"
     ]
    }
   ],
   "source": [
    "# 例3： 全局变量可以在局部作用域中读取\n",
    "eggs=42\n",
    "def spam():\n",
    "    print(eggs)\n",
    "spam()\n"
   ]
  },
  {
   "cell_type": "code",
   "execution_count": 14,
   "metadata": {},
   "outputs": [
    {
     "name": "stdout",
     "output_type": "stream",
     "text": [
      "bacon local\n",
      "spam local\n",
      "bacon local\n",
      "global\n"
     ]
    }
   ],
   "source": [
    "# 例4：名称相同的全局变量和局部变量\n",
    "# 从技术上来讲，Python允许局部变量和全局变量同名，但是不建议这么做。\n",
    "\n",
    "def spam():\n",
    "    eggs='spam local'\n",
    "    print(eggs)\n",
    "def bacon():\n",
    "    eggs='bacon local'\n",
    "    print(eggs)\n",
    "    spam()\n",
    "    print(eggs)\n",
    "    \n",
    "eggs='global'\n",
    "bacon()\n",
    "print(eggs)"
   ]
  },
  {
   "cell_type": "code",
   "execution_count": 15,
   "metadata": {},
   "outputs": [
    {
     "name": "stdout",
     "output_type": "stream",
     "text": [
      "spam\n"
     ]
    }
   ],
   "source": [
    "# 例5： global\n",
    "#如果需要在一个函数内将局部变量修改为全局变量，可以使用global语句\n",
    "\n",
    "def spam():\n",
    "    global eggs\n",
    "    eggs='spam'\n",
    "\n",
    "eggs='global'\n",
    "spam()\n",
    "print(eggs)"
   ]
  },
  {
   "cell_type": "markdown",
   "metadata": {},
   "source": [
    "#### 总结\n",
    "    区分一个变量是处于局部作用域还是全局作用域的方法：\n",
    "    1. 如果变量在全局作用域中使用，它就是全局变量；\n",
    "    2. 如果变量在一个函数中，有针对该变量的global语句，它就是全局变量\n",
    "    3. 如果变量用于函数中的赋值语句，它就是局部变量\n",
    "   "
   ]
  },
  {
   "cell_type": "code",
   "execution_count": 15,
   "metadata": {},
   "outputs": [
    {
     "name": "stdout",
     "output_type": "stream",
     "text": [
      "Before calling test():\n",
      "Alice Bob Charlie\n",
      "---- In test() ----\n",
      "Wang Lao Wu\n",
      "Zhang San\n",
      "Charlie\n",
      "Li Si\n",
      "---- End of test() ----\n",
      "After calling test():\n",
      "Alice Bob Charlie\n"
     ]
    }
   ],
   "source": [
    "# 例6：综合例子\n",
    "name1 = 'Alice' # 全局变量\n",
    "name2 = 'Bob'\n",
    "name3 = 'Charlie'\n",
    "\n",
    "def test(name):\n",
    "    name2 = 'Zhang San' # 局部变量，屏蔽了同名的全局变量\n",
    "    name4 = 'Li Si' # 局部变量\n",
    "    print('---- In test() ----')\n",
    "    print(name1)  # 访问的是局部变量\n",
    "    print(name2)  # 访问的是局部变量\n",
    "    print(name3)  # 访问的是全局变量\n",
    "    print(name4)  # 访问的是局部变量\n",
    "    print('---- End of test() ----')\n",
    "    \n",
    "print('Before calling test():')\n",
    "print(name1, name2, name3)\n",
    "test('Wang Lao Wu')\n",
    "print('After calling test():')\n",
    "print(name1, name2, name3)"
   ]
  },
  {
   "cell_type": "markdown",
   "metadata": {},
   "source": [
    "    注意：局部变量只在函数里面调用，在外面是不行的"
   ]
  },
  {
   "cell_type": "code",
   "execution_count": 17,
   "metadata": {},
   "outputs": [
    {
     "ename": "NameError",
     "evalue": "name 'name4' is not defined",
     "output_type": "error",
     "traceback": [
      "\u001b[0;31m---------------------------------------------------------------------------\u001b[0m",
      "\u001b[0;31mNameError\u001b[0m                                 Traceback (most recent call last)",
      "\u001b[0;32m<ipython-input-17-c4205d61d470>\u001b[0m in \u001b[0;36m<module>\u001b[0;34m\u001b[0m\n\u001b[0;32m----> 1\u001b[0;31m \u001b[0mprint\u001b[0m\u001b[0;34m(\u001b[0m\u001b[0mname4\u001b[0m\u001b[0;34m)\u001b[0m\u001b[0;34m\u001b[0m\u001b[0;34m\u001b[0m\u001b[0m\n\u001b[0m",
      "\u001b[0;31mNameError\u001b[0m: name 'name4' is not defined"
     ]
    }
   ],
   "source": [
    "print(name4)"
   ]
  },
  {
   "cell_type": "markdown",
   "metadata": {},
   "source": [
    "#### 练习：\n",
    "\n",
    "    1.编写一个程序，询问用户有多少人用餐。如果超过8人，就打印一条消息，指出没有空桌；否则指出有空桌。\n",
    "    2.让用户输入一个数字，并指出这个数字是否是10的整数倍。\n",
    "    3.将上面两段代码封装成函数，然后调用。"
   ]
  },
  {
   "cell_type": "markdown",
   "metadata": {},
   "source": [
    "## 4.7 匿名函数\n",
    "\n",
    "    使用lambda关键字可以创建匿名函数。\n",
    "    注意，lambda只能创建简单的匿名函数，定义的函数只能用纯表达式，不能使用赋值、while和for等复杂语句。"
   ]
  },
  {
   "cell_type": "code",
   "execution_count": 16,
   "metadata": {},
   "outputs": [
    {
     "data": {
      "text/plain": [
       "['banana', 'apple', 'fig', 'raspberry', 'strawberry', 'cherry']"
      ]
     },
     "execution_count": 16,
     "metadata": {},
     "output_type": "execute_result"
    }
   ],
   "source": [
    "# 使用lambda表达式反转拼写，然后进行排序\n",
    "fruits=['strawberry','fig','apple','cherry','raspberry','banana']\n",
    "sorted(fruits,key=lambda word:word[::-1])"
   ]
  },
  {
   "cell_type": "code",
   "execution_count": null,
   "metadata": {},
   "outputs": [],
   "source": []
  }
 ],
 "metadata": {
  "kernelspec": {
   "display_name": "Python 3",
   "language": "python",
   "name": "python3"
  },
  "language_info": {
   "codemirror_mode": {
    "name": "ipython",
    "version": 3
   },
   "file_extension": ".py",
   "mimetype": "text/x-python",
   "name": "python",
   "nbconvert_exporter": "python",
   "pygments_lexer": "ipython3",
   "version": "3.8.3"
  }
 },
 "nbformat": 4,
 "nbformat_minor": 4
}
