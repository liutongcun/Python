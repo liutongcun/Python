{
 "cells": [
  {
   "cell_type": "markdown",
   "metadata": {},
   "source": [
    "# 8.1 使用pandas操作csv文件"
   ]
  },
  {
   "cell_type": "code",
   "execution_count": 1,
   "metadata": {},
   "outputs": [
    {
     "name": "stdout",
     "output_type": "stream",
     "text": [
      "     A  B    C\n",
      "0  1.0  2  3.0\n",
      "1  2.0  3  4.0\n",
      "2  3.0  4  5.0\n",
      "3  4.0  5  6.0\n",
      "4  NaN  6  7.0\n",
      "5  6.0  7  NaN\n",
      "打印前5行：\n",
      "     A  B    C  five\n",
      "0  1.0  2  3.0   100\n",
      "1  2.0  3  4.0   200\n",
      "2  3.0  4  5.0   300\n",
      "3  4.0  5  6.0   400\n",
      "4  NaN  6  7.0   500\n",
      "查看数据的行，以对象返回:\n",
      "RangeIndex(start=0, stop=6, step=1)\n",
      "查看数据的列键\n",
      "查看five这一列的数据\n",
      "   five\n",
      "0   100\n",
      "1   200\n",
      "2   300\n",
      "3   400\n",
      "4   500\n",
      "5   600\n",
      "查看数据的行数和列数\n",
      "(6, 4)\n"
     ]
    }
   ],
   "source": [
    "import pandas as pd\n",
    "#使用pandas读取csv文件\n",
    "data=pd.read_csv('./data/test.csv')\n",
    "print(data)\n",
    "# 在DataFrame中增加一列：\n",
    "data['five'] = [100,200,300,400,500,600]\n",
    "print('打印前5行：')\n",
    "print(data.head())\n",
    "print('查看数据的行，以对象返回:')\n",
    "print(data.index) \n",
    "print('查看数据的列键')\n",
    " \n",
    "print('查看five这一列的数据')\n",
    "print(data.loc[:,['five']])\n",
    "print('查看数据的行数和列数')\n",
    "print(data.shape)"
   ]
  },
  {
   "cell_type": "code",
   "execution_count": 2,
   "metadata": {},
   "outputs": [
    {
     "name": "stdout",
     "output_type": "stream",
     "text": [
      "              A         B         C        five\n",
      "count  5.000000  6.000000  5.000000    6.000000\n",
      "mean   3.200000  4.500000  5.000000  350.000000\n",
      "std    1.923538  1.870829  1.581139  187.082869\n",
      "min    1.000000  2.000000  3.000000  100.000000\n",
      "25%    2.000000  3.250000  4.000000  225.000000\n",
      "50%    3.000000  4.500000  5.000000  350.000000\n",
      "75%    4.000000  5.750000  6.000000  475.000000\n",
      "max    6.000000  7.000000  7.000000  600.000000\n"
     ]
    }
   ],
   "source": [
    "print(data.describe())\n",
    "# 默认统计数值型数据每列数据平均值，标准差，最大值，最小值，25%，50%，75%比例。"
   ]
  },
  {
   "cell_type": "code",
   "execution_count": 3,
   "metadata": {},
   "outputs": [
    {
     "name": "stdout",
     "output_type": "stream",
     "text": [
      "600\n",
      "1.0\n",
      "3.2\n",
      "     A  B    C  five\n",
      "0  1.0  2  3.0   100\n",
      "1  2.0  3  4.0   200\n",
      "2  3.0  4  5.0   300\n",
      "3  4.0  5  6.0   400\n",
      "5  6.0  7  NaN   600\n",
      "4  NaN  6  7.0   500\n",
      "     A  B    C  five\n",
      "5  6.0  7  NaN   600\n",
      "3  4.0  5  6.0   400\n",
      "2  3.0  4  5.0   300\n",
      "1  2.0  3  4.0   200\n",
      "0  1.0  2  3.0   100\n",
      "4  NaN  6  7.0   500\n",
      "     A  B    C  five\n",
      "0  1.0  2  3.0   100\n",
      "1  2.0  3  4.0   200\n",
      "2  3.0  4  5.0   300\n",
      "3  4.0  5  6.0   400\n",
      "4  NaN  6  7.0   500\n",
      "5  6.0  7  NaN   600\n"
     ]
    }
   ],
   "source": [
    "# 某一列的最大值，最小值，排序\n",
    "print(data[\"five\"].max())\n",
    "\n",
    "print(data[\"A\"].min())\n",
    "\n",
    "\n",
    "# 求均值（会自动过滤掉  那些有缺失值的数据，进而求平均值）\n",
    "print(data[\"A\"].mean())\n",
    "\n",
    "\n",
    "print(data.sort_values(\"A\",inplace=False))\n",
    "#第一个参数指排序的字段（默认升序），第二个参数是否替换data本身的数据(新生成一个DataFrame，并让data指向ta)\n",
    "\n",
    "\n",
    "# 第三个参数——升降序\n",
    "print(data.sort_values(\"A\",inplace=False,ascending=False))\n",
    "print(data)\n"
   ]
  },
  {
   "cell_type": "code",
   "execution_count": 4,
   "metadata": {},
   "outputs": [
    {
     "name": "stdout",
     "output_type": "stream",
     "text": [
      "       A      B      C   five\n",
      "0   True   True   True  False\n",
      "1   True   True   True  False\n",
      "2   True   True  False  False\n",
      "3   True  False  False  False\n",
      "4  False  False  False  False\n",
      "5  False  False  False  False\n",
      "     A  B    C  five\n",
      "0  0.0  0  0.0   100\n",
      "1  0.0  0  0.0   200\n",
      "2  0.0  0  5.0   300\n",
      "3  0.0  5  6.0   400\n",
      "4  NaN  6  7.0   500\n",
      "5  6.0  7  NaN   600\n"
     ]
    }
   ],
   "source": [
    "# 通过值来选择：\n",
    "print(data < 5)\n",
    "data[data<5] = 0 # 将所有小于5的元素设置为0\n",
    "print(data)"
   ]
  },
  {
   "cell_type": "code",
   "execution_count": 5,
   "metadata": {},
   "outputs": [
    {
     "name": "stdout",
     "output_type": "stream",
     "text": [
      "     A  B    C  five\n",
      "1  0.0  0  0.0   200\n",
      "2  0.0  0  5.0   300\n",
      "3  0.0  5  6.0   400\n",
      "4  NaN  6  7.0   500\n",
      "5  6.0  7  NaN   600\n",
      "     A  B    C  five\n",
      "0  0.0  0  0.0   100\n",
      "1  0.0  0  0.0   200\n",
      "2  0.0  0  5.0   300\n",
      "3  0.0  5  6.0   400\n",
      "4  NaN  6  7.0   500\n",
      "5  6.0  7  NaN   600\n"
     ]
    }
   ],
   "source": [
    "print(data.drop(0,axis=0)) #删除行，注意原数据不变，返回一个新数据\n",
    "print(data)"
   ]
  },
  {
   "cell_type": "code",
   "execution_count": 6,
   "metadata": {},
   "outputs": [
    {
     "name": "stdout",
     "output_type": "stream",
     "text": [
      "     A  B    C  five\n",
      "0  0.0  0  0.0   100\n",
      "1  0.0  0  0.0   200\n",
      "2  0.0  0  5.0   300\n",
      "3  0.0  5  6.0   400\n",
      "     A  B    C  five\n",
      "0  0.0  0  0.0   100\n",
      "1  0.0  0  0.0   200\n",
      "2  0.0  0  5.0   300\n",
      "3  0.0  5  6.0   400\n",
      "5  6.0  7  NaN   600\n",
      "   B  five\n",
      "0  0   100\n",
      "1  0   200\n",
      "2  0   300\n",
      "3  5   400\n",
      "4  6   500\n",
      "5  7   600\n",
      "     A  B    C  five\n",
      "0  0.0  0  0.0   100\n",
      "1  0.0  0  0.0   200\n",
      "2  0.0  0  5.0   300\n",
      "3  0.0  5  6.0   400\n",
      "4  0.0  6  7.0   500\n",
      "5  6.0  7  0.0   600\n",
      "     A  B    C  five\n",
      "0  0.0  0  0.0   100\n",
      "1  0.0  0  0.0   200\n",
      "2  0.0  0  5.0   300\n",
      "3  0.0  5  6.0   400\n",
      "4  NaN  6  7.0   500\n",
      "5  6.0  7  NaN   600\n"
     ]
    }
   ],
   "source": [
    "# 处理“空数据”\n",
    "# 可以根据需求将某些值drop掉 axis=0 表示去掉有空数据的行\n",
    "print(data.dropna(axis=0))\n",
    "\n",
    "# 可以根据需求，去掉在某些列（subset=）上为空的数据的行\n",
    "print(data.dropna(axis=0,subset=[\"A\"]))\n",
    "\n",
    "# 可以根据需求去掉某些存在 空数据的  某些列\n",
    "print(data.dropna(axis=1))\n",
    "\n",
    "\n",
    "#可以填充缺失数据：fillna()函数，inplace参数控制返回新对象还是就地修改\n",
    "print(data.fillna(0, inplace = False))\n",
    "print(data)"
   ]
  },
  {
   "cell_type": "code",
   "execution_count": 7,
   "metadata": {},
   "outputs": [],
   "source": [
    "#删除一行并写入到原csv文件\n",
    "data_new=data.drop(0,axis=0)\n",
    "data_new.to_csv('./data/new_test.csv')"
   ]
  },
  {
   "cell_type": "code",
   "execution_count": 8,
   "metadata": {},
   "outputs": [
    {
     "name": "stdout",
     "output_type": "stream",
     "text": [
      "           Name  Test_1  Test_2  Test_3  Total    Average\n",
      "ID                                                       \n",
      "1   Student_001      62      86      83    231  77.000000\n",
      "2   Student_002      77      97      78    252  84.000000\n",
      "3   Student_003      57      96      46    199  66.333333\n",
      "4   Student_004      57      87      80    224  74.666667\n",
      "5   Student_005      95      59      87    241  80.333333\n",
      "6   Student_006      56      97      61    214  71.333333\n",
      "7   Student_007      64      91      67    222  74.000000\n",
      "8   Student_008      96      70      48    214  71.333333\n",
      "9   Student_009      77      73      48    198  66.000000\n",
      "10  Student_010      90      94      67    251  83.666667\n",
      "11  Student_011      62      55      63    180  60.000000\n",
      "12  Student_012      83      76      81    240  80.000000\n",
      "13  Student_013      68      60      90    218  72.666667\n",
      "14  Student_014      82      68      98    248  82.666667\n",
      "15  Student_015      61      67      91    219  73.000000\n",
      "16  Student_016      59      63      46    168  56.000000\n",
      "17  Student_017      62      83      93    238  79.333333\n",
      "18  Student_018      90      75      80    245  81.666667\n",
      "19  Student_019     100      95      55    250  83.333333\n",
      "20  Student_020      61      87     100    248  82.666667\n",
      "           Name  Test_1  Test_2  Test_3  Total    Average\n",
      "0   Student_001   62.00   86.00    83.0  231.0  77.000000\n",
      "1   Student_002   77.00   97.00    78.0  252.0  84.000000\n",
      "2   Student_003   57.00   96.00    46.0  199.0  66.333333\n",
      "3   Student_004   57.00   87.00    80.0  224.0  74.666667\n",
      "4   Student_005   95.00   59.00    87.0  241.0  80.333333\n",
      "5   Student_006   56.00   97.00    61.0  214.0  71.333333\n",
      "6   Student_007   64.00   91.00    67.0  222.0  74.000000\n",
      "7   Student_008   96.00   70.00    48.0  214.0  71.333333\n",
      "8   Student_009   77.00   73.00    48.0  198.0  66.000000\n",
      "9   Student_010   90.00   94.00    67.0  251.0  83.666667\n",
      "10  Student_011   62.00   55.00    63.0  180.0  60.000000\n",
      "11  Student_012   83.00   76.00    81.0  240.0  80.000000\n",
      "12  Student_013   68.00   60.00    90.0  218.0  72.666667\n",
      "13  Student_014   82.00   68.00    98.0  248.0  82.666667\n",
      "14  Student_015   61.00   67.00    91.0  219.0  73.000000\n",
      "15  Student_016   59.00   63.00    46.0  168.0  56.000000\n",
      "16  Student_017   62.00   83.00    93.0  238.0  79.333333\n",
      "17  Student_018   90.00   75.00    80.0  245.0  81.666667\n",
      "18  Student_019  100.00   95.00    55.0  250.0  83.333333\n",
      "19  Student_020   61.00   87.00   100.0  248.0  82.666667\n",
      "20      Summary   72.95   78.95    73.1  225.0  75.000000\n"
     ]
    }
   ],
   "source": [
    "#练习题：给学生三次测试的成绩表，统计每个学生三次成绩的总和及平均分，并添加到最后两列；统计每次测试成绩、学生总分、平均分的平均分，并添加到最后一行\n",
    "import pandas as pd\n",
    "\n",
    "students = pd.read_excel('C:/Temp/Students_3.xlsx', index_col='ID')\n",
    "\n",
    "row_sum = students[['Test_1', 'Test_2', 'Test_3']].sum(axis=1)\n",
    "row_mean = students[['Test_1', 'Test_2', 'Test_3']].mean(axis=1)\n",
    "\n",
    "students['Total'] = row_sum\n",
    "students['Average'] = row_mean\n",
    "print(students)\n",
    "\n",
    "col_mean = students[['Test_1', 'Test_2', 'Test_3', 'Total', 'Average']].mean()\n",
    "col_mean['Name'] = 'Summary'\n",
    "students = students.append(col_mean, ignore_index=True)\n",
    "print(students)\n",
    "\n"
   ]
  },
  {
   "cell_type": "markdown",
   "metadata": {},
   "source": [
    "# 8.2 回归分析"
   ]
  },
  {
   "cell_type": "code",
   "execution_count": 9,
   "metadata": {
    "pycharm": {
     "name": "#%%\n"
    }
   },
   "outputs": [],
   "source": [
    "#scikit-learn是基于Python的一个机器学习库，你可以在scikit-learn库中选择合适的模型，使用它训练数据集并对新数据集作出预测。在使用之前我们同样需要pip install sklearn"
   ]
  },
  {
   "cell_type": "code",
   "execution_count": 10,
   "metadata": {
    "pycharm": {
     "name": "#%%\n"
    }
   },
   "outputs": [
    {
     "name": "stdout",
     "output_type": "stream",
     "text": [
      "[4.94, -1.58, -4.45, -6.06, -1.22, -3.55, 0.36, -3.24, 1.31, 2.17, 2.94, -0.92, -0.91, 1.24, 1.56, -4.14, 3.75, 4.15, 0.33, 3.41, 2.27, 2.6, 1.06, 1.04, 2.74, -0.71, -2.75, 0.55, -3.45, 1.09, 2.47, -6.35, 1.83, -0.68, -3.83, -2.03, 3.13, 0.92, 4.02, 3.89, -1.81, 3.94, -2.0, 0.54, 0.78, 2.15, 2.55, -0.63, 1.06, -0.36]\n",
      "[4.37, 1.7, 1.88, 0.56, 2.23, 1.53, 2.99, 0.48, 2.76, 3.99, 3.25, 2.27, 2.0, 4.75, 3.52, 1.39, 4.9, 4.44, 2.72, 4.59, 5.3, 3.43, 2.53, 3.69, 3.1, 2.72, 2.82, 3.53, 1.77, 4.61, 4.24, 1.0, 3.84, 2.42, 0.67, 1.07, 3.19, 4.21, 5.24, 3.94, 2.85, 4.86, 1.31, 3.99, 2.92, 4.72, 3.83, 2.58, 2.89, 1.99]\n"
     ]
    }
   ],
   "source": [
    "#回归通过训练给定的示例即训练集，模型学习到输入特征和输出值之间的映射关系\n",
    "# 线性回归预测案例\n",
    "# 线性回归的目标是提取输入变量与输出变量的关联线性模型，这就要求实际输出与线性方程预测的输出的残差平方和最小化。这种方法也别称为最小二乘法。\n",
    "import sys\n",
    "import numpy as np\n",
    "from sklearn.linear_model import LinearRegression#调用线性回归模型 \n",
    "import sklearn.metrics as sm#调用精度评价\n",
    "import matplotlib.pyplot as plt#调用作图工具\n",
    "\n",
    "X = []\n",
    "y = []\n",
    "f = open('./data/data_singlevar.txt', 'r')#打开文件\n",
    "lines = f.readlines()     #一次性按行把所有数据读取出来\n",
    "for line in lines:       #逐行读取文件\n",
    "    #print(line)          #打印一行数据\n",
    "    xt, yt = [float(i) for i in line.split(',')]#逗号分隔字段，并将字段转化为浮点数\n",
    "    X.append(xt)\n",
    "    y.append(yt)\n",
    "print(X)\n",
    "print(y)"
   ]
  },
  {
   "cell_type": "code",
   "execution_count": 11,
   "metadata": {
    "pycharm": {
     "name": "#%%\n"
    }
   },
   "outputs": [],
   "source": [
    "#建立机器学习模型时，需要用一种方法来验证模型，检查模型是否达到一定的满意度。为了实现这个方法，把数据分成两组：训练集（training dataset）和测试集（testing dataset）。训练集用来建立模型，测试集用来验证模型对未知数据的学习效果。因此，先把数据分为训练集和测试集。\n",
    "#划分数据为训练集与验证集\n",
    "num_training = int(0.8*len(X))\n",
    "num_test = len(X) - num_training\n",
    "#训练数据,80%的数据是训练数据\n",
    "X_train = np.array(X[:num_training]).reshape(num_training, 1)\n",
    "y_train = np.array(y[:num_training])\n",
    "#测试数据，20%的数据是测试数据\n",
    "X_test = np.array(X[num_training:]).reshape(num_test, 1)\n",
    "y_test = np.array(y[num_training:])"
   ]
  },
  {
   "cell_type": "code",
   "execution_count": 12,
   "metadata": {
    "pycharm": {
     "name": "#%%\n"
    }
   },
   "outputs": [
    {
     "name": "stdout",
     "output_type": "stream",
     "text": [
      "The score of LinearRegressor is: 0.6751586633878082\n"
     ]
    }
   ],
   "source": [
    "#训练模型\n",
    "linear_regressor = LinearRegression()\n",
    "linear_regressor.fit(X_train, y_train) #用训练数据训练模型\n",
    "y_predict = linear_regressor.predict(X_train)\n",
    "#用训练好的模型对测试集上的数据进行预测\n",
    "y_test_predict = linear_regressor.predict(X_test) #预测输出结果\n",
    "print('The score of LinearRegressor is:',linear_regressor.score(X_test, y_test))"
   ]
  },
  {
   "cell_type": "code",
   "execution_count": 13,
   "metadata": {
    "pycharm": {
     "name": "#%%\n"
    }
   },
   "outputs": [
    {
     "data": {
      "image/png": "[encoded data removed]",
      "text/plain": [
       "<Figure size 432x288 with 1 Axes>"
      ]
     },
     "metadata": {
      "needs_background": "light"
     },
     "output_type": "display_data"
    }
   ],
   "source": [
    "#绘图 对预测数据进行可视化展示\n",
    "plt.figure()\n",
    "plt.scatter(X_train, y_train, color = 'green')\n",
    "plt.plot(X_train, y_predict, color = 'black', linewidth = 4)\n",
    "plt.title('Traning Data')\n",
    "plt.show()"
   ]
  },
  {
   "cell_type": "code",
   "execution_count": 14,
   "metadata": {
    "pycharm": {
     "name": "#%%\n"
    }
   },
   "outputs": [
    {
     "data": {
      "image/png": "[encoded data removed]",
      "text/plain": [
       "<Figure size 432x288 with 1 Axes>"
      ]
     },
     "metadata": {
      "needs_background": "light"
     },
     "output_type": "display_data"
    }
   ],
   "source": [
    "plt.scatter(X_test, y_test, color = 'green')\n",
    "plt.plot(X_test, y_test_predict, color = 'black', linewidth = 4)\n",
    "plt.title('Test Data')\n",
    "plt.show()"
   ]
  },
  {
   "cell_type": "markdown",
   "metadata": {},
   "source": [
    "## 8.2.1 分类"
   ]
  },
  {
   "cell_type": "code",
   "execution_count": 15,
   "metadata": {
    "pycharm": {
     "name": "#%%\n"
    }
   },
   "outputs": [
    {
     "name": "stdout",
     "output_type": "stream",
     "text": [
      "dict_keys(['data', 'target', 'frame', 'target_names', 'DESCR', 'feature_names'])\n"
     ]
    },
    {
     "data": {
      "text/plain": [
       "(178, 13)"
      ]
     },
     "execution_count": 15,
     "metadata": {},
     "output_type": "execute_result"
    }
   ],
   "source": [
    "#调用sklearn库的knn算法进行酒的分类。\n",
    "#KNN分类算法：如果一个样本在特征空间中的K个最相似（即特征空间中最邻近）的样本中的大多数属于某一个类别，则该样本也属于这个类别。\n",
    "from sklearn.datasets import load_wine\n",
    "#从datasets中载入酒的数据集\n",
    "wine_dataset = load_wine()\n",
    "#实际上load_wine()函数载入的数据集是一种字典对象，它包括keys和values\n",
    "print(wine_dataset.keys())\n",
    "#看看数据集中究竟有多少样本和变量\n",
    "wine_dataset['data'].shape"
   ]
  },
  {
   "cell_type": "code",
   "execution_count": 16,
   "metadata": {
    "pycharm": {
     "name": "#%%\n"
    }
   },
   "outputs": [
    {
     "data": {
      "text/plain": [
       "((133, 13), (45, 13), (45,), (133,))"
      ]
     },
     "execution_count": 16,
     "metadata": {},
     "output_type": "execute_result"
    }
   ],
   "source": [
    "#生成训练数据集和测试数据集\n",
    "#导入数据集拆分工具\n",
    "from sklearn.model_selection import train_test_split\n",
    "#将数据集拆分为训练数据集和测试数据集\n",
    "x_train, x_test, y_train, y_test = train_test_split(wine_dataset['data'], wine_dataset['target'], random_state=0)\n",
    "#拆分后的数据集\n",
    "x_train.shape,x_test.shape,y_test.shape,y_train.shape"
   ]
  },
  {
   "cell_type": "code",
   "execution_count": 17,
   "metadata": {
    "pycharm": {
     "name": "#%%\n"
    }
   },
   "outputs": [],
   "source": [
    "#使用KNN进行建模\n",
    "#导入KNN分类模型\n",
    "from sklearn.neighbors import KNeighborsClassifier\n",
    "#指定模型的n_neighbors参数值为1\n",
    "knn = KNeighborsClassifier(n_neighbors = 1)\n",
    "#接下来我们要使用knn对象中称为拟合(fit)的方法来进行建模，建模的 依据就是x_train和y_train"
   ]
  },
  {
   "cell_type": "code",
   "execution_count": 18,
   "metadata": {
    "pycharm": {
     "name": "#%%\n"
    }
   },
   "outputs": [
    {
     "data": {
      "text/plain": [
       "KNeighborsClassifier(n_neighbors=1)"
      ]
     },
     "execution_count": 18,
     "metadata": {},
     "output_type": "execute_result"
    }
   ],
   "source": [
    "#拟合knn模型\n",
    "knn.fit(x_train,y_train)"
   ]
  },
  {
   "cell_type": "code",
   "execution_count": 19,
   "metadata": {
    "pycharm": {
     "name": "#%%\n"
    }
   },
   "outputs": [
    {
     "data": {
      "text/plain": [
       "0.7555555555555555"
      ]
     },
     "execution_count": 19,
     "metadata": {},
     "output_type": "execute_result"
    }
   ],
   "source": [
    "#使用模型对新样本的分类进行预测\n",
    "#在这之前先用测试数据集对模型进行打分\n",
    "knn.score(x_test,y_test)"
   ]
  },
  {
   "cell_type": "code",
   "execution_count": 20,
   "metadata": {
    "pycharm": {
     "name": "#%%\n"
    }
   },
   "outputs": [
    {
     "data": {
      "text/plain": [
       "array(['class_2'], dtype='<U7')"
      ]
     },
     "execution_count": 20,
     "metadata": {},
     "output_type": "execute_result"
    }
   ],
   "source": [
    "#下面我们用建好的模型对新酒做出分类预测\n",
    "import numpy as np\n",
    "#输入新的数据点\n",
    "x_new = np.array([[13.2, 2.77, 2.51, 18.5, 96.6, 1.04, 2.55, 0.57, 1.47, 6.2, 1.05, 3.33, 820]])\n",
    "#使用predict()进行预测\n",
    "prediction = knn.predict(x_new)\n",
    "#接下来看新酒属于哪个分类\n",
    "wine_dataset['target_names'][prediction]"
   ]
  },
  {
   "cell_type": "markdown",
   "metadata": {},
   "source": [
    "## 8.2.2 聚类"
   ]
  },
  {
   "cell_type": "code",
   "execution_count": 21,
   "metadata": {
    "pycharm": {
     "name": "#%%\n"
    }
   },
   "outputs": [
    {
     "name": "stderr",
     "output_type": "stream",
     "text": [
      "C:\\Users\\22814\\Anaconda3\\envs\\tf_1.14\\lib\\site-packages\\sklearn\\utils\\deprecation.py:143: FutureWarning: The sklearn.datasets.samples_generator module is  deprecated in version 0.22 and will be removed in version 0.24. The corresponding classes / functions should instead be imported from sklearn.datasets. Anything that cannot be imported from sklearn.datasets is now part of the private API.\n",
      "  warnings.warn(message, FutureWarning)\n"
     ]
    }
   ],
   "source": [
    "#聚类是在没有给定划分类别的情况下，根据数据的相似度进行分组的一种方法，分组的原则是组内距离最小化而组间距离最大化。\n",
    "import matplotlib.pyplot as plt\n",
    "from sklearn.datasets.samples_generator import make_blobs\n",
    "from sklearn.cluster import KMeans\n",
    "from sklearn.metrics import calinski_harabasz_score\n",
    "\n",
    "# 创建数据集\n",
    "# X为样本特征，Y为样本簇类别， 共1000个样本，每个样本4个特征，共4个簇，\n",
    "# 簇中心在[-1,-1], [0,0],[1,1], [2,2]， 簇方差分别为[0.4, 0.2, 0.2, 0.2]\n",
    "X, y = make_blobs(n_samples=1000, n_features=2, centers=[[-1, -1], [0, 0], [1, 1], [2, 2]],\n",
    "                  cluster_std=[0.4, 0.2, 0.2, 0.2],\n",
    "                  random_state=9)\n"
   ]
  },
  {
   "cell_type": "code",
   "execution_count": 22,
   "metadata": {
    "pycharm": {
     "name": "#%%\n"
    }
   },
   "outputs": [
    {
     "data": {
      "image/png": "[encoded data removed]",
      "text/plain": [
       "<Figure size 432x288 with 1 Axes>"
      ]
     },
     "metadata": {
      "needs_background": "light"
     },
     "output_type": "display_data"
    }
   ],
   "source": [
    "# 数据集可视化\n",
    "plt.scatter(X[:, 0], X[:, 1], marker='o')\n",
    "plt.show()"
   ]
  },
  {
   "cell_type": "code",
   "execution_count": 23,
   "metadata": {
    "pycharm": {
     "name": "#%%\n"
    }
   },
   "outputs": [
    {
     "data": {
      "image/png": "[encoded data removed]",
      "text/plain": [
       "<Figure size 432x288 with 1 Axes>"
      ]
     },
     "metadata": {
      "needs_background": "light"
     },
     "output_type": "display_data"
    },
    {
     "data": {
      "image/png": "[encoded data removed]",
      "text/plain": [
       "<Figure size 432x288 with 1 Axes>"
      ]
     },
     "metadata": {
      "needs_background": "light"
     },
     "output_type": "display_data"
    },
    {
     "data": {
      "image/png": "[encoded data removed]",
      "text/plain": [
       "<Figure size 432x288 with 1 Axes>"
      ]
     },
     "metadata": {
      "needs_background": "light"
     },
     "output_type": "display_data"
    }
   ],
   "source": [
    "for i in range(2,5):\n",
    "    y_pred = KMeans(n_clusters=i, random_state=9).fit_predict(X)\n",
    "# 分别尝试n_cluses=2\\3\\4,然后查看聚类效果\n",
    "    plt.scatter(X[:, 0], X[:, 1], c=y_pred)\n",
    "    plt.show()"
   ]
  },
  {
   "cell_type": "code",
   "execution_count": 24,
   "metadata": {
    "pycharm": {
     "name": "#%%\n"
    }
   },
   "outputs": [
    {
     "name": "stdout",
     "output_type": "stream",
     "text": [
      "5924.050613480169\n"
     ]
    }
   ],
   "source": [
    "# 用Calinski-Harabasz Index评估的聚类分数\n",
    "print(calinski_harabasz_score(X, y_pred))"
   ]
  },
  {
   "cell_type": "code",
   "execution_count": null,
   "metadata": {
    "pycharm": {
     "name": "#%%\n"
    }
   },
   "outputs": [],
   "source": []
  }
 ],
 "metadata": {
  "kernelspec": {
   "display_name": "Python 3",
   "language": "python",
   "name": "python3"
  },
  "language_info": {
   "codemirror_mode": {
    "name": "ipython",
    "version": 3
   },
   "file_extension": ".py",
   "mimetype": "text/x-python",
   "name": "python",
   "nbconvert_exporter": "python",
   "pygments_lexer": "ipython3",
   "version": "3.8.3"
  },
  "pycharm": {
   "stem_cell": {
    "cell_type": "raw",
    "metadata": {
     "collapsed": false
    },
    "source": []
   }
  }
 },
 "nbformat": 4,
 "nbformat_minor": 4
}
