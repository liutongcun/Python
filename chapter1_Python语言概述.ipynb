{
 "cells": [
  {
   "cell_type": "markdown",
   "metadata": {},
   "source": [
    "# 1.1 第一个程序"
   ]
  },
  {
   "cell_type": "code",
   "execution_count": null,
   "metadata": {},
   "outputs": [],
   "source": [
    "print('Hello,python!')"
   ]
  },
  {
   "cell_type": "markdown",
   "metadata": {},
   "source": [
    "# 1.2 变量"
   ]
  },
  {
   "cell_type": "code",
   "execution_count": null,
   "metadata": {},
   "outputs": [],
   "source": [
    "#变量名只能包含字母、数字和下划线。  \n",
    "#变量名可以字母或下划线打头，但不能以数字打头。例如可将变量命名为message_1，但不能将其命名为1_message。 \n",
    "#变量名不能包含空格。  \n",
    "#不要将Python关键字和函数名用作变量名，即不要使用Python保留用于特殊用途的单词，如print。  \n",
    "message='Hello,python!'\n",
    "print(message)"
   ]
  },
  {
   "cell_type": "code",
   "execution_count": null,
   "metadata": {},
   "outputs": [],
   "source": [
    "#在程序中可随时修改变量的值，而Python将始终记录变量的最新值。\n",
    "message = \"Hello Python Crash Course world!\"\n",
    "print(message) "
   ]
  },
  {
   "cell_type": "code",
   "execution_count": null,
   "metadata": {},
   "outputs": [],
   "source": [
    "#注意别拼写错误,会引发报错，tracebook会指出错误类型以及在什么地方报错。\n",
    "print(mesage)"
   ]
  },
  {
   "cell_type": "code",
   "execution_count": null,
   "metadata": {},
   "outputs": [],
   "source": [
    "练习：1.将一条消息存储到变量中，再将其打印出来。\n",
    "2.将一条消息存储到变量中，将其打印出来；再将变量的值修改为一条新消息，并将其打印出来。"
   ]
  },
  {
   "cell_type": "markdown",
   "metadata": {},
   "source": [
    "# 1.3 字符串"
   ]
  },
  {
   "cell_type": "code",
   "execution_count": null,
   "metadata": {},
   "outputs": [],
   "source": [
    "#字符串就是一系列字符。在Python中，用引号括起的都是字符串，其中的引号可以是单引号， 也可以是双引号。注意字符串必须用引号括起，单双引号都可以。\n",
    "print('I told my friend, \"Python is my favorite language!\"')\n",
    "print(\"What's the weather now?\")"
   ]
  },
  {
   "cell_type": "code",
   "execution_count": null,
   "metadata": {},
   "outputs": [],
   "source": [
    "name = 'ada lovelace'\n",
    "# 可以用python内置的title()方法实现首字母大写，其它字母都小写。\n",
    "print(name.title())\n",
    "# 全部大写。\n",
    "print(name.upper())\n",
    "# 全部小写。\n",
    "print(name.lower())"
   ]
  },
  {
   "cell_type": "code",
   "execution_count": null,
   "metadata": {},
   "outputs": [],
   "source": [
    "# 用+号拼接字符串。\n",
    "first_name = 'Ada'\n",
    "last_name = 'Lovelace'\n",
    "full_name = first_name + ' ' + last_name\n",
    "print('Hello, ' + full_name)\n",
    "print(\"Hello, \" + full_name.title() + \"!\") "
   ]
  },
  {
   "cell_type": "code",
   "execution_count": null,
   "metadata": {},
   "outputs": [],
   "source": [
    "#你可以使用拼接来创建消息，再把整条消息都存储在一个变量中，最后再打印变量： \n",
    "message = \"Hello, \" + full_name.title() + \"!\" \n",
    "print(message) "
   ]
  },
  {
   "cell_type": "code",
   "execution_count": null,
   "metadata": {},
   "outputs": [],
   "source": [
    "# 删除两端的空白字符。对程序员来说，'python'和'python '看起来几乎没什么两样，但对程序来说，它们却是两个不同的字符串。\n",
    "message = \"  A message with extra spaces at both ends.   \"\n",
    "print('|' + message.rstrip() + '|')\n",
    "print('|' + message.lstrip() + '|')\n",
    "print('|' + message.strip() + '|')"
   ]
  },
  {
   "cell_type": "code",
   "execution_count": null,
   "metadata": {},
   "outputs": [],
   "source": [
    "# 字符的转义：一些特殊字符串有一些特定的含义\n",
    "# \\n 换行符\n",
    "# \\t 制表符\n",
    "# \\\" 双引号\n",
    "# \\' 单引号\n",
    "# \\\\ 反斜线\n",
    "s = 'Hello\\tCharlie\\nGood\\tMorning'\n",
    "print(s)"
   ]
  },
  {
   "cell_type": "code",
   "execution_count": null,
   "metadata": {},
   "outputs": [],
   "source": [
    "# 字符串的格式化：\n",
    "price = 100\n",
    "print('The price of this book is %s' % price)  # %s 会自动调用 str(price).\n",
    "print('The price of this book is %4.2f' % price)"
   ]
  },
  {
   "cell_type": "code",
   "execution_count": null,
   "metadata": {},
   "outputs": [],
   "source": [
    "# 字符串的索引：\n",
    "s = 'hello world'\n",
    "print(s[3:5])\n",
    "print('The length of \\'%s\\' is %d, the %dth character is %s' % (s, len(s), 6, s[6]))\n",
    "print('Is \"lo\" in %s? %s' % (s, 'lo' in s))\n",
    "print('Does \"%s\" start with \"he\"? %s' % (s, s.startswith('he')))"
   ]
  },
  {
   "cell_type": "code",
   "execution_count": null,
   "metadata": {},
   "outputs": [],
   "source": [
    "# 字符串的分词：\n",
    "s = '001 alice 18 90'\n",
    "[id, name, age, score] = s.split( )\n",
    "s = '001,alice,18,90'\n",
    "[id, name, age, score] = s.split(',')\n",
    "print(id)"
   ]
  },
  {
   "cell_type": "code",
   "execution_count": null,
   "metadata": {},
   "outputs": [],
   "source": [
    "练习：1.将用户的姓名存到一个变量中，并向该用户显示一条消息。显示的消息应非常简单，如“Hello Eric, would you like to learn some Python today?”\n",
    "2.将一个人名存储到一个变量中，再以小写、大写和首字母大写的方式显示这个人名。"
   ]
  },
  {
   "cell_type": "markdown",
   "metadata": {},
   "source": [
    "# 1.4 数字"
   ]
  },
  {
   "cell_type": "code",
   "execution_count": null,
   "metadata": {},
   "outputs": [],
   "source": [
    "#整数的四则运算\n",
    "print(3+2)\n",
    "print(3-2)\n",
    "print(3*2)\n",
    "print(3/2)\n",
    "print(2+3*4)\n",
    "print((2+3)*4)"
   ]
  },
  {
   "cell_type": "code",
   "execution_count": null,
   "metadata": {},
   "outputs": [],
   "source": [
    "#乘方\n",
    "print(3**2)\n",
    "print(3**3)"
   ]
  },
  {
   "cell_type": "code",
   "execution_count": null,
   "metadata": {},
   "outputs": [],
   "source": [
    "#Python将带小数点的数字都称为浮点数\n",
    "# 浮点数的四则运算\n",
    "print(0.3+0.2)\n",
    "print(0.3-0.2)\n",
    "print(0.3*0.2)\n",
    "print(0.3/0.2)"
   ]
  },
  {
   "cell_type": "code",
   "execution_count": null,
   "metadata": {},
   "outputs": [],
   "source": [
    "#但需要注意的是，鉴于计算机内部表示数字的方式，浮点数结果包含的小数位数可能是不确定的： 比如上面的0.3-0.2。。忽略多余的小数位数即可"
   ]
  },
  {
   "cell_type": "code",
   "execution_count": null,
   "metadata": {},
   "outputs": [],
   "source": [
    "# str（）方法转化为字符串，使用函数 str()避免类型错误\n",
    "age = 24\n",
    "message = 'Happy ' + age + 'th Birthday!'  \n",
    "print(message)# 这行报类型错误。"
   ]
  },
  {
   "cell_type": "code",
   "execution_count": null,
   "metadata": {},
   "outputs": [],
   "source": [
    "message = 'Happy ' + str(age) + 'th Birthday!'\n",
    "print(message)"
   ]
  },
  {
   "cell_type": "markdown",
   "metadata": {},
   "source": [
    "# 1.5 注释"
   ]
  },
  {
   "cell_type": "code",
   "execution_count": null,
   "metadata": {},
   "outputs": [],
   "source": [
    "#在Python中，注释用井号（#）标识。在这一行中#号后面的内容都会被Python解释器忽略，而三引号 \"\"\"  注释的内容 \"\"\"是为了多行注释\n",
    "\"\"\"这是注释，\n",
    "可以跨行注释\"\"\"\n",
    "print('注释不影响代码运行')"
   ]
  },
  {
   "cell_type": "markdown",
   "metadata": {},
   "source": [
    "# 1.6 python2的print"
   ]
  },
  {
   "cell_type": "code",
   "execution_count": null,
   "metadata": {},
   "outputs": [],
   "source": [
    "#下面语句当然是不能运行的，因为没有python2的解释器，希望大家看到这样的print也不要以为一定是错误语法\n",
    "print \"Hello Python 2.7 world!\" "
   ]
  },
  {
   "cell_type": "code",
   "execution_count": null,
   "metadata": {},
   "outputs": [],
   "source": []
  }
 ],
 "metadata": {
  "kernelspec": {
   "display_name": "Python 3",
   "language": "python",
   "name": "python3"
  },
  "language_info": {
   "codemirror_mode": {
    "name": "ipython",
    "version": 3
   },
   "file_extension": ".py",
   "mimetype": "text/x-python",
   "name": "python",
   "nbconvert_exporter": "python",
   "pygments_lexer": "ipython3",
   "version": "3.8.3"
  }
 },
 "nbformat": 4,
 "nbformat_minor": 4
}
