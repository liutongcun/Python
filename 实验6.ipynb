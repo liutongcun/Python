{
 "metadata": {
  "language_info": {
   "codemirror_mode": {
    "name": "ipython",
    "version": 3
   },
   "file_extension": ".py",
   "mimetype": "text/x-python",
   "name": "python",
   "nbconvert_exporter": "python",
   "pygments_lexer": "ipython3",
   "version": 3
  },
  "orig_nbformat": 2
 },
 "nbformat": 4,
 "nbformat_minor": 2,
 "cells": [
  {
   "source": [
    "## 实验1：文本中替换字符串\n",
    "\n",
    "自己创建一个文本，模仿word中的单词批量替换功能，将文本中的给定单词换成另一个单词"
   ],
   "cell_type": "markdown",
   "metadata": {}
  },
  {
   "cell_type": "code",
   "execution_count": null,
   "metadata": {},
   "outputs": [],
   "source": [
    "#文本中替换字符串：本代码运行文件相对路径为“data/test_chapter6_4/lalala.txt”\n",
    "import os\n",
    "\n",
    "def Replace(file_name, rep_word, new_word):\n",
    "    with open(file_name) as f:\n",
    "        content = []\n",
    "        count = 0\n",
    "\n",
    "        for eachline in f:\n",
    "            if rep_word in eachline:\n",
    "                count += eachline.count(rep_word)\n",
    "                eachline = eachline.replace(rep_word, new_word)\n",
    "            content.append(eachline)\n",
    "\n",
    "        decide = input('文件 {0} 中共有{1}个【{2}】\\n您确定要把所有的【{3}】替换为【{4}】吗？\\n【YES/NO】：'.format\\\n",
    "                (file_name, count, rep_word, rep_word, new_word))\n",
    "\n",
    "        if decide in ['YES', 'Yes', 'yes']:\n",
    "            with open(file_name, 'w') as f:\n",
    "                f.writelines(content)\n",
    "            print('Succeed!')\n",
    "        else:\n",
    "            print('Exit!')\n",
    "\n",
    "if __name__ == '__main__':\n",
    "    while True:\n",
    "        file_name = input('请输入文件名：')\n",
    "        rep_word = input('请输入需要替换的单词或字符：')\n",
    "        new_word = input('请输入新的单词或字符：')\n",
    "        try:\n",
    "            Replace(file_name, rep_word, new_word)\n",
    "            break\n",
    "        except:\n",
    "            print('Do not find such a file {}'.format(file_name))"
   ]
  }
 ]
}