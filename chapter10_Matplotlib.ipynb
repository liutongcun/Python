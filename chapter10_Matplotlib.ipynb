{
 "cells": [
  {
   "cell_type": "markdown",
   "metadata": {},
   "source": [
    "# 1  认识Matplotlib"
   ]
  },
  {
   "cell_type": "code",
   "execution_count": null,
   "metadata": {},
   "outputs": [],
   "source": [
    "#Matplotlib是一个python的 2D绘图库。它以各种硬拷贝格式和跨平台的交互式环境生成出版质量级别的图形。\n",
    "#在任何绘图之前，我们需要一个Figure对象，可以理解成我们需要一张画板才能开始绘图。\n",
    "import matplotlib.pyplot as plt\n",
    "fig = plt.figure()"
   ]
  },
  {
   "cell_type": "code",
   "execution_count": null,
   "metadata": {},
   "outputs": [],
   "source": [
    "#在拥有Figure对象之后，在作画前我们还需要轴，没有轴的话就没有绘图基准，所以需要添加Axes。也可以理解成为真正可以作画的纸。\n",
    "fig = plt.figure()\n",
    "ax = fig.add_subplot(111)\n",
    "ax.set(xlim=[0.5, 4.5], ylim=[-2, 8], title='An Example Axes',\n",
    "       ylabel='Y-Axis', xlabel='X-Axis')\n",
    "plt.show()\n",
    "#在一幅图上添加了一个Axes，然后设置了这个Axes的X轴以及Y轴的取值范围"
   ]
  },
  {
   "cell_type": "code",
   "execution_count": null,
   "metadata": {},
   "outputs": [],
   "source": [
    "#也可以通过fig.add_subplot(2, 2, 1)的方式生成Axes，前面两个参数确定了面板的划分，例如 2， 2会将整个面板划分成 2 * 2 的方格,第三个参数取值范围是 [1, 2*2] 表示第几个Axes\n",
    "fig = plt.figure()\n",
    "ax1 = fig.add_subplot(221)\n",
    "ax2 = fig.add_subplot(222)\n",
    "ax3 = fig.add_subplot(224)"
   ]
  },
  {
   "cell_type": "code",
   "execution_count": null,
   "metadata": {},
   "outputs": [],
   "source": [
    "#下面的方式一次性生成所有 Axes：axes 成了我们常用二维数组的形式访问\n",
    "fig, axes = plt.subplots(nrows=2, ncols=2)\n",
    "axes[0,0].set(title='Upper Left')\n",
    "axes[0,1].set(title='Upper Right')\n",
    "axes[1,0].set(title='Lower Left')\n",
    "axes[1,1].set(title='Lower Right')"
   ]
  },
  {
   "cell_type": "code",
   "execution_count": null,
   "metadata": {},
   "outputs": [],
   "source": [
    "#pyplot方法适合简单的绘图，快速的将图绘出。在处理复杂的绘图工作时，我们还是需要使用 Axes 来完成作画的。\n",
    "plt.plot([1, 2, 3, 4], [10, 20, 25, 30], color='lightblue', linewidth=3)\n",
    "#绘制线，使用的蓝色的、连续的、宽度为 3（像素）的线条\n",
    "plt.xlim(0.5, 4.5)\n",
    "plt.show()"
   ]
  },
  {
   "cell_type": "code",
   "execution_count": null,
   "metadata": {},
   "outputs": [],
   "source": [
    "import matplotlib.pyplot as plt\n",
    "import numpy as np\n",
    " \n",
    "x = np.linspace(-1,1,50)#从(-1,1)均匀取50个点\n",
    "y = 2 * x\n",
    " \n",
    "plt.plot(x,y)\n",
    "plt.show()\n",
    "plt.plot(x,y,color = 'red',linewidth = 3.0,linestyle = '--')\n"
   ]
  },
  {
   "cell_type": "code",
   "execution_count": null,
   "metadata": {},
   "outputs": [],
   "source": [
    "#显示多个图像\n",
    "plt.plot(x,y)\n",
    "y1 = x**2\n",
    "plt.plot(x,y1,color = 'red',linewidth = 3.0,linestyle = '--')\n",
    "plt.show()"
   ]
  },
  {
   "cell_type": "code",
   "execution_count": null,
   "metadata": {},
   "outputs": [],
   "source": [
    "#保存图片到本地\n",
    "plt.savefig(\"exercice.png\",dpi=72)"
   ]
  },
  {
   "cell_type": "markdown",
   "metadata": {},
   "source": [
    "# 2  基本绘图2D"
   ]
  },
  {
   "cell_type": "markdown",
   "metadata": {},
   "source": [
    "## 2.1  线"
   ]
  },
  {
   "cell_type": "code",
   "execution_count": null,
   "metadata": {},
   "outputs": [],
   "source": [
    "#plot()函数画出一系列的点，并且用线将它们连接起来。\n",
    "import numpy as np\n",
    "x = np.linspace(0, np.pi)\n",
    "y_sin = np.sin(x)\n",
    "y_cos = np.cos(x)\n",
    "\n",
    "plt.plot(x, y_sin)\n",
    "plt.show()"
   ]
  },
  {
   "cell_type": "code",
   "execution_count": null,
   "metadata": {},
   "outputs": [],
   "source": [
    "#另外，我们可以通过关键字参数的方式绘图\n",
    "x = np.linspace(0, 10, 200)\n",
    "data_obj = {'x': x,\n",
    "            'y1': 2 * x + 1,\n",
    "            'y2': 3 * x + 1.2,\n",
    "            'mean': 0.5 * x * np.cos(2*x) + 2.5 * x + 1.1}\n",
    "\n",
    "fig, ax = plt.subplots()\n",
    "\n",
    "#填充两条线之间的颜色\n",
    "ax.fill_between('x', 'y1', 'y2', color='yellow', data=data_obj)\n",
    "\n",
    "# Plot the \"centerline\" with `plot`\n",
    "ax.plot('x', 'mean', color='black', data=data_obj)\n",
    "#数据部分只传入了字符串，这些字符串对一个这 data_obj 中的关键字，当以这种方式作画时，将会在传入给 data 中寻找对应关键字的数据来绘图。\n",
    "plt.show()"
   ]
  },
  {
   "cell_type": "markdown",
   "metadata": {},
   "source": [
    "## 2.2  散点图"
   ]
  },
  {
   "cell_type": "code",
   "execution_count": null,
   "metadata": {},
   "outputs": [],
   "source": [
    "x = np.arange(10)\n",
    "y = np.random.randn(10)\n",
    "plt.scatter(x, y, color='red', marker='+')\n",
    "plt.show()"
   ]
  },
  {
   "cell_type": "markdown",
   "metadata": {},
   "source": [
    "## 2.3  条形图"
   ]
  },
  {
   "cell_type": "code",
   "execution_count": null,
   "metadata": {},
   "outputs": [],
   "source": [
    "#pyplot 子模块提供 bar() 函数来生成条形图。\n",
    "from matplotlib import pyplot as plt \n",
    "x =  [5,8,10] \n",
    "y =  [12,16,6] \n",
    "x2 =  [6,9,11] \n",
    "y2 =  [6,15,7] \n",
    "plt.bar(x, y, align =  'center') \n",
    "plt.bar(x2, y2, color =  'g', align =  'center') \n",
    "plt.title('Bar graph') \n",
    "plt.ylabel('Y axis') \n",
    "plt.xlabel('X axis') \n",
    "plt.show()"
   ]
  },
  {
   "cell_type": "code",
   "execution_count": null,
   "metadata": {},
   "outputs": [],
   "source": [
    "#条形图分两种，一种是水平的，一种是垂直的，见下例子：\n",
    "np.random.seed(1)\n",
    "x = np.arange(5)\n",
    "y = np.random.randn(5)\n",
    "\n",
    "fig, axes = plt.subplots(ncols=2, figsize=plt.figaspect(1./2))\n",
    "\n",
    "vert_bars = axes[0].bar(x, y, color='lightblue', align='center')\n",
    "horiz_bars = axes[1].barh(x, y, color='lightblue', align='center')\n",
    "#在水平或者垂直方向上画线\n",
    "axes[0].axhline(0, color='gray', linewidth=2)\n",
    "axes[1].axvline(0, color='gray', linewidth=2)\n",
    "plt.show()"
   ]
  },
  {
   "cell_type": "code",
   "execution_count": null,
   "metadata": {},
   "outputs": [],
   "source": [
    "#条形图还返回了一个Artists 数组，对应着每个条形，例如上图 Artists 数组的大小为5，我们可以通过这些 Artists 对条形图的样式进行更改，如下例：\n",
    "fig, ax = plt.subplots()\n",
    "vert_bars = ax.bar(x, y, color='lightblue', align='center')\n",
    "\n",
    "# We could have also done this with two separate calls to `ax.bar` and numpy boolean indexing.\n",
    "for bar, height in zip(vert_bars, y):\n",
    "    if height < 0:\n",
    "        bar.set(edgecolor='darkred', color='salmon', linewidth=3)\n",
    "\n",
    "plt.show()"
   ]
  },
  {
   "cell_type": "markdown",
   "metadata": {},
   "source": [
    "## 2.4  直方图"
   ]
  },
  {
   "cell_type": "code",
   "execution_count": null,
   "metadata": {},
   "outputs": [],
   "source": [
    "#直方图用于统计数据出现的次数或者频率np.random.seed(19680801)\n",
    "\n",
    "n_bins = 10\n",
    "x = np.random.randn(1000, 3)\n",
    "\n",
    "fig, axes = plt.subplots(nrows=2, ncols=2)\n",
    "ax0, ax1, ax2, ax3 = axes.flatten()\n",
    "\n",
    "colors = ['red', 'tan', 'lime']\n",
    "ax0.hist(x, n_bins, density=True, histtype='bar', color=colors, label=colors)\n",
    "#参数中density控制Y轴是概率还是数量，与返回的第一个的变量对应。histtype控制着直方图的样式，默认是 ‘bar’，对于多个条形时就相邻的方式呈现如子图1，\n",
    "ax0.legend(prop={'size': 10})\n",
    "ax0.set_title('bars with legend')\n",
    "\n",
    "ax1.hist(x, n_bins, density=True, histtype='barstacked')\n",
    "#barstacked’ 就是叠在一起，如子图2、3。\n",
    "ax1.set_title('stacked bar')\n",
    "\n",
    "ax2.hist(x,  histtype='barstacked', rwidth=0.9)\n",
    "\n",
    "ax3.hist(x[:, 0], rwidth=0.9)# rwidth 控制着宽度，这样可以空出一些间隙\n",
    "ax3.set_title('different sample sizes')\n",
    "\n",
    "fig.tight_layout()\n",
    "plt.show()\n",
    "\n"
   ]
  },
  {
   "cell_type": "markdown",
   "metadata": {},
   "source": [
    "## 2.5  饼图"
   ]
  },
  {
   "cell_type": "code",
   "execution_count": null,
   "metadata": {},
   "outputs": [],
   "source": [
    "labels = 'Frogs', 'Hogs', 'Dogs', 'Logs'\n",
    "sizes = [15, 30, 45, 10]\n",
    "explode = (0, 0.1, 0, 0)  # only \"explode\" the 2nd slice (i.e. 'Hogs')\n",
    "\n",
    "fig1, (ax1, ax2) = plt.subplots(2)\n",
    "ax1.pie(sizes, labels=labels, autopct='%1.1f%%', shadow=True)\n",
    "#autopct=%1.1f%%表示格式化百分比精确输出\n",
    "ax1.axis('equal')\n",
    "ax2.pie(sizes, autopct='%1.2f%%', shadow=True, startangle=90, explode=explode,\n",
    "    pctdistance=1.12)\n",
    "#explode，突出某些块，不同的值突出的效果不一样。pctdistance=1.12百分比距离圆心的距离，默认是0.6.\n",
    "ax2.axis('equal')\n",
    "ax2.legend(labels=labels, loc='upper right')\n",
    "\n",
    "plt.show()"
   ]
  },
  {
   "cell_type": "markdown",
   "metadata": {},
   "source": [
    "# 3  布局、图例说明、边界等"
   ]
  },
  {
   "cell_type": "markdown",
   "metadata": {},
   "source": [
    "## 3.1  区间上下限"
   ]
  },
  {
   "cell_type": "code",
   "execution_count": null,
   "metadata": {},
   "outputs": [],
   "source": [
    "#当绘画完成后，会发现X、Y轴的区间是会自动调整的，并不是跟我们传入的X、Y轴数据中的最值相同。为了调整区间我们使用下面的方式\n",
    "ax.set_xlim([xmin, xmax])   #设置X轴的区间\n",
    "ax.set_ylim([ymin, ymax])   #Y轴区间\n",
    "ax.axis([xmin, xmax, ymin, ymax])   #X、Y轴区间\n",
    "ax.set_ylim(bottom=-10)     #Y轴下限\n",
    "ax.set_xlim(right=25)       #X轴上限\n"
   ]
  },
  {
   "cell_type": "code",
   "execution_count": null,
   "metadata": {},
   "outputs": [],
   "source": [
    "x = np.linspace(0, 2*np.pi)\n",
    "y = np.sin(x)\n",
    "fig, (ax1, ax2) = plt.subplots(2)\n",
    "ax1.plot(x, y)\n",
    "ax2.plot(x, y)\n",
    "ax2.set_xlim([-1, 6])\n",
    "ax2.set_ylim([-1, 3])\n",
    "plt.show()"
   ]
  },
  {
   "cell_type": "markdown",
   "metadata": {},
   "source": [
    "## 3.2  图例说明"
   ]
  },
  {
   "cell_type": "code",
   "execution_count": null,
   "metadata": {},
   "outputs": [],
   "source": [
    "#如果我们在一个Axes上做多次绘画，那么可能出现分不清哪条线或点所代表的意思。这个时间添加图例说明，就可以解决这个问题\n",
    "fig, ax = plt.subplots()\n",
    "ax.plot([1, 2, 3, 4], [10, 20, 25, 30], label='Philadelphia')\n",
    "ax.plot([1, 2, 3, 4], [30, 23, 13, 4], label='Boston')\n",
    "ax.scatter([1, 2, 3, 4], [20, 10, 30, 15], label='Point')\n",
    "ax.set(ylabel='Temperature (deg C)', xlabel='Time', title='A tale of two cities')\n",
    "ax.legend()\n",
    "plt.show()"
   ]
  },
  {
   "cell_type": "markdown",
   "metadata": {},
   "source": [
    "## 3.3  区间分段"
   ]
  },
  {
   "cell_type": "code",
   "execution_count": null,
   "metadata": {},
   "outputs": [],
   "source": [
    "data = [('apples', 2), ('oranges', 3), ('peaches', 1)]\n",
    "fruit, value = zip(*data)\n",
    "\n",
    "fig, (ax1, ax2) = plt.subplots(2)\n",
    "x = np.arange(len(fruit))\n",
    "ax1.bar(x, value, align='center', color='gray')\n",
    "ax2.bar(x, value, align='center', color='gray')\n",
    "\n",
    "ax2.set(xticks=x, xticklabels=fruit)\n",
    "\n",
    "#ax.tick_params(axis='y', direction='inout', length=10) #修改 ticks 的方向以及长度\n",
    "plt.show()"
   ]
  },
  {
   "cell_type": "markdown",
   "metadata": {},
   "source": [
    "## 3.4  布局"
   ]
  },
  {
   "cell_type": "code",
   "execution_count": null,
   "metadata": {},
   "outputs": [],
   "source": [
    "#subplot() 函数允许你在同一图中绘制不同的东西。\n",
    "import numpy as np \n",
    "import matplotlib.pyplot as plt \n",
    "# 计算正弦和余弦曲线上的点的 x 和 y 坐标 \n",
    "x = np.arange(0,  3  * np.pi,  0.1) \n",
    "y_sin = np.sin(x) \n",
    "y_cos = np.cos(x)  \n",
    "# 建立 subplot 网格，高为 2，宽为 1  \n",
    "# 激活第一个 subplot\n",
    "plt.subplot(2,  1,  1)  \n",
    "# 绘制第一个图像 \n",
    "plt.plot(x, y_sin) \n",
    "plt.title('Sine')  \n",
    "# 将第二个 subplot 激活，并绘制第二个图像\n",
    "plt.subplot(2,  1,  2) \n",
    "plt.plot(x, y_cos) \n",
    "plt.title('Cosine')  \n",
    "# 展示图像\n",
    "plt.show()"
   ]
  },
  {
   "cell_type": "code",
   "execution_count": null,
   "metadata": {},
   "outputs": [],
   "source": [
    "#绘画多个子图时，就会有一些美观的问题存在，例如子图之间的间隔，子图与画板的外边间距以及子图的内边距\n",
    "fig, axes = plt.subplots(2, 2, figsize=(9, 9))\n",
    "fig.subplots_adjust(wspace=0.5, hspace=0.3,\n",
    "                    left=0.125, right=0.9,\n",
    "                    top=0.9,    bottom=0.1)\n",
    "\n",
    "#fig.tight_layout() #自动调整布局，使标题之间不重叠\n",
    "plt.show()\n",
    "#通过fig.subplots_adjust()我们修改了子图水平之间的间隔wspace=0.5，垂直方向上的间距hspace=0.3，左边距left=0.125 等等，这里数值都是百分比的。"
   ]
  },
  {
   "cell_type": "markdown",
   "metadata": {},
   "source": [
    "# 3.5  轴相关"
   ]
  },
  {
   "cell_type": "code",
   "execution_count": null,
   "metadata": {},
   "outputs": [],
   "source": [
    "#改变边界的位置，去掉四周的边框：\n",
    "fig, ax = plt.subplots()\n",
    "ax.plot([-2, 2, 3, 4], [-10, 20, 25, 5])\n",
    "ax.spines['top'].set_visible(False)     #顶边界不可见\n",
    "ax.xaxis.set_ticks_position('bottom')  # ticks 的位置为下方，分上下的。\n",
    "ax.spines['right'].set_visible(False)   #右边界不可见\n",
    "ax.yaxis.set_ticks_position('left')  \n",
    "\n",
    "# \"outward\"\n",
    "# 移动左、下边界离 Axes 10 个距离\n",
    "#ax.spines['bottom'].set_position(('outward', 10))\n",
    "#ax.spines['left'].set_position(('outward', 10))\n",
    "\n",
    "# \"data\"\n",
    "# 移动左、下边界到 (0, 0) 处相交\n",
    "ax.spines['bottom'].set_position(('data', 0))\n",
    "ax.spines['left'].set_position(('data', 0))\n",
    "\n",
    "# \"axes\"\n",
    "# 移动边界，按 Axes 的百分比位置\n",
    "#ax.spines['bottom'].set_position(('axes', 0.75))\n",
    "#ax.spines['left'].set_position(('axes', 0.3))\n",
    "\n",
    "plt.show()"
   ]
  }
 ],
 "metadata": {
  "kernelspec": {
   "display_name": "Python 3",
   "language": "python",
   "name": "python3"
  },
  "language_info": {
   "codemirror_mode": {
    "name": "ipython",
    "version": 3
   },
   "file_extension": ".py",
   "mimetype": "text/x-python",
   "name": "python",
   "nbconvert_exporter": "python",
   "pygments_lexer": "ipython3",
   "version": "3.8.3"
  }
 },
 "nbformat": 4,
 "nbformat_minor": 4
}
