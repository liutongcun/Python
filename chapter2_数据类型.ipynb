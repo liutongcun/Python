{
 "cells": [
  {
   "cell_type": "markdown",
   "metadata": {},
   "source": [
    "# 2.1 列表的基本操作"
   ]
  },
  {
   "cell_type": "markdown",
   "metadata": {},
   "source": [
    "### 列表是什么？？\n",
    "\n",
    "列表是由一系列按照特定顺序排列的元素组成的。可以创建包含字母表中所有字母、数字0-9或者所有家庭成员姓名的列表；也可以将任何东西加入到列表中，其中元素之间可以没有任何关系。 \n",
    "\n",
    "列表通常包含多个元素"
   ]
  },
  {
   "cell_type": "markdown",
   "metadata": {},
   "source": [
    "## 2.1.1 构造列表"
   ]
  },
  {
   "cell_type": "code",
   "execution_count": 2,
   "metadata": {},
   "outputs": [
    {
     "name": "stdout",
     "output_type": "stream",
     "text": [
      "初始列表：\n",
      "['Alice', 'Bob', 'Charlie', 'David']\n"
     ]
    }
   ],
   "source": [
    "persons = ['Alice', 'Bob', 'Charlie', 'David'] # 包含4个元素的列表。\n",
    "# 注：列表中的元素不一定是同一类型，这样也可以：person=['Alice', 24, 80.5]\n",
    "print('初始列表：')\n",
    "print(persons)"
   ]
  },
  {
   "cell_type": "code",
   "execution_count": 2,
   "metadata": {},
   "outputs": [
    {
     "name": "stdout",
     "output_type": "stream",
     "text": [
      "[1, 2, 3, 4, 5, 6, 7, 8, 9]\n"
     ]
    }
   ],
   "source": [
    "# 将区间转化为列表：\n",
    "num_list = list(range(1,10))\n",
    "print(num_list)"
   ]
  },
  {
   "cell_type": "markdown",
   "metadata": {},
   "source": [
    "## 2.1.2 访问列表\n",
    "\n",
    "列表是有序集合，因此要访问列表的任意元素，只需要将该元素的位置（索引）告诉Python即可\n",
    "\n",
    "注意：索引从0开始而不是从1开始\n",
    "\n",
    "访问列表：指出列表的名称，再给出元素的索引，将索引放在方括号中"
   ]
  },
  {
   "cell_type": "code",
   "execution_count": 16,
   "metadata": {},
   "outputs": [
    {
     "name": "stdout",
     "output_type": "stream",
     "text": [
      "第一个元素：\n",
      "Alice\n",
      "David\n",
      "倒数第一个元素：\n",
      "David\n",
      "Bob\n"
     ]
    }
   ],
   "source": [
    "#第一个元素\n",
    "print('第一个元素：')\n",
    "print(persons[0])\n",
    "\n",
    "#第3个元素\n",
    "print(persons[3])\n",
    "\n",
    "# 倒数第一个。\n",
    "print('倒数第一个元素：')\n",
    "print(persons[-1])\n",
    "\n",
    "print(persons[-3])"
   ]
  },
  {
   "cell_type": "code",
   "execution_count": 17,
   "metadata": {},
   "outputs": [
    {
     "name": "stdout",
     "output_type": "stream",
     "text": [
      "我朋友是 Bob.\n"
     ]
    }
   ],
   "source": [
    "#也可以像使用其它变量一样使用列表中的各个值\n",
    "message = '我朋友是 ' + persons[1] + '.'\n",
    "#str(100)\n",
    "print(message)"
   ]
  },
  {
   "cell_type": "code",
   "execution_count": 4,
   "metadata": {},
   "outputs": [
    {
     "name": "stdout",
     "output_type": "stream",
     "text": [
      "我的朋友是Alice.\n"
     ]
    }
   ],
   "source": [
    "#还可以利用f字符串根据列表中的值创建消息\n",
    "message=f\"我的朋友是{persons[0].title()}.\"\n",
    "print(message)"
   ]
  },
  {
   "cell_type": "markdown",
   "metadata": {},
   "source": [
    "### 动手练习\n",
    "\n",
    "创建自己的列表：想想你喜欢的通勤方式，例如骑摩托车、开汽车、坐地铁、乘公交等，并创建一个包含多种通勤方式的列表。然后根据该列表打印一系列有关这些通勤方式的宣言，例如：我希望拥有一个汽车。"
   ]
  },
  {
   "cell_type": "markdown",
   "metadata": {},
   "source": [
    "## 2.1.3 修改、添加、删除元素\n",
    "\n",
    "创建的大多数列表将是动态的，这意味着列表创建后是可以修改的，比如增删元素。"
   ]
  },
  {
   "cell_type": "markdown",
   "metadata": {},
   "source": [
    "### 1. 修改元素 "
   ]
  },
  {
   "cell_type": "code",
   "execution_count": 18,
   "metadata": {},
   "outputs": [
    {
     "name": "stdout",
     "output_type": "stream",
     "text": [
      "将第三个元素改为Cindy：\n",
      "['Alice', 'Bob', 'Cindy', 'David']\n"
     ]
    }
   ],
   "source": [
    "# 修改列表元素\n",
    "# 替换元素。替换列表元素的语法与访问列表元素的语法类似。要修改列表元素，可指定列表名和要修改的元素的索引，再指定该元素的新值。\n",
    "print('将第三个元素改为Cindy：')\n",
    "persons[2] = 'Cindy'\n",
    "print(persons)"
   ]
  },
  {
   "cell_type": "markdown",
   "metadata": {},
   "source": [
    "### 2. 添加元素 "
   ]
  },
  {
   "cell_type": "code",
   "execution_count": 19,
   "metadata": {},
   "outputs": [
    {
     "name": "stdout",
     "output_type": "stream",
     "text": [
      "末尾添加Edward：\n",
      "['Alice', 'Bob', 'Cindy', 'David', 'Edward']\n"
     ]
    }
   ],
   "source": [
    "# 在列表末尾添加元素\n",
    "print('末尾添加Edward：')\n",
    "persons.append('Edward')  # 加到末尾。\n",
    "print(persons)\n",
    "\n"
   ]
  },
  {
   "cell_type": "code",
   "execution_count": 4,
   "metadata": {},
   "outputs": [
    {
     "name": "stdout",
     "output_type": "stream",
     "text": [
      "['Alice', 'Bob', 'Charlie', 'David', 10, 10]\n"
     ]
    }
   ],
   "source": [
    "persons.append(10)\n",
    "print(persons)"
   ]
  },
  {
   "cell_type": "code",
   "execution_count": 20,
   "metadata": {},
   "outputs": [
    {
     "name": "stdout",
     "output_type": "stream",
     "text": [
      "['张三', '李四', '王五', '李六']\n"
     ]
    }
   ],
   "source": [
    "#方法append()可以动态地创建列表，比如可以使用循环语法动态添加列表。循环语法会在后面讲到\n",
    "persons = [] \n",
    "persons.append('张三') \n",
    "persons.append('李四') \n",
    "persons.append('王五') \n",
    "persons.append('李六')\n",
    "print(persons) "
   ]
  },
  {
   "cell_type": "code",
   "execution_count": 21,
   "metadata": {},
   "outputs": [
    {
     "name": "stdout",
     "output_type": "stream",
     "text": [
      "首部加上Ada：\n",
      "['张三', 'Ada', '李四', '王五', '李六']\n"
     ]
    }
   ],
   "source": [
    "#在任意位置之前插入元素\n",
    "print('首部加上Ada：')\n",
    "persons.insert(1, 'Ada')  # 加到第一个之前。\n",
    "print(persons)"
   ]
  },
  {
   "cell_type": "markdown",
   "metadata": {},
   "source": [
    "### 删除元素 "
   ]
  },
  {
   "cell_type": "code",
   "execution_count": 9,
   "metadata": {},
   "outputs": [
    {
     "name": "stdout",
     "output_type": "stream",
     "text": [
      "删除第二个元素：\n",
      "['Ada', '李四', '王五', '李六']\n",
      "删除最后一个和第一个元素：\n",
      "['李四', '王五']\n",
      "删除王五：\n",
      "['李四']\n"
     ]
    }
   ],
   "source": [
    "# 使用del语句删除元素\n",
    "# 知道索引，删除后不再访问\n",
    "print('删除第二个元素：')\n",
    "del persons[1]\n",
    "print(persons)\n",
    "\n",
    "# 使用pop()删除元素\n",
    "print('删除最后一个和第一个元素：')\n",
    "persons.pop()\n",
    "persons.pop(0)\n",
    "print(persons)\n",
    "\n",
    "# 根据值删除元素\n",
    "#注意：只删除第一个指定的元素值\n",
    "print('删除王五：')\n",
    "persons.remove('王五')  # 删除李六，如果有多个的话，后面的不会被删掉。\n",
    "print(persons)"
   ]
  },
  {
   "cell_type": "markdown",
   "metadata": {},
   "source": [
    "### 动手练习\n",
    "创建自己的列表：想想你喜欢的通勤方式，例如骑摩托车、开汽车、坐地铁、乘公交等，并创建一个包含多种通勤方式的列表。然后根据该列表打印一系列有关这些通勤方式的宣言，例如：我希望拥有一个汽车。\n",
    "\n",
    "在上面的这个例子上添加交通方式、修改交通方式、删除交通方式 "
   ]
  },
  {
   "cell_type": "markdown",
   "metadata": {},
   "source": [
    "## 2.1.4 组织列表\n",
    "\n",
    "创建的列表中，元素的排序通常是无法预测的。但是通常会按照自己的需要第列表进行排序。"
   ]
  },
  {
   "cell_type": "code",
   "execution_count": 5,
   "metadata": {},
   "outputs": [
    {
     "name": "stdout",
     "output_type": "stream",
     "text": [
      "['Charlie', 'Bob', 'Alice', 'David']\n",
      "['Alice', 'Bob', 'Charlie', 'David']\n"
     ]
    }
   ],
   "source": [
    "# 1. 使用sort()方法对列表永久排序：\n",
    "persons = ['Charlie', 'Bob', 'Alice', 'David'] \n",
    "print(persons)\n",
    "# 永久排序，原列表被修改。\n",
    "persons.sort()\n",
    "print(persons)\n"
   ]
  },
  {
   "cell_type": "code",
   "execution_count": 27,
   "metadata": {},
   "outputs": [
    {
     "name": "stdout",
     "output_type": "stream",
     "text": [
      "['Alice', 'Bob', 'Charlie', 'David']\n"
     ]
    }
   ],
   "source": [
    "# 临时排序，原列表不变，返回一个排序后的新列表。\n",
    "sorted_persons = sorted(persons)\n",
    "print(sorted_persons)"
   ]
  },
  {
   "cell_type": "code",
   "execution_count": 28,
   "metadata": {},
   "outputs": [
    {
     "name": "stdout",
     "output_type": "stream",
     "text": [
      "['Charlie', 'Bob', 'Alice', 'David']\n"
     ]
    }
   ],
   "source": [
    "print(persons)"
   ]
  },
  {
   "cell_type": "code",
   "execution_count": 29,
   "metadata": {},
   "outputs": [
    {
     "name": "stdout",
     "output_type": "stream",
     "text": [
      "['David', 'Charlie', 'Bob', 'Alice']\n"
     ]
    }
   ],
   "source": [
    "#按照与字母顺序相反的顺序排列，向sort()传递参数reverse=True\n",
    "persons.sort(reverse=True)\n",
    "print(persons)"
   ]
  },
  {
   "cell_type": "code",
   "execution_count": 30,
   "metadata": {},
   "outputs": [
    {
     "name": "stdout",
     "output_type": "stream",
     "text": [
      "['Alice', 'Bob', 'Charlie', 'David']\n"
     ]
    }
   ],
   "source": [
    "#倒着打印列表：\n",
    "persons.reverse()\n",
    "print(persons)"
   ]
  },
  {
   "cell_type": "code",
   "execution_count": 31,
   "metadata": {},
   "outputs": [
    {
     "name": "stdout",
     "output_type": "stream",
     "text": [
      "4\n"
     ]
    }
   ],
   "source": [
    "#函数len（）获取列表长度\n",
    "print(len(persons))"
   ]
  },
  {
   "cell_type": "markdown",
   "metadata": {},
   "source": [
    "## 2.1.5 避免索引错误"
   ]
  },
  {
   "cell_type": "code",
   "execution_count": 32,
   "metadata": {},
   "outputs": [
    {
     "ename": "IndexError",
     "evalue": "list index out of range",
     "output_type": "error",
     "traceback": [
      "\u001b[0;31m---------------------------------------------------------------------------\u001b[0m",
      "\u001b[0;31mIndexError\u001b[0m                                Traceback (most recent call last)",
      "\u001b[0;32m<ipython-input-32-09413e9b798d>\u001b[0m in \u001b[0;36m<module>\u001b[0;34m\u001b[0m\n\u001b[0;32m----> 1\u001b[0;31m \u001b[0mprint\u001b[0m\u001b[0;34m(\u001b[0m\u001b[0mpersons\u001b[0m\u001b[0;34m[\u001b[0m\u001b[0;36m4\u001b[0m\u001b[0;34m]\u001b[0m\u001b[0;34m)\u001b[0m\u001b[0;34m\u001b[0m\u001b[0;34m\u001b[0m\u001b[0m\n\u001b[0m\u001b[1;32m      2\u001b[0m \u001b[0;31m#索引错误意味着Python无法理解你指定的索引。此时可以尝试使用len()找一下列表长度,或者访问最后一个元素试试：print(persons[-1])\u001b[0m\u001b[0;34m\u001b[0m\u001b[0;34m\u001b[0m\u001b[0;34m\u001b[0m\u001b[0m\n",
      "\u001b[0;31mIndexError\u001b[0m: list index out of range"
     ]
    }
   ],
   "source": [
    "print(persons[4])\n",
    "#索引错误意味着Python无法理解你指定的索引。此时可以尝试使用len()找一下列表长度,或者访问最后一个元素试试：print(persons[-1])"
   ]
  },
  {
   "cell_type": "markdown",
   "metadata": {},
   "source": [
    "### 动手练习\n",
    "\n",
    "例子：创建自己的列表：想想你喜欢的通勤方式，例如骑摩托车、开汽车、坐地铁、乘公交等，并创建一个包含多种通勤方式的列表。然后根据该列表打印一系列有关这些通勤方式的宣言，例如：我希望拥有一个汽车。\n",
    "\n",
    "\n",
    "对上面例子中，对创建的列表进行排序，并按照倒序打印出列表中的元素"
   ]
  },
  {
   "cell_type": "code",
   "execution_count": 1,
   "metadata": {},
   "outputs": [
    {
     "name": "stdout",
     "output_type": "stream",
     "text": [
      "['3', '2', '1']\n"
     ]
    }
   ],
   "source": [
    "person = ['1','2','3']\n",
    "print (person[::-1])"
   ]
  },
  {
   "cell_type": "markdown",
   "metadata": {},
   "source": [
    "# 2.2 操作列表"
   ]
  },
  {
   "cell_type": "markdown",
   "metadata": {},
   "source": [
    "## 2.2.1 遍历列表"
   ]
  },
  {
   "cell_type": "code",
   "execution_count": 33,
   "metadata": {},
   "outputs": [
    {
     "name": "stdout",
     "output_type": "stream",
     "text": [
      "Charlie\n",
      "Bob\n",
      "Alice\n",
      "David\n"
     ]
    }
   ],
   "source": [
    "# 遍历列表：第一种方法：直接遍历列表\n",
    "persons = ['Charlie', 'Bob', 'Alice', 'David'] \n",
    "for p in persons:\n",
    "    print(p)\n",
    "# for语句用于循环，注意for语句最后的：和print之前的缩进。"
   ]
  },
  {
   "cell_type": "markdown",
   "metadata": {},
   "source": [
    "##### 遍历列表第二种方法：使用range（）函数遍历数字，然后再按照数字来索引列表元素。请注意，range()函数左边能取右边不能取"
   ]
  },
  {
   "cell_type": "code",
   "execution_count": 37,
   "metadata": {},
   "outputs": [
    {
     "name": "stdout",
     "output_type": "stream",
     "text": [
      "Alice\n"
     ]
    }
   ],
   "source": [
    "\n",
    "for i in range(2, 3): #[0,1,2,3]\n",
    "    print(persons[i])\n",
    "#全部遍历一遍列表，使用range(0,len(list))即可"
   ]
  },
  {
   "cell_type": "code",
   "execution_count": 43,
   "metadata": {},
   "outputs": [
    {
     "name": "stdout",
     "output_type": "stream",
     "text": [
      "你好：Charlie\t###\n",
      "你好：Bob\t###\n",
      "你好：Alice\t###\n",
      "你好：David\t###\n",
      "这些都是我的朋友\n"
     ]
    }
   ],
   "source": [
    "for i in range(0, len(persons)):\n",
    "    #print('朋友'+ str(i+1) + ':')\n",
    "    s=f\"你好：{persons[i]}\\t###\"\n",
    "    print(s)\n",
    "    #print(\"你好：\"+persons[i]+\"###\")\n",
    "print('这些都是我的朋友')"
   ]
  },
  {
   "cell_type": "code",
   "execution_count": null,
   "metadata": {},
   "outputs": [],
   "source": [
    "#for语句里面的语法都需要缩进，以表示for循环并未结束。请注意用缩进使用方法\n",
    "for i in range(0, 3):\n",
    "    print('朋友'+ str(i+1) + ':')\n",
    "    print(persons[i])\n",
    "    print('这些都是我的朋友')"
   ]
  },
  {
   "cell_type": "code",
   "execution_count": null,
   "metadata": {},
   "outputs": [],
   "source": [
    "#使用range()创建数字列表 \n",
    "#要创建数字列表，可使用函数list()将range()的结果直接转换为列表\n",
    "numbers = list(range(1,6)) \n",
    "print(numbers) "
   ]
  },
  {
   "cell_type": "code",
   "execution_count": 44,
   "metadata": {},
   "outputs": [
    {
     "name": "stdout",
     "output_type": "stream",
     "text": [
      "[2, 4, 6, 8, 10]\n"
     ]
    }
   ],
   "source": [
    "#使用函数range()时，还可指定步长。例如，下面的代码打印1~10内的偶数\n",
    "even_numbers = list(range(2,11,2)) \n",
    "print(even_numbers) \n",
    "#在这个示例中，函数range()从2开始数，然后不断地加2，直到达到或超过终值（11）"
   ]
  },
  {
   "cell_type": "markdown",
   "metadata": {},
   "source": [
    "## 2.2.2 列表的简单统计计算"
   ]
  },
  {
   "cell_type": "code",
   "execution_count": 46,
   "metadata": {},
   "outputs": [
    {
     "name": "stdout",
     "output_type": "stream",
     "text": [
      "21\n",
      "3.5\n",
      "1\n",
      "6\n"
     ]
    }
   ],
   "source": [
    "numbers = [1,2,3,4,5,6]\n",
    "print(sum(numbers))\n",
    "print(sum(numbers)/len(numbers))\n",
    "print(min(numbers))\n",
    "print(max(numbers))"
   ]
  },
  {
   "cell_type": "code",
   "execution_count": 2,
   "metadata": {},
   "outputs": [
    {
     "name": "stdout",
     "output_type": "stream",
     "text": [
      "[1, 4, 9, 16, 25, 36]\n"
     ]
    }
   ],
   "source": [
    "# [1,4,9,16,25,36]\n",
    "# n =  [ value**2 for value in range(1,7)]\n",
    "# print(n)\n",
    "\n",
    "n=[]\n",
    "for value in numbers:\n",
    "    n.append(value**2)"
   ]
  },
  {
   "cell_type": "markdown",
   "metadata": {},
   "source": [
    "## 2.2.3 列表解析"
   ]
  },
  {
   "cell_type": "code",
   "execution_count": 47,
   "metadata": {},
   "outputs": [
    {
     "name": "stdout",
     "output_type": "stream",
     "text": [
      "[1, 4, 9, 16, 25, 36]\n"
     ]
    }
   ],
   "source": [
    "#前面介绍的生成列表squares的方式包含三四行代码，而列表解析让你只需编写一行代码就 能生成这样的列表。列表解析将for循环和创建新元素的代码合并成一行，并自动附加新元素。 \n",
    "squares = [value**2 for value in numbers]\n",
    "print(squares)"
   ]
  },
  {
   "cell_type": "code",
   "execution_count": 4,
   "metadata": {},
   "outputs": [
    {
     "data": {
      "text/plain": [
       "2.0"
      ]
     },
     "execution_count": 4,
     "metadata": {},
     "output_type": "execute_result"
    }
   ],
   "source": [
    "import math\n",
    "math.sqrt(4)"
   ]
  },
  {
   "cell_type": "code",
   "execution_count": 49,
   "metadata": {},
   "outputs": [
    {
     "name": "stdout",
     "output_type": "stream",
     "text": [
      "[1, 4, 9, 16, 25, 36]\n"
     ]
    }
   ],
   "source": [
    "out=[]\n",
    "for value in numbers:\n",
    "    out.append(value**2)\n",
    "print(out)"
   ]
  },
  {
   "cell_type": "markdown",
   "metadata": {},
   "source": [
    "## 2.2.4 列表切片"
   ]
  },
  {
   "cell_type": "code",
   "execution_count": 51,
   "metadata": {},
   "outputs": [
    {
     "name": "stdout",
     "output_type": "stream",
     "text": [
      "[9, 16]\n",
      "[1, 4, 9]\n",
      "[16, 25, 36]\n",
      "[1, 4, 9, 16, 25, 36]\n"
     ]
    }
   ],
   "source": [
    "# 列表的切片，切片的结果还是列表类型。\n",
    "print(squares[2:4])\n",
    "print(squares[:3])\n",
    "print(squares[3:])\n",
    "print(squares[:])"
   ]
  },
  {
   "cell_type": "code",
   "execution_count": null,
   "metadata": {},
   "outputs": [],
   "source": [
    "#如果要遍历列表的部分元素，可在for循环中使用切片。\n",
    "players = ['charles', 'martina', 'michael', 'florence', 'eli'] \n",
    "print(\"我们班前三名是：\") \n",
    "for player in players[:3]:     \n",
    "    print(player.title()) "
   ]
  },
  {
   "cell_type": "markdown",
   "metadata": {},
   "source": [
    "### 动手练习\n",
    "\n",
    "例子：创建自己的列表：想想你喜欢的通勤方式，例如骑摩托车、开汽车、坐地铁、乘公交等，并创建一个包含多种通勤方式的列表。然后根据该列表打印一系列有关这些通勤方式的宣言，例如：我希望拥有一个汽车。\n",
    "\n",
    "添加几行代码，完成以下任务：\n",
    "1.使用切片打印出列表中的前三个元素；\n",
    "\n",
    "2.使用切片打印出列表中间的三个元素；\n",
    "\n",
    "3.使用切片打印出列表中的末尾三个元素\n"
   ]
  },
  {
   "cell_type": "markdown",
   "metadata": {},
   "source": [
    "# 2.2 元组与集合"
   ]
  },
  {
   "cell_type": "markdown",
   "metadata": {},
   "source": [
    "#### \n",
    "\n",
    "列表非常适合用于存储在程序运行期间可能变化的数据，列表是可以修改的。\n",
    "\n",
    "然而，有时候我们要创建一个不可修改的元素。Python将不能修改的值称为不可变的，而不可变的列表被称为元组。\n",
    "\n"
   ]
  },
  {
   "cell_type": "markdown",
   "metadata": {},
   "source": [
    "## 2.2.1 构造元组"
   ]
  },
  {
   "cell_type": "markdown",
   "metadata": {},
   "source": [
    "#### 元组：使用圆括号而非中括号括括起来的，看起来像列表。元组定义好后就可以向访问列表一样访问元组中的元素。"
   ]
  },
  {
   "cell_type": "code",
   "execution_count": 4,
   "metadata": {},
   "outputs": [
    {
     "name": "stdout",
     "output_type": "stream",
     "text": [
      "200\n",
      "5\n"
     ]
    }
   ],
   "source": [
    "#例如，如果有一个大小不应该改变的矩形，可将其长度和宽度存储在一个元组中，从而它的值是不可修改的。\n",
    "dimensions = (200, 5)\n",
    "print(dimensions[0])\n",
    "print(dimensions[1])\n",
    "# 注意：元组是不可修改的！下面一行会出错。\n",
    "#dimensions[0] = 250"
   ]
  },
  {
   "cell_type": "code",
   "execution_count": 5,
   "metadata": {},
   "outputs": [],
   "source": [
    "# 虽然不能修改元组的元素，但可以给存储元组的变量赋值。因此，如果要修改，可重新定义整个元组： \n",
    "dimensions = (250, 5)"
   ]
  },
  {
   "cell_type": "code",
   "execution_count": 1,
   "metadata": {},
   "outputs": [],
   "source": [
    "# 注：元组中的元素不一定是同一类型，这样也可以：\n",
    "person=('Alice', 24)"
   ]
  },
  {
   "cell_type": "code",
   "execution_count": 2,
   "metadata": {},
   "outputs": [
    {
     "name": "stdout",
     "output_type": "stream",
     "text": [
      "Charlie is 8 years old.\n"
     ]
    }
   ],
   "source": [
    "#配合字符串格式化使用\n",
    "user = 'Charlie'\n",
    "age = 8\n",
    "print('%s is %d years old.' % (user, age)) #此处的(user, age)为一个元组。"
   ]
  },
  {
   "cell_type": "markdown",
   "metadata": {},
   "source": [
    "## 2.2.2 遍历元组"
   ]
  },
  {
   "cell_type": "code",
   "execution_count": null,
   "metadata": {},
   "outputs": [],
   "source": [
    "# 元组的遍历：\n",
    "for d in dimensions:\n",
    "    print(d)"
   ]
  },
  {
   "cell_type": "markdown",
   "metadata": {},
   "source": [
    "#### 课堂练习\n",
    "有一家自助式餐馆，只提供五种简单的食品。请想出五种简单的食品，并将其存储在一个元组中。\n",
    "\n",
    "1. 使用一个for循环将该餐馆提供的五种食品都打印出来。\n",
    "2. 尝试修改其中的一个元素，核实Python确实会拒绝你这样做。\n",
    "3. 餐馆调整了菜单，替换了它提供的其中两种食品。请编写代码块：给元组变量赋值，并使用一个for循环将新元组的每个元素都打印出来"
   ]
  },
  {
   "cell_type": "markdown",
   "metadata": {},
   "source": [
    "## 2.2.3 集合"
   ]
  },
  {
   "cell_type": "markdown",
   "metadata": {},
   "source": [
    "#### 集合与列表、元组的关系\n",
    "\n",
    "列表（list）和元组（tuple）是标准的 Python 数据类型，它们将值存储在一个序列中。\n",
    "\n",
    "集合（set）是另一种标准的 Python 数据类型，它也可用于存储值。它们之间主要的区别在于，集合不同于列表或元组，集合中的每一个元素不能出现多次，并且是无序存储的。\n",
    "\n",
    "#### 集合优势\n",
    "\n",
    "由于集合中的元素不能出现多次，这使得集合在很大程度上能够高效地从列表或元组中删除重复值，并执行取并集、交集等常见的的数学操作。"
   ]
  },
  {
   "cell_type": "markdown",
   "metadata": {},
   "source": [
    "#### 2.2.3.1集合的构造"
   ]
  },
  {
   "cell_type": "code",
   "execution_count": 6,
   "metadata": {},
   "outputs": [],
   "source": [
    "# 定义一个空集合：\n",
    "fruit = set() # 不能用 fruit = {} 构造一个空集合，为什么？"
   ]
  },
  {
   "cell_type": "code",
   "execution_count": 15,
   "metadata": {},
   "outputs": [],
   "source": [
    "#通过花括号定义带有元素的集合， 这个集合有几个元素？\n",
    "fruit = {'apple', 'orange', 'apple', 'pear', 'orange', 'banana'}\n",
    "#print('水果集合里包含 ' + str(len(fruit)) + ' 个元素')"
   ]
  },
  {
   "cell_type": "markdown",
   "metadata": {},
   "source": [
    "#### 2.2.3.2 修改集合"
   ]
  },
  {
   "cell_type": "code",
   "execution_count": 16,
   "metadata": {},
   "outputs": [
    {
     "name": "stdout",
     "output_type": "stream",
     "text": [
      "{'pear', 'banana', 'watermelon', 'apple', 'orange'}\n"
     ]
    }
   ],
   "source": [
    "# 向集合添加元素：\n",
    "fruit.add('watermelon')\n",
    "print(fruit)"
   ]
  },
  {
   "cell_type": "code",
   "execution_count": 9,
   "metadata": {},
   "outputs": [
    {
     "name": "stdout",
     "output_type": "stream",
     "text": [
      "{'pear', 'orange', 'banana'}\n"
     ]
    }
   ],
   "source": [
    "# 删除元素,方法一\n",
    "fruit.remove('apple')\n",
    "print(fruit)"
   ]
  },
  {
   "cell_type": "code",
   "execution_count": 10,
   "metadata": {},
   "outputs": [
    {
     "ename": "KeyError",
     "evalue": "'abc'",
     "output_type": "error",
     "traceback": [
      "\u001b[0;31m---------------------------------------------------------------------------\u001b[0m",
      "\u001b[0;31mKeyError\u001b[0m                                  Traceback (most recent call last)",
      "\u001b[0;32m<ipython-input-10-37f563083608>\u001b[0m in \u001b[0;36m<module>\u001b[0;34m\u001b[0m\n\u001b[1;32m      1\u001b[0m \u001b[0;31m#这种方法的一个缺点是，如果你想要删除一个集合中不存在的值，系统会返回一个键值错误 KeyError。\u001b[0m\u001b[0;34m\u001b[0m\u001b[0;34m\u001b[0m\u001b[0;34m\u001b[0m\u001b[0m\n\u001b[0;32m----> 2\u001b[0;31m \u001b[0mfruit\u001b[0m\u001b[0;34m.\u001b[0m\u001b[0mremove\u001b[0m\u001b[0;34m(\u001b[0m\u001b[0;34m'abc'\u001b[0m\u001b[0;34m)\u001b[0m\u001b[0;34m\u001b[0m\u001b[0;34m\u001b[0m\u001b[0m\n\u001b[0m",
      "\u001b[0;31mKeyError\u001b[0m: 'abc'"
     ]
    }
   ],
   "source": [
    "#这种方法的一个缺点是，如果你想要删除一个集合中不存在的值，系统会返回一个键值错误 KeyError。\n",
    "fruit.remove('abc')"
   ]
  },
  {
   "cell_type": "code",
   "execution_count": 11,
   "metadata": {},
   "outputs": [],
   "source": [
    "# 删除元素， 方法二：\n",
    "fruit.discard('pear')\n",
    "fruit.discard('abc')"
   ]
  },
  {
   "cell_type": "code",
   "execution_count": 14,
   "metadata": {},
   "outputs": [
    {
     "name": "stdout",
     "output_type": "stream",
     "text": [
      "{'banana'}\n"
     ]
    }
   ],
   "source": [
    "# 删除元素，方法三：\n",
    "fruit.pop()\n",
    "print(fruit)"
   ]
  },
  {
   "cell_type": "code",
   "execution_count": null,
   "metadata": {},
   "outputs": [],
   "source": [
    "# 删除元素，方法四：\n",
    "fruit.clear() #清空元素"
   ]
  },
  {
   "cell_type": "markdown",
   "metadata": {},
   "source": [
    "#### 2.2.3.3 集合的遍历"
   ]
  },
  {
   "cell_type": "code",
   "execution_count": 59,
   "metadata": {},
   "outputs": [
    {
     "name": "stdout",
     "output_type": "stream",
     "text": [
      "orange\n",
      "watermelon\n",
      "pear\n",
      "banana\n"
     ]
    }
   ],
   "source": [
    "# 遍历集合：\n",
    "for x in fruit:\n",
    "    print(x)"
   ]
  },
  {
   "cell_type": "markdown",
   "metadata": {},
   "source": [
    "#### 2.3.3.4 高级用法"
   ]
  },
  {
   "cell_type": "code",
   "execution_count": 60,
   "metadata": {},
   "outputs": [
    {
     "name": "stdout",
     "output_type": "stream",
     "text": [
      "False True False\n"
     ]
    }
   ],
   "source": [
    "# 1. 判断某个元素是否在集合中：\n",
    "b1 = 'apple' in fruit # False\n",
    "b2 = 'orange' in fruit # True\n",
    "b3 = 'banana' not in fruit # False\n",
    "print(b1, b2, b3)"
   ]
  },
  {
   "cell_type": "code",
   "execution_count": null,
   "metadata": {},
   "outputs": [],
   "source": [
    "# 注：in和not in也可以用在列表、元组和字典中：\n",
    "3 in [1,2,3]  # True\n",
    "3 in (1,2,3)  # True\n",
    "'a' in { 'a': 80, 'b': 70, 'c': 60 }  # True"
   ]
  },
  {
   "cell_type": "code",
   "execution_count": 19,
   "metadata": {},
   "outputs": [
    {
     "data": {
      "text/plain": [
       "['apple', 'banana', 'orange', 'pear', 'watermelon']"
      ]
     },
     "execution_count": 19,
     "metadata": {},
     "output_type": "execute_result"
    }
   ],
   "source": [
    "# 2.将集合变的有序\n",
    "sorted(fruit) #它会输出一个有序的列表\n",
    "## 反转\n",
    "#sorted(fruit,reverse=True)"
   ]
  },
  {
   "cell_type": "code",
   "execution_count": 20,
   "metadata": {},
   "outputs": [
    {
     "name": "stdout",
     "output_type": "stream",
     "text": [
      "[1, 2, 3, 7]\n"
     ]
    }
   ],
   "source": [
    "# 3. 用集合删除列表中的重复元素\n",
    "print(list(set([1, 2, 3, 1, 7]))) #集合是从列表（list）中删除重复值的最快的方法"
   ]
  },
  {
   "cell_type": "code",
   "execution_count": 1,
   "metadata": {},
   "outputs": [
    {
     "data": {
      "text/plain": [
       "{1, 2, 3, 7}"
      ]
     },
     "execution_count": 1,
     "metadata": {},
     "output_type": "execute_result"
    }
   ],
   "source": [
    "set([1, 2, 3, 1, 7])"
   ]
  },
  {
   "cell_type": "markdown",
   "metadata": {},
   "source": [
    "# 2.3 字典\n",
    "\n",
    "\n"
   ]
  },
  {
   "cell_type": "markdown",
   "metadata": {},
   "source": [
    "### 2.3.1 构造字典\n",
    "\n",
    "字典是一系列key-value对\n",
    "\n",
    "字典的每个键值 key=>value 对用冒号 : 分割，每个键值对之间用逗号 , 分割，整个字典包括在花括号 {} 中 ,格式如下所示：\n",
    "\n",
    "d = {key1 : value1, key2 : value2 }"
   ]
  },
  {
   "cell_type": "code",
   "execution_count": 27,
   "metadata": {},
   "outputs": [],
   "source": [
    "# 构造一个空字典：\n",
    "person = {}\n",
    "# 这也是一个空字典：\n",
    "person = dict()"
   ]
  },
  {
   "cell_type": "code",
   "execution_count": 28,
   "metadata": {},
   "outputs": [
    {
     "name": "stdout",
     "output_type": "stream",
     "text": [
      "Alice\n",
      "Your name is Alice\n",
      "Your age is 25\n"
     ]
    }
   ],
   "source": [
    "# 这个字典定义了两个key-value对。\n",
    "person = { 'name': 'Alice', 'age': 25 }\n",
    "\n",
    "#访问字典中的值，需要指定字典名和放在方括号内的键。\n",
    "\n",
    "print(person['name'])\n",
    "\n",
    "\n",
    "print('Your name is ' + person['name']) # 'Alice'\n",
    "print('Your age is ' + str(person['age'])) # 25"
   ]
  },
  {
   "cell_type": "code",
   "execution_count": 29,
   "metadata": {},
   "outputs": [
    {
     "ename": "KeyError",
     "evalue": "'abc'",
     "output_type": "error",
     "traceback": [
      "\u001b[0;31m---------------------------------------------------------------------------\u001b[0m",
      "\u001b[0;31mKeyError\u001b[0m                                  Traceback (most recent call last)",
      "\u001b[0;32m<ipython-input-29-ec488bab8e86>\u001b[0m in \u001b[0;36m<module>\u001b[0;34m\u001b[0m\n\u001b[1;32m      1\u001b[0m \u001b[0;31m# 使用get()来访问值。使用方括号方法可能会引发问题：如果指定的键不存在就会出错。比如：\u001b[0m\u001b[0;34m\u001b[0m\u001b[0;34m\u001b[0m\u001b[0;34m\u001b[0m\u001b[0m\n\u001b[0;32m----> 2\u001b[0;31m \u001b[0mperson\u001b[0m\u001b[0;34m[\u001b[0m\u001b[0;34m'abc'\u001b[0m\u001b[0;34m]\u001b[0m\u001b[0;34m\u001b[0m\u001b[0;34m\u001b[0m\u001b[0m\n\u001b[0m",
      "\u001b[0;31mKeyError\u001b[0m: 'abc'"
     ]
    }
   ],
   "source": [
    "# 使用方括号方法可能会引发问题：如果指定的键不存在就会出错。比如：\n",
    "person['abc']\n"
   ]
  },
  {
   "cell_type": "code",
   "execution_count": 30,
   "metadata": {},
   "outputs": [
    {
     "data": {
      "text/plain": [
       "'No point value assigned.'"
      ]
     },
     "execution_count": 30,
     "metadata": {},
     "output_type": "execute_result"
    }
   ],
   "source": [
    "#使用get()来访问值。\n",
    "person.get('abc','No point value assigned.')\n",
    "\n",
    "#如果指定的键有可能不存在的情况下，可以考虑使用get()"
   ]
  },
  {
   "cell_type": "code",
   "execution_count": 23,
   "metadata": {},
   "outputs": [
    {
     "data": {
      "text/plain": [
       "'3'"
      ]
     },
     "execution_count": 23,
     "metadata": {},
     "output_type": "execute_result"
    }
   ],
   "source": [
    "# 键一般是唯一的，如果重复最后的一个键值对会替换前面的，值不需要唯一。\n",
    "dic = {'a': 1, 'b': 2, 'b': '3'}\n",
    "dic['b']"
   ]
  },
  {
   "cell_type": "markdown",
   "metadata": {},
   "source": [
    "### 2.3.2 修改字典"
   ]
  },
  {
   "cell_type": "code",
   "execution_count": 62,
   "metadata": {},
   "outputs": [
    {
     "name": "stdout",
     "output_type": "stream",
     "text": [
      "{'name': 'Alice', 'age': 25, 'city': 'Hangzhou', 'GPA': 4.5}\n"
     ]
    }
   ],
   "source": [
    "# 向字典添加更多的key-value对。\n",
    "# 字典是一种动态结构，可随时在其中添加键值对。要添加键值对，可以此指定字典名、方括号括起来的键和相关联的值。\n",
    "person['city'] = 'Hangzhou'\n",
    "person['GPA'] = 4.5\n",
    "print(person)"
   ]
  },
  {
   "cell_type": "code",
   "execution_count": null,
   "metadata": {},
   "outputs": [],
   "source": [
    "# 修改字典中的值。\n",
    "person['GPA'] = 4.0\n",
    "print(person)"
   ]
  },
  {
   "cell_type": "code",
   "execution_count": null,
   "metadata": {},
   "outputs": [],
   "source": [
    "# 删除key-value对。\n",
    "del person['age']\n",
    "print(person)"
   ]
  },
  {
   "cell_type": "markdown",
   "metadata": {},
   "source": [
    "### 2.3.3 遍历字典"
   ]
  },
  {
   "cell_type": "code",
   "execution_count": 35,
   "metadata": {},
   "outputs": [
    {
     "name": "stdout",
     "output_type": "stream",
     "text": [
      "key:name\n",
      "value:Alice\n",
      "key:age\n",
      "value:25\n"
     ]
    }
   ],
   "source": [
    "# 遍历字典：\n",
    "for key,value in person.items():\n",
    "    print('Key  : ' + str(key)) \n",
    "    print('Value: ' + str(value))\n",
    "#     print(f'key:{key}')\n",
    "#     print(f\"value:{value}\")"
   ]
  },
  {
   "cell_type": "code",
   "execution_count": 33,
   "metadata": {},
   "outputs": [
    {
     "data": {
      "text/plain": [
       "dict_items([('name', 'Alice'), ('age', 25)])"
      ]
     },
     "execution_count": 33,
     "metadata": {},
     "output_type": "execute_result"
    }
   ],
   "source": [
    "person.items() #返回的是一个键值对列表。"
   ]
  },
  {
   "cell_type": "code",
   "execution_count": 64,
   "metadata": {},
   "outputs": [
    {
     "name": "stdout",
     "output_type": "stream",
     "text": [
      "dict_keys(['name', 'age', 'city', 'GPA'])\n"
     ]
    }
   ],
   "source": [
    "print(person.keys())"
   ]
  },
  {
   "cell_type": "code",
   "execution_count": 65,
   "metadata": {},
   "outputs": [
    {
     "name": "stdout",
     "output_type": "stream",
     "text": [
      "Key: name\tValue: Alice\n",
      "Key: age\tValue: 25\n",
      "Key: city\tValue: Hangzhou\n",
      "Key: GPA\tValue: 4.5\n"
     ]
    }
   ],
   "source": [
    "# 遍历字典中的key    \n",
    "for key in person.keys():\n",
    "    value = person[key]\n",
    "    print('Key: ' + str(key) + '\\t' + 'Value: ' + str(value))"
   ]
  },
  {
   "cell_type": "code",
   "execution_count": 66,
   "metadata": {},
   "outputs": [
    {
     "name": "stdout",
     "output_type": "stream",
     "text": [
      "Key: GPA\tValue: 4.5\n",
      "Key: age\tValue: 25\n",
      "Key: city\tValue: Hangzhou\n",
      "Key: name\tValue: Alice\n"
     ]
    }
   ],
   "source": [
    "# 遍历字典中的key并排序\n",
    "for key in sorted(person.keys()):\n",
    "    value = person[key]\n",
    "    print('Key: ' + str(key) + '\\t' + 'Value: ' + str(value))"
   ]
  },
  {
   "cell_type": "code",
   "execution_count": 67,
   "metadata": {},
   "outputs": [
    {
     "name": "stdout",
     "output_type": "stream",
     "text": [
      "Value: Alice\n",
      "Value: 25\n",
      "Value: Hangzhou\n",
      "Value: 4.5\n"
     ]
    }
   ],
   "source": [
    "# 遍历字典中的value\n",
    "for value in person.values():\n",
    "    print('Value: ' + str(value))"
   ]
  },
  {
   "cell_type": "code",
   "execution_count": 69,
   "metadata": {},
   "outputs": [
    {
     "name": "stdout",
     "output_type": "stream",
     "text": [
      "Edward:ruby\n",
      "Jen:python\n",
      "Phil:python\n",
      "Sarah:c\n"
     ]
    }
   ],
   "source": [
    "#按顺序遍历字典中的所有键.\n",
    "#字典总是明确地记录键和值之间的关联关系，但获取字典的元素时，获取顺序是不可预测的。\n",
    "#要以特定的顺序返回元素，一种办法是在for循环中对返回的键进行排序。为此，可使用函 数sorted()\n",
    "favorite_languages = {    \n",
    "    'jen': 'python',    \n",
    "    'sarah': 'c',    \n",
    "    'edward': 'ruby',    \n",
    "    'phil': 'python',    \n",
    "} \n",
    " \n",
    "for name in sorted(favorite_languages.keys()):    \n",
    "    #print(name.title() + \", 谢谢你的投票！\") \n",
    "    print(name.title()+':'+favorite_languages[name])"
   ]
  },
  {
   "cell_type": "code",
   "execution_count": 70,
   "metadata": {},
   "outputs": [
    {
     "data": {
      "text/plain": [
       "{'jen': 'python', 'sarah': 'c', 'edward': 'ruby', 'phil': 'python'}"
      ]
     },
     "execution_count": 70,
     "metadata": {},
     "output_type": "execute_result"
    }
   ],
   "source": [
    "favorite_languages"
   ]
  },
  {
   "cell_type": "code",
   "execution_count": 73,
   "metadata": {},
   "outputs": [
    {
     "name": "stdout",
     "output_type": "stream",
     "text": [
      "有下面的语言被提到：\n",
      "Python\n",
      "Ruby\n",
      "C\n"
     ]
    }
   ],
   "source": [
    "#通过对包含重复元素的列表调用set()，可让Python找出列表中独一无二的元素，并使用这 些元素来创建一个集合\n",
    "favorite_languages = {    \n",
    "    'jen': 'python',    \n",
    "    'sarah': 'c',    \n",
    "    'edward': 'ruby',    \n",
    "    'phil': 'python',    \n",
    "} \n",
    " \n",
    "print(\"有下面的语言被提到：\") \n",
    "for language in set(favorite_languages.values()):     \n",
    "    print(language.title()) \n",
    " "
   ]
  },
  {
   "cell_type": "code",
   "execution_count": 72,
   "metadata": {},
   "outputs": [
    {
     "data": {
      "text/plain": [
       "{'c', 'python', 'ruby'}"
      ]
     },
     "execution_count": 72,
     "metadata": {},
     "output_type": "execute_result"
    }
   ],
   "source": [
    "set(favorite_languages.values())"
   ]
  },
  {
   "cell_type": "markdown",
   "metadata": {},
   "source": [
    "#### 课堂练习\n",
    "1. 使用一个字典来存储一个熟人的信息，包括名、姓、年龄和居住的城市。\n",
    "该字典应包含键first_name、last_name、age和city。将存储在该字典中的每项信息都打印出来。\n",
    "2. 将这个字典的键和值分别用循环打印出来。"
   ]
  },
  {
   "cell_type": "markdown",
   "metadata": {},
   "source": [
    "# 2.4 嵌套"
   ]
  },
  {
   "cell_type": "code",
   "execution_count": 3,
   "metadata": {},
   "outputs": [
    {
     "name": "stdout",
     "output_type": "stream",
     "text": [
      "name,alice\n",
      "age,20\n",
      "name,bob\n",
      "age,22\n",
      "name,charlie\n",
      "age,23\n"
     ]
    }
   ],
   "source": [
    "# 可以在列表中嵌套字典、在字典中嵌套列表甚至在字典中嵌套字典。\n",
    "\n",
    "# 字典列表：\n",
    "\n",
    "person0 = { 'name': 'alice', 'age': 20 }\n",
    "person1 = { 'name': 'bob', 'age': 22 }\n",
    "person2 = { 'name': 'charlie', 'age': 23 }\n",
    "persons = [ person0, person1, person2 ]\n",
    "\n",
    "# persons\n",
    "for p in persons:\n",
    "#     print(p['name'], p['age'])\n",
    "    for k,v in p.items():\n",
    "        print(f\"{k},{v}\")"
   ]
  },
  {
   "cell_type": "code",
   "execution_count": 5,
   "metadata": {},
   "outputs": [
    {
     "name": "stdout",
     "output_type": "stream",
     "text": [
      "name\tage\t\n"
     ]
    }
   ],
   "source": [
    "head=''\n",
    "for k in persons[0].keys():\n",
    "    head+=k+\"\\t\"\n",
    "print(head)"
   ]
  },
  {
   "cell_type": "markdown",
   "metadata": {},
   "source": [
    "### 练习\n",
    "表头和数据分开显示。"
   ]
  },
  {
   "cell_type": "code",
   "execution_count": 10,
   "metadata": {},
   "outputs": [
    {
     "name": "stdout",
     "output_type": "stream",
     "text": [
      "You ordered a thick pizza with the following toppings:\n",
      "\tmushrooms\n",
      "\textra cheese\n"
     ]
    }
   ],
   "source": [
    "# 在字典中存储列表：\n",
    "\n",
    "pizza = {\n",
    "    'crust': 'thick',\n",
    "    'toppings': ['mushrooms', 'extra cheese']\n",
    "    }\n",
    "    \n",
    "print('You ordered a ' + pizza['crust'] + ' pizza ' +\n",
    "    'with the following toppings:')\n",
    "for t in pizza['toppings']:\n",
    "    print('\\t' + t)"
   ]
  },
  {
   "cell_type": "code",
   "execution_count": 13,
   "metadata": {},
   "outputs": [
    {
     "name": "stdout",
     "output_type": "stream",
     "text": [
      "You ordered a thick pizza with the following toppings:\n",
      "\tmushrooms\n",
      "\textra cheese\n"
     ]
    }
   ],
   "source": [
    "for k,v in pizza.items():\n",
    "    if type(v)==list:\n",
    "        for x in v:\n",
    "            print('\\t' + x)\n",
    "    else:\n",
    "        print('You ordered a ' + v + ' pizza ' +'with the following toppings:')"
   ]
  },
  {
   "cell_type": "code",
   "execution_count": 8,
   "metadata": {},
   "outputs": [
    {
     "name": "stdout",
     "output_type": "stream",
     "text": [
      "aaa\n"
     ]
    }
   ],
   "source": [
    "a=[1,2,3]\n",
    "if type(a)==list:\n",
    "    print('aaa')"
   ]
  },
  {
   "cell_type": "markdown",
   "metadata": {},
   "source": [
    "### 练习：\n",
    "\n",
    "构造学生信息表，包含学生姓名、年龄、学号以及所选课程。然后打印输出每个学生的选课信息。"
   ]
  },
  {
   "cell_type": "code",
   "execution_count": 6,
   "metadata": {},
   "outputs": [
    {
     "name": "stdout",
     "output_type": "stream",
     "text": [
      "alice,20,001,数据结构 Python 操作系统 \n"
     ]
    }
   ],
   "source": [
    "p={ 'name': 'alice', 'age': 20,'ID':'001','course':['数据结构','Python','操作系统']}\n",
    "\n",
    "for k in p:\n",
    "    name=p['name']\n",
    "    age=p['age']\n",
    "    ids=p['ID']\n",
    "    cours=p['course']\n",
    "    cos=''\n",
    "    for c in cours:\n",
    "        cos+=c+' '\n",
    "print(f\"{name},{age},{ids},{cos}\")\n",
    "\n",
    "p_2={'张三':{'age':20,'id':'001','course':['数据结构','c']},\n",
    "     '李四':{},\n",
    "     '王五':{}\n",
    "     '班级':'201'\n",
    "     '荣誉':[a,b,c,...]\n",
    "    }"
   ]
  },
  {
   "cell_type": "code",
   "execution_count": null,
   "metadata": {},
   "outputs": [],
   "source": [
    "# 另一个例子：\n",
    "\n",
    "favorite_languages = {\n",
    "    'jen': ['python', 'ruby'],\n",
    "    'sarah': ['c'],\n",
    "    'edward': ['ruby', 'go'],\n",
    "    'phil': ['python', 'haskell'],\n",
    "    }\n",
    "\n",
    "for name, languages in favorite_languages.items():\n",
    "    print('\\n' + name.title() + \"'s favorite languages are:\")\n",
    "    for language in languages:\n",
    "        print('\\t' + language.title())"
   ]
  },
  {
   "cell_type": "code",
   "execution_count": 77,
   "metadata": {},
   "outputs": [
    {
     "name": "stdout",
     "output_type": "stream",
     "text": [
      "\n",
      "User name: alovelace\n",
      "first:Ada\tlast:Lovelace\tnation:uk\t\n",
      "\n",
      "User name: rfrost\n",
      "first:robert\tlast:frost\tnation:US\t\n"
     ]
    }
   ],
   "source": [
    "# 在字典中存储字典：\n",
    "\n",
    "users = {\n",
    "    'alovelace': {\n",
    "        'first': 'Ada',\n",
    "        'last': 'Lovelace',\n",
    "        'nation': 'uk',\n",
    "        },\n",
    "        \n",
    "    'rfrost': {\n",
    "        'first': 'robert',\n",
    "        'last': 'frost',\n",
    "        'nation': 'US',\n",
    "        },\n",
    "    }\n",
    "    \n",
    "for user_name, user_info in users.items():\n",
    "    print('\\nUser name: ' + user_name)\n",
    "#     full_name = user_info['first'] + ' ' + user_info['last']\n",
    "#     nation = user_info['nation']\n",
    "#     print('\\tFull name: ' + full_name.title())\n",
    "#     print('\\tNation: ' + nation.upper())\n",
    "    st=''\n",
    "    for k,v in user_info.items():\n",
    "        st=st+k+':'+v+'\\t'\n",
    "    print(st)\n",
    "        "
   ]
  },
  {
   "cell_type": "code",
   "execution_count": null,
   "metadata": {},
   "outputs": [],
   "source": []
  },
  {
   "cell_type": "code",
   "execution_count": null,
   "metadata": {},
   "outputs": [],
   "source": []
  }
 ],
 "metadata": {
  "kernelspec": {
   "display_name": "Python 3",
   "language": "python",
   "name": "python3"
  },
  "language_info": {
   "codemirror_mode": {
    "name": "ipython",
    "version": 3
   },
   "file_extension": ".py",
   "mimetype": "text/x-python",
   "name": "python",
   "nbconvert_exporter": "python",
   "pygments_lexer": "ipython3",
   "version": "3.8.3"
  }
 },
 "nbformat": 4,
 "nbformat_minor": 4
}
