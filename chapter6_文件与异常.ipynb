{
 "cells": [
  {
   "cell_type": "markdown",
   "metadata": {},
   "source": [
    "# 6 文件与异常"
   ]
  },
  {
   "cell_type": "markdown",
   "metadata": {},
   "source": [
    "## 6.1 文件操作\n",
    "\n",
    "    文本文件可以存储的数据量非常多。要使用这些文本文件，就需要将信息读入到计算机内存中。\n",
    "    \n",
    "    读入内存的方法有两种：一次性读取文件的全部内容；每次一行的方式逐步读取\n",
    "    \n",
    "    要读取文件，需要知道文件在计算机中的位置，即文件路径。绝对文件路径和相对文件路径。\n",
    "    绝对文件路径：将文件在计算机中的准确位置高速Python，这样就不用关心当前运行的程序存储在什么地方了\n",
    "    相对路径：让Python到指定的位置去查找，比如文件夹和Python程序在同一个目录下，Python可以自己去查找。"
   ]
  },
  {
   "cell_type": "markdown",
   "metadata": {},
   "source": [
    "### 6.1.1 读取文件\n",
    "\n",
    "方法一： 逐行读取: with open (文件目录,编码方式)\n",
    "\n",
    "语法结构为：\n",
    "with open(filename) as object:\n",
    "\n",
    "    for line in object:\n",
    "    \n",
    "        print(line)"
   ]
  },
  {
   "cell_type": "code",
   "execution_count": 2,
   "metadata": {},
   "outputs": [
    {
     "name": "stdout",
     "output_type": "stream",
     "text": [
      "name,age\n",
      "张三,25\n",
      "李四,26\n",
      "王五,20\n"
     ]
    }
   ],
   "source": [
    "# 从文件中逐行读取：\n",
    "#students = [] # 创建一个空列表用来存放学生信息。\n",
    "# 使用with打开文件，Python会在合适的时候自动关闭该文件，不需要程序员显式地调用close函数，推荐使用with open() 将会返回一个 file 对象\n",
    "with open('data/test_chapter6_1/students.txt',encoding='utf-8') as f:#使用encoding编码格式来读取中文字符，否则会乱码 。英文字符则不需要\n",
    "    # 逐行读取：    \n",
    "    for line in f:\n",
    "#         print(line)\n",
    "        # 除去首尾空格\n",
    "        line = line.strip('\\n')\n",
    "        print(line)\n",
    "        if line.lower().startswith('name'):\n",
    "#             # 标题行，忽略\n",
    "            continue\n",
    "        fields = line.split(',')\n",
    "#         students.append(fields)\n",
    "# print(students)\n",
    "\n",
    "\n",
    "# 注意：print的输出结果会有空白行。\n",
    "# 在文件中，每行的末尾都有一个看不见换行符。\n",
    "# 在使用print函数输出的时候，也会在每行后面再加上一个换行符，这样就有两个换行符，一个来自文件，一个来自print函数。\n"
   ]
  },
  {
   "cell_type": "code",
   "execution_count": 3,
   "metadata": {},
   "outputs": [
    {
     "name": "stdout",
     "output_type": "stream",
     "text": [
      "{'张三': '25', '李四': '26', '王五': '20'}\n"
     ]
    }
   ],
   "source": [
    "u_info={}\n",
    "with open('data/test_chapter6_1/students.txt',encoding='utf-8') as f:\n",
    "    for line in f:\n",
    "        line=line.strip()\n",
    "        if line.lower().startswith('name'):\n",
    "            continue\n",
    "        name,age=line.split(',')\n",
    "        u_info[name]=age\n",
    "print(u_info)\n",
    "        \n",
    "        "
   ]
  },
  {
   "cell_type": "markdown",
   "metadata": {},
   "source": [
    "方法二：一次性读入文件内容\n",
    "\n",
    "不使用with，直接使用open"
   ]
  },
  {
   "cell_type": "code",
   "execution_count": 4,
   "metadata": {},
   "outputs": [
    {
     "name": "stdout",
     "output_type": "stream",
     "text": [
      "name,age\n",
      "张三,25\n",
      "李四,26\n",
      "王五,20\n"
     ]
    }
   ],
   "source": [
    "#如果不用with直接打开文件要记得调用 f.close() 来关闭文件并释放系统的资源，此时如果尝试再调用该文件，则会抛出异常，需要再次open。\n",
    "f = open(\"data/test_chapter6_1/students.txt\", \"r\", encoding='utf-8')\n",
    "\n",
    "st = f.read()\n",
    "print(st)\n",
    "\n",
    "# 关闭打开的文件\n",
    "f.close()"
   ]
  },
  {
   "cell_type": "code",
   "execution_count": 5,
   "metadata": {},
   "outputs": [
    {
     "name": "stdout",
     "output_type": "stream",
     "text": [
      "['name,age\\n', '张三,25\\n', '李四,26\\n', '王五,20']\n",
      "4\n",
      "name,age\n",
      "张三,25\n",
      "李四,26\n",
      "王五,20\n"
     ]
    }
   ],
   "source": [
    "#也可以使用python内置方法readlines()从文件中读取每一行，并将其存储到一个列表中\n",
    "filename = 'data/test_chapter6_1/students.txt'\n",
    "with open(filename,encoding = 'utf-8')as f:\n",
    "    lines = f.readlines()\n",
    "    \n",
    "print(lines)  \n",
    "print(len(lines))\n",
    "for line in lines:\n",
    "    print(line.rstrip('\\n'))\n"
   ]
  },
  {
   "cell_type": "code",
   "execution_count": null,
   "metadata": {},
   "outputs": [],
   "source": [
    "#通过记事本新建一个文件，文件里有多个“张三”这个姓名，用replace()函数把这个姓名替换成“李四”，再打印出来\n",
    "#replace函数用法示例：message.replace('dog','cat')表示message中的dog替换成cat\n",
    "filename = 'data/test_chapter6_1/students.txt'\n",
    "with open(filename,encoding = 'utf-8')as f:\n",
    "    lines = f.readlines()\n",
    "for line in lines:\n",
    "    print(line.rstrip('\\n').replace('张三','李四'))\n"
   ]
  },
  {
   "cell_type": "markdown",
   "metadata": {},
   "source": [
    "### 6.1.2 写入文件"
   ]
  },
  {
   "cell_type": "code",
   "execution_count": 5,
   "metadata": {},
   "outputs": [],
   "source": [
    "# 写入文件,使用函数write（）：\n",
    "#写入一个txt文件不需要新建txt文档，python会自动新建一个open（）里的文件名的文件\n",
    "file_name = 'tmp.txt'\n",
    "with open(file_name, 'a') as f:  # 'w'会清空已有文件，若要添加，用'a'\n",
    "#     f.write('I love programming')\n",
    "    f.write('I love programming.\\n') #write()不会在写入的文本末尾添加换行符，因此如果写入多行的话需要在末尾加上'\\n'\n",
    "    f.write('I love Python.'+'\\n')\n"
   ]
  },
  {
   "cell_type": "code",
   "execution_count": null,
   "metadata": {},
   "outputs": [],
   "source": [
    "#如果你要给文件添加内容，而不是覆盖原有的内容，可以附加模式打开文件。\n",
    "with open(file_name,'a') as f:\n",
    "    f.write('I also love Python.\\n')"
   ]
  },
  {
   "cell_type": "code",
   "execution_count": null,
   "metadata": {},
   "outputs": [],
   "source": [
    "#编写一个程序，提示用户输入其名字；用户作出响应后，将其名字写入到文件 name_file.txt中。确保每个名字独占一行\n",
    "while True:\n",
    "    name=input('请输入姓名：')\n",
    "    if name!='exit':\n",
    "        with open('name_file.txt','a')as f:\n",
    "            f.write(name+'\\n')\n",
    "    else:\n",
    "        break\n"
   ]
  },
  {
   "cell_type": "markdown",
   "metadata": {},
   "source": [
    "注意：  Excel文件的读写\n",
    "\n",
    "用xlrd和xlwt进行excel读写；\n",
    "\n",
    "用openpyxl进行excel读写；\n",
    "\n",
    "用pandas进行excel读写；"
   ]
  },
  {
   "cell_type": "markdown",
   "metadata": {},
   "source": [
    "练习：\n",
    "\n",
    "1.编写一个 while 循环，询问用户为何喜欢编程。每当用户输入一个原因后，都将其添加到一个存储所有原因的文件中。\n",
    "2.编写一个程序，提示用户输入其名字；用户作出响应后，将其名字写入到文件guest.txt中。"
   ]
  },
  {
   "cell_type": "markdown",
   "metadata": {},
   "source": [
    "## 6.2 异常\n",
    "\n",
    "每当python发生错误时都会创建一个异常对象。如果你编写了处理该异常的代码，程序将继续运行；\n",
    "\n",
    "如果你未对异常进行处理，程序将停止，并显示一个traceback，其中包含有关异常的报告。\n",
    "\n",
    "异常是使用try-except代码块处理的。try-except代码块让Python执行指定的操作"
   ]
  },
  {
   "cell_type": "code",
   "execution_count": 19,
   "metadata": {},
   "outputs": [
    {
     "ename": "ZeroDivisionError",
     "evalue": "division by zero",
     "output_type": "error",
     "traceback": [
      "\u001b[0;31m---------------------------------------------------------------------------\u001b[0m",
      "\u001b[0;31mZeroDivisionError\u001b[0m                         Traceback (most recent call last)",
      "\u001b[0;32m<ipython-input-19-fad870a50e27>\u001b[0m in \u001b[0;36m<module>\u001b[0;34m\u001b[0m\n\u001b[0;32m----> 1\u001b[0;31m \u001b[0mprint\u001b[0m\u001b[0;34m(\u001b[0m\u001b[0;36m5\u001b[0m\u001b[0;34m/\u001b[0m\u001b[0;36m0\u001b[0m\u001b[0;34m)\u001b[0m\u001b[0;34m\u001b[0m\u001b[0;34m\u001b[0m\u001b[0m\n\u001b[0m",
      "\u001b[0;31mZeroDivisionError\u001b[0m: division by zero"
     ]
    }
   ],
   "source": [
    "print(5/0)"
   ]
  },
  {
   "cell_type": "code",
   "execution_count": null,
   "metadata": {},
   "outputs": [],
   "source": [
    "#处理ZeroDivisionError 异常 \n",
    "try:\n",
    "    print(5/0)\n",
    "except ZeroDivisionError:\n",
    "     print(\"You can't divide by zero!\") "
   ]
  },
  {
   "cell_type": "code",
   "execution_count": 9,
   "metadata": {},
   "outputs": [
    {
     "name": "stdout",
     "output_type": "stream",
     "text": [
      "Give me two numbers, and I'll divide them.\n",
      "Enter 'q' to quit.\n"
     ]
    },
    {
     "name": "stdin",
     "output_type": "stream",
     "text": [
      "\n",
      "First number:  10\n",
      "Second number:  5\n"
     ]
    },
    {
     "name": "stdout",
     "output_type": "stream",
     "text": [
      "2.0\n"
     ]
    },
    {
     "name": "stdin",
     "output_type": "stream",
     "text": [
      "\n",
      "First number:  q\n"
     ]
    }
   ],
   "source": [
    "#依赖于try代码块成功执行的代码可以放到else代码块中： \n",
    "print(\"Give me two numbers, and I'll divide them.\")\n",
    "print(\"Enter 'q' to quit.\")\n",
    " \n",
    "while True:    \n",
    "    first_number = input(\"\\nFirst number: \")\n",
    "    if first_number == 'q':         \n",
    "        break     \n",
    "    second_number = input(\"Second number: \")    \n",
    "    try:\n",
    "        answer = int(first_number) / int(second_number)\n",
    "    except ZeroDivisionError: \n",
    "        print(\"You can't divide by 0!\")    \n",
    "    else:      \n",
    "        print(answer)\n",
    " "
   ]
  },
  {
   "cell_type": "code",
   "execution_count": null,
   "metadata": {},
   "outputs": [],
   "source": [
    "#处理FileNotFoundError 异常 \n",
    "filename = 'alice.txt'\n",
    "try:\n",
    "    with open(filename) as f_obj:\n",
    "        msg = f_obj.read()\n",
    "except FileNotFoundError:\n",
    "    msg = \"Sorry, the file \" + filename + \" does not exist.\"\n",
    "print(msg) "
   ]
  },
  {
   "cell_type": "code",
   "execution_count": null,
   "metadata": {},
   "outputs": [],
   "source": [
    "#处理异常也可以用pass使得python什么也不做\n",
    "filename = 'alice.txt'\n",
    "try:\n",
    "    with open(filename) as f_obj:\n",
    "        contents = f_obj.read()\n",
    "except FileNotFoundError:\n",
    "    pass\n",
    "   "
   ]
  },
  {
   "cell_type": "markdown",
   "metadata": {},
   "source": [
    "    练习1：\n",
    "\n",
    "    编写一个加法器，不仅将计算结果打印出来，还要存入文件。但是有时候用户提供的是文本而不是数字，在这种情况下，当你尝试将输入转换为整数时，将引发 TypeError异常。在用户输入的任何一个值不是数字时都捕获 TypeError 异常，并打印一条友好的错误消息。"
   ]
  },
  {
   "cell_type": "code",
   "execution_count": 20,
   "metadata": {},
   "outputs": [
    {
     "name": "stdin",
     "output_type": "stream",
     "text": [
      "请输入第一个数字： 0\n",
      "请输入第二个数字： 1\n"
     ]
    },
    {
     "name": "stdout",
     "output_type": "stream",
     "text": [
      "1\n",
      "输入错误，请输入两个数字！\n"
     ]
    },
    {
     "name": "stdin",
     "output_type": "stream",
     "text": [
      "请输入第一个数字： exit\n"
     ]
    }
   ],
   "source": [
    "\n",
    "while True:\n",
    "    num_1=input('请输入第一个数字：')\n",
    "    if num_1!='exit':\n",
    "        num_2=input('请输入第二个数字：')\n",
    "        try:\n",
    "            s=int(num_1)+int(num_2)\n",
    "            print(s)\n",
    "            with open(r'_file.txt','a')as f:\n",
    "                f.write(str(s)+'\\n')\n",
    "        except:\n",
    "            print('输入错误，请输入两个数字！')           \n",
    "    else:\n",
    "        break"
   ]
  },
  {
   "cell_type": "markdown",
   "metadata": {},
   "source": [
    "    练习2：\n",
    "\n",
    "    创建两个文件cats.txt和dogs.txt，在第一个文件中至少存储三只猫的名字，在第二个文件中至少存储三条狗的名字。\n",
    "    编写一个程序，尝试读取这些文件，并将其内容打印到屏幕上。将这些代码放在一个try-except代码块中，以便在文件不存在时捕获FileNotFound错误，并打印一条友好的消息。"
   ]
  },
  {
   "source": [
    "## 6.3 使用os模块来操作文件\n",
    "\n",
    " 模块提供了非常丰富的方法用来处理文件和目录。"
   ],
   "cell_type": "markdown",
   "metadata": {}
  },
  {
   "source": [
    "### 6.3.1 利用os模块查找文件目录 "
   ],
   "cell_type": "markdown",
   "metadata": {}
  },
  {
   "cell_type": "code",
   "execution_count": 1,
   "metadata": {},
   "outputs": [
    {
     "output_type": "execute_result",
     "data": {
      "text/plain": [
       "'/Users/liutongcun/works/学校工作/ZAFU/教学/Python程序设计/Python课件_jupyter版'"
      ]
     },
     "metadata": {},
     "execution_count": 1
    }
   ],
   "source": [
    "# 1. 获得指定目录下的所有文件\n",
    "import os\n",
    "# os.listdir('data')\n",
    "os.getcwd()"
   ]
  },
  {
   "cell_type": "code",
   "execution_count": 8,
   "metadata": {},
   "outputs": [
    {
     "output_type": "execute_result",
     "data": {
      "text/plain": [
       "'data/students.xlsx'"
      ]
     },
     "metadata": {},
     "execution_count": 8
    }
   ],
   "source": [
    "#2. 完整路径拼接\n",
    "os.path.join('data','students.xlsx')"
   ]
  },
  {
   "cell_type": "code",
   "execution_count": 9,
   "metadata": {},
   "outputs": [
    {
     "output_type": "execute_result",
     "data": {
      "text/plain": [
       "False"
      ]
     },
     "metadata": {},
     "execution_count": 9
    }
   ],
   "source": [
    "#3. 判断路径是否是目录\n",
    "os.path.isdir('data/students.xlsx')"
   ]
  },
  {
   "cell_type": "code",
   "execution_count": 2,
   "metadata": {},
   "outputs": [
    {
     "output_type": "stream",
     "name": "stdout",
     "text": [
      "在data目录及其子目录下找到1个py文件\n分别为：\n\ndata/test_chapter6_2/lala.py\n\n"
     ]
    }
   ],
   "source": [
    "#练习：\n",
    "# 利用os获得指定目录下的所有py文件路径。\n",
    "import os\n",
    "\"\"\"获取指定目录及其子目录下的 py 文件路径：l 用于存储找到的 py 文件路径； get_py 函数，递归查找并存储 py 文件路径于 l\"\"\"\n",
    "l = []\n",
    "def get_py(path,l):\n",
    "    fileList = os.listdir(path)   #获取path目录下所有文件\n",
    "    for filename in fileList:\n",
    "        pathTmp = os.path.join(path,filename)   #获取path与filename组合后的路径\n",
    "        if os.path.isdir(pathTmp):   #如果是目录\n",
    "            get_py(pathTmp,l)        #则递归查找\n",
    "        elif filename[-3:].upper()=='.PY':   #不是目录,则比较后缀名\n",
    "            l.append(pathTmp)\n",
    "path = input('请输入路径:').strip()\n",
    "get_py(path,l)\n",
    "print('在%s目录及其子目录下找到%d个py文件\\n分别为：\\n'%(path,len(l)))\n",
    "for filepath in l:\n",
    "    print(filepath+'\\n')"
   ]
  },
  {
   "source": [
    "### 6.3.2 利用os模块批量修改文件名"
   ],
   "cell_type": "markdown",
   "metadata": {}
  },
  {
   "cell_type": "code",
   "execution_count": 24,
   "metadata": {},
   "outputs": [
    {
     "output_type": "stream",
     "name": "stdout",
     "text": [
      "data/students.xlsx\ndata/1.txt\ndata/students.xlsx ======> data/1.txt\ndata/test_chapter6_1\ndata/2.txt\ndata/test_chapter6_1 ======> data/2.txt\ndata/new_test.csv\ndata/3.txt\ndata/new_test.csv ======> data/3.txt\ndata/test.csv\ndata/4.txt\ndata/test.csv ======> data/4.txt\ndata/data_type.txt\ndata/5.txt\ndata/data_type.txt ======> data/5.txt\ndata/test_chapter6_4\ndata/6.txt\ndata/test_chapter6_4 ======> data/6.txt\ndata/test_chapter6_3\ndata/7.txt\ndata/test_chapter6_3 ======> data/7.txt\ndata/test_chapter6_2\ndata/8.txt\ndata/test_chapter6_2 ======> data/8.txt\ndata/流量练习数据.xls\ndata/9.txt\ndata/流量练习数据.xls ======> data/9.txt\ndata/清洗数据集.xlsx\ndata/10.txt\ndata/清洗数据集.xlsx ======> data/10.txt\ndata/apply案例数据.xlsx\ndata/11.txt\ndata/apply案例数据.xlsx ======> data/11.txt\ndata/data_singlevar.txt\ndata/12.txt\ndata/data_singlevar.txt ======> data/12.txt\n"
     ]
    }
   ],
   "source": [
    "#python 对文件进行批量改名用到的是 os 模块中的 listdir 方法和 rename 方法。本代码运行文件相对路径为“data/test_chapter6_3”\n",
    "#此代码第一次运行可能出现报错'str' object is not callable，这是jupyter内核问题，可尝试重启jupyter服务或者用pycharm运行\n",
    "import os\n",
    "\n",
    "path=input('请输入文件路径：')       \n",
    "fileList=os.listdir(path)#获取该目录下所有文件，存入列表中\n",
    "\n",
    "for i in range(len(fileList)):        \n",
    "    oldname=os.path.join(path,fileList[i])#设置旧文件名（就是路径+文件名）   \n",
    "    print(oldname)   \n",
    "    newname=os.path.join(path,str(i+1) + '.txt') #设置新文件名\n",
    "    print(newname)\n",
    "\n",
    "    os.rename(oldname,newname)   #用os模块中的rename方法对文件改名\n",
    "    print(oldname,'======>',newname)\n",
    "    "
   ]
  }
 ],
 "metadata": {
  "kernelspec": {
   "name": "python383jvsc74a57bd0dca0ade3e726a953b501b15e8e990130d2b7799f14cfd9f4271676035ebe5511",
   "display_name": "Python 3.8.3 64-bit ('anaconda3': virtualenv)"
  },
  "language_info": {
   "codemirror_mode": {
    "name": "ipython",
    "version": 3
   },
   "file_extension": ".py",
   "mimetype": "text/x-python",
   "name": "python",
   "nbconvert_exporter": "python",
   "pygments_lexer": "ipython3",
   "version": "3.8.3"
  }
 },
 "nbformat": 4,
 "nbformat_minor": 4
}