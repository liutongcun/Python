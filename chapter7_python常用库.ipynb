{
 "cells": [
  {
   "cell_type": "markdown",
   "metadata": {},
   "source": [
    "# 7 Python的常见标准库\n",
    "\n",
    "python内置了一些强大的标准库，这些库不需要安装即可直接调用，下面让我们了解一下常见的标准库的基本用法。\n",
    "主要掌握以下几个Python内置标准库的使用：\n",
    "\n",
    "1. re模块\n",
    "\n",
    "2. math模块\n",
    "\n",
    "3. random模块\n",
    "\n",
    "4. statistics模块\n",
    "\n",
    "5. datetime模块"
   ]
  },
  {
   "cell_type": "markdown",
   "metadata": {},
   "source": [
    "## 7.1 re模块\n",
    "\n",
    "re模块是python的正则表达式，能够帮助我们方便的检查一个字符串是否与某种模式匹配。"
   ]
  },
  {
   "cell_type": "code",
   "execution_count": 1,
   "metadata": {},
   "outputs": [
    {
     "output_type": "stream",
     "name": "stdout",
     "text": [
      "(0, 3)\nNone\n"
     ]
    }
   ],
   "source": [
    "import re\n",
    "print(re.match('www', 'www.runoob.com').span())  # 在起始位置匹配,返回起始到结束的索引\n",
    "print(re.match('com', 'www.zafu.com'))         # re.match 只匹配字符串的开始，不在起始位置匹配,会返回None"
   ]
  },
  {
   "cell_type": "code",
   "execution_count": 2,
   "metadata": {},
   "outputs": [
    {
     "output_type": "stream",
     "name": "stdout",
     "text": [
      "(0, 3)\n(4, 7)\n"
     ]
    }
   ],
   "source": [
    "#re.match 只匹配字符串的开始，如果字符串开始不符合正则表达式，则匹配失败，函数返回 None，\n",
    "#而 re.search 匹配整个字符串，直到找到一个匹配。\n",
    "print(re.search('www', 'www.runoob.com').span())  # 在起始位置匹配\n",
    "print(re.search('run', 'www.runoob.com').span())         # 不在起始位置匹配"
   ]
  },
  {
   "cell_type": "code",
   "execution_count": 5,
   "metadata": {},
   "outputs": [
    {
     "output_type": "stream",
     "name": "stdout",
     "text": [
      "电话号码 :  2004-959-559 \n电话号码 :  2004959559\n"
     ]
    }
   ],
   "source": [
    "import re\n",
    "phone = \"2004-959-559 # 这是一个电话号码 #这不是电话号码吗\"\n",
    " # 删除注释\n",
    "'''\n",
    "$ 匹配输入字符串的结尾位置\n",
    "* 匹配前面的子表达式零次或多次\n",
    ". 匹配除换行符 \\n 之外的任何单字符\n",
    "'''\n",
    "num = re.sub(r'#.*$', \"\", phone)\n",
    "print (\"电话号码 : \", num)\n",
    " \n",
    "# 移除非数字的内容\n",
    "num = re.sub(r'\\D', \"\", num.strip())\n",
    "print (\"电话号码 : \", num)\n",
    "\n",
    "# 其余的正则化表示参照：https://www.runoob.com/regexp/regexp-syntax.html"
   ]
  },
  {
   "cell_type": "code",
   "execution_count": null,
   "metadata": {},
   "outputs": [],
   "source": [
    "\n",
    "'2004*959*559'"
   ]
  },
  {
   "cell_type": "markdown",
   "metadata": {},
   "source": [
    "####\n",
    "\n",
    "1. re.sub(r'[0-9]', '*', s) 这句话则表示只匹配单一数字，并将每一个数字替换为一个星号\n",
    "2. re.sub(r'[a-z]', '*', s) 这句话则表示只匹配单一小写字母，并将每一个小写字母替换为一个星号 。\n",
    "3. re.sub(r'[A-Z]', '*', s) 这句话则表示只匹配单一大写字母，并将每一个大写字母替换为一个星号 。\n",
    "4. re.sub(r'[A-Za-z]', '*', s) 这句话则表示只匹配单一字母，并将每一个字母替换为一个星号 。\n",
    "5. re.sub(r'[0-9A-Z]', '*', s) 这句话则表示只匹配单一数字和大写字母，并将每一个数字和大写字母替换为一个星号 。\n",
    "6. re.sub(r'[0-9a-z]', '*', s) 这句话则表示只匹配单一数字和小写字母，并将每一个数字和小写字母替换为一个星号 。\n",
    "7. re.sub(r'[0-9A-Za-z]', '*', s) 这句话则表示只匹配单一数字和字母，并将每一个数字和字母替换为一个星号 。\n",
    "8. re.sub(r'[0-9]+', '*', s) 这句话则表示匹配多个连续的数字，并将多个连续的数字替换为一个星号 。\n",
    "9. re.sub(r'[a-z]+', '*', s) 这句话则表示匹配多个连续的小写字母，并将多个连续的小写字母替换为一个星号 。"
   ]
  },
  {
   "cell_type": "code",
   "execution_count": 3,
   "metadata": {},
   "outputs": [
    {
     "output_type": "execute_result",
     "data": {
      "text/plain": [
       "'123456******'"
      ]
     },
     "metadata": {},
     "execution_count": 3
    }
   ],
   "source": [
    "import re\n",
    "s='123456sssttt'\n",
    "re.sub(r'[a-z]', '*', s) "
   ]
  },
  {
   "cell_type": "code",
   "execution_count": 4,
   "metadata": {},
   "outputs": [
    {
     "data": {
      "text/plain": [
       "'*sssttt'"
      ]
     },
     "execution_count": 4,
     "metadata": {},
     "output_type": "execute_result"
    }
   ],
   "source": [
    "re.sub(r'[0-9]+', '*', s)"
   ]
  },
  {
   "cell_type": "markdown",
   "metadata": {},
   "source": [
    "## 7.2 math模块"
   ]
  },
  {
   "cell_type": "code",
   "execution_count": 10,
   "metadata": {},
   "outputs": [
    {
     "name": "stdout",
     "output_type": "stream",
     "text": [
      "取大于等于x的最小的整数值，如果x是一个整数，则返回x: 5\n"
     ]
    }
   ],
   "source": [
    "#math 模块提供了许多对浮点数的数学运算函数。\n",
    "import math\n",
    "print('取大于等于x的最小的整数值，如果x是一个整数，则返回x:',math.ceil(4.12))"
   ]
  },
  {
   "cell_type": "code",
   "execution_count": 11,
   "metadata": {},
   "outputs": [
    {
     "name": "stdout",
     "output_type": "stream",
     "text": [
      "floor()取小于等于x的最大的整数值，如果x是一个整数，则返回自身: 4\n"
     ]
    }
   ],
   "source": [
    "print('floor()取小于等于x的最大的整数值，如果x是一个整数，则返回自身:',math.floor(4.99))"
   ]
  },
  {
   "cell_type": "code",
   "execution_count": 12,
   "metadata": {},
   "outputs": [
    {
     "name": "stdout",
     "output_type": "stream",
     "text": [
      "10.0\n"
     ]
    }
   ],
   "source": [
    "print(math.sqrt(100))"
   ]
  },
  {
   "cell_type": "markdown",
   "metadata": {},
   "source": [
    "#### 其他常用函数\n",
    "\n",
    "math.exp(x)\n",
    "\n",
    "math. pow(x, y)\n",
    "\n",
    "math. pi"
   ]
  },
  {
   "cell_type": "markdown",
   "metadata": {},
   "source": [
    "## 7.3 random模块"
   ]
  },
  {
   "cell_type": "code",
   "execution_count": 9,
   "metadata": {},
   "outputs": [
    {
     "output_type": "execute_result",
     "data": {
      "text/plain": [
       "0.31152686220790726"
      ]
     },
     "metadata": {},
     "execution_count": 9
    }
   ],
   "source": [
    "#random() 方法返回随机生成的一个实数，它在[0,1)范围内。\n",
    "import random\n",
    "random.random()"
   ]
  },
  {
   "cell_type": "code",
   "execution_count": null,
   "metadata": {},
   "outputs": [],
   "source": [
    "import random\n",
    "\n",
    "print( random.randint(1,10) )        # 产生 1 到 10 的一个整数型随机数  \n",
    "print( random.random() )             # 产生 0 到 1 之间的随机浮点数\n",
    "print( random.uniform(1.1,5.4) )     # 产生  1.1 到 5.4 之间的随机浮点数，区间可以不是整数\n",
    "print( random.choice('tomorrow') )   # 从序列中随机选取一个元素\n",
    "print( random.randrange(1,100,2) )   # 生成从1到100的间隔为2的随机整数\n",
    "\n",
    "a=[1,3,5,6,7]                # 将序列a中的元素顺序打乱\n",
    "random.shuffle(a)\n",
    "print(a)"
   ]
  },
  {
   "cell_type": "code",
   "execution_count": 19,
   "metadata": {},
   "outputs": [
    {
     "data": {
      "text/plain": [
       "3"
      ]
     },
     "execution_count": 19,
     "metadata": {},
     "output_type": "execute_result"
    }
   ],
   "source": [
    "random.randint(1,10)"
   ]
  },
  {
   "cell_type": "markdown",
   "metadata": {},
   "source": [
    "## 7.4 statistics模块"
   ]
  },
  {
   "cell_type": "code",
   "execution_count": 6,
   "metadata": {},
   "outputs": [
    {
     "output_type": "stream",
     "name": "stdout",
     "text": [
      "3.5\n"
     ]
    }
   ],
   "source": [
    "#统计模块statistics\n",
    "import statistics \n",
    "example_list = [1,2,3,4,5,6]\n",
    "x = statistics.mean(example_list)\n",
    "print(x)\n",
    "# statistics.max()\n",
    "#min()"
   ]
  },
  {
   "cell_type": "code",
   "execution_count": 22,
   "metadata": {},
   "outputs": [
    {
     "name": "stdout",
     "output_type": "stream",
     "text": [
      "3.5\n"
     ]
    }
   ],
   "source": [
    "x = statistics.median(example_list)\n",
    "print(x)"
   ]
  },
  {
   "cell_type": "code",
   "execution_count": 7,
   "metadata": {},
   "outputs": [
    {
     "output_type": "stream",
     "name": "stdout",
     "text": [
      "3\n"
     ]
    }
   ],
   "source": [
    "x = statistics.mode([1,1,2,3,4,3,3,3,3]) #用于计算一组数据的众数，即在数据中出现次数最多的数\n",
    "print(x)"
   ]
  },
  {
   "cell_type": "markdown",
   "metadata": {},
   "source": [
    "## 7.5 datetime模块"
   ]
  },
  {
   "cell_type": "code",
   "execution_count": 4,
   "metadata": {},
   "outputs": [
    {
     "output_type": "stream",
     "name": "stdout",
     "text": [
      "2021-05-26\n26/05/2021\n1941-01-05\n"
     ]
    }
   ],
   "source": [
    "import datetime\n",
    "\n",
    "print(datetime.date.today()) \n",
    "print(datetime.date.today().strftime('%d/%m/%Y'))\n",
    "print(datetime.date(1941, 1, 5))\n"
   ]
  },
  {
   "cell_type": "code",
   "execution_count": 29,
   "metadata": {},
   "outputs": [
    {
     "name": "stdout",
     "output_type": "stream",
     "text": [
      "05/01/1941\n"
     ]
    }
   ],
   "source": [
    "td=datetime.date(1941, 1, 5).strftime('%d/%m/%Y')\n",
    "print(td)"
   ]
  }
 ],
 "metadata": {
  "kernelspec": {
   "name": "python383jvsc74a57bd0dca0ade3e726a953b501b15e8e990130d2b7799f14cfd9f4271676035ebe5511",
   "display_name": "Python 3.8.3 64-bit ('base': conda)"
  },
  "language_info": {
   "codemirror_mode": {
    "name": "ipython",
    "version": 3
   },
   "file_extension": ".py",
   "mimetype": "text/x-python",
   "name": "python",
   "nbconvert_exporter": "python",
   "pygments_lexer": "ipython3",
   "version": "3.8.3"
  }
 },
 "nbformat": 4,
 "nbformat_minor": 4
}